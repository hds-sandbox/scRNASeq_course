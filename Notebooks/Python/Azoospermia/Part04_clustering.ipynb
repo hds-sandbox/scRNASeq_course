{
 "cells": [
  {
   "cell_type": "markdown",
   "metadata": {},
   "source": [
    "***Import libraires and data, set up stuff***"
   ]
  },
  {
   "cell_type": "code",
   "execution_count": null,
   "metadata": {},
   "outputs": [],
   "source": [
    "import scanpy as sc\n",
    "import pandas as pd\n",
    "import scvelo as scv\n",
    "import numpy as np\n",
    "import seaborn as sns\n",
    "import matplotlib.pyplot as plt\n",
    "import sklearn\n",
    "import anndata as ad"
   ]
  },
  {
   "cell_type": "code",
   "execution_count": null,
   "metadata": {},
   "outputs": [],
   "source": [
    "plt.rcParams['figure.figsize']=(6,6) #rescale figures"
   ]
  },
  {
   "cell_type": "code",
   "execution_count": null,
   "metadata": {},
   "outputs": [],
   "source": [
    "sample = sc.read('../../../Data/notebooks_data/crypto_123.filt.norm.red.h5ad')"
   ]
  },
  {
   "cell_type": "markdown",
   "metadata": {},
   "source": [
    "Clustering"
   ]
  },
  {
   "cell_type": "code",
   "execution_count": null,
   "metadata": {},
   "outputs": [],
   "source": [
    "markers = dict() #make an empty dictionary\n",
    "### SPERMATOCYTOGENESIS\n",
    "markers['SpermatogoniaA'] = ['ID4']\n",
    "markers['SpermatogoniaB'] = ['MKI67','DMRT1','STRA8'] \n",
    "markers['SpermatocytesI'] = ['MEIOB','SYCP1','TEX101']\n",
    "markers['SpermatocytesII'] = ['PIWIL1','SPATA16','CLGN']\n",
    "### SPERMIOGENESIS\n",
    "markers['Round.Spt'] = ['SPATA9','SPAM1'] #Round spermatids\n",
    "markers['Elong.Spt'] = ['PRM1','PRM2','PRM3','AKAP4'] #Elongated spermatids\n",
    "### SOMATIC CELLS\n",
    "markers['Sertoli'] = ['VIM','CTSL']\n",
    "markers['Macroph'] = ['CD14']\n",
    "markers['Leydig'] = ['CFD']\n",
    "markers['Endothelial'] = ['CD34']\n",
    "markers['Myoid'] = ['ACTA2']\n",
    "\n",
    "plt.rcParams['figure.figsize'] = (6,6) #reduce figure size"
   ]
  },
  {
   "cell_type": "code",
   "execution_count": null,
   "metadata": {},
   "outputs": [],
   "source": [
    "for i in list( markers.keys() ):\n",
    "    markers[i] = np.intersect1d(markers[i], sample.var_names)"
   ]
  },
  {
   "cell_type": "code",
   "execution_count": null,
   "metadata": {},
   "outputs": [],
   "source": [
    "sc.plotting.umap(sample, color=markers['SpermatogoniaA'], vmin=-1, vmax=3, s=30)"
   ]
  },
  {
   "cell_type": "code",
   "execution_count": null,
   "metadata": {},
   "outputs": [],
   "source": [
    "sc.plotting.umap(sample, color=markers['SpermatogoniaB'], vmin=-1, vmax=3, s=30)"
   ]
  },
  {
   "cell_type": "code",
   "execution_count": null,
   "metadata": {},
   "outputs": [],
   "source": [
    "sc.plotting.umap(sample, color=markers['SpermatocytesI'], vmin=-1, vmax=3, s=30)"
   ]
  },
  {
   "cell_type": "code",
   "execution_count": null,
   "metadata": {},
   "outputs": [],
   "source": [
    "sc.plotting.umap(sample, color=markers['SpermatocytesII'], vmin=-1, vmax=3, s=30)"
   ]
  },
  {
   "cell_type": "code",
   "execution_count": null,
   "metadata": {},
   "outputs": [],
   "source": [
    "sc.plotting.umap(sample, color=markers['Round.Spt'], vmin=-1, vmax=3, s=30)"
   ]
  },
  {
   "cell_type": "code",
   "execution_count": null,
   "metadata": {},
   "outputs": [],
   "source": [
    "sc.plotting.umap(sample, color=markers['Elong.Spt'], vmin=0, vmax=5, s=30)"
   ]
  },
  {
   "cell_type": "code",
   "execution_count": null,
   "metadata": {},
   "outputs": [],
   "source": [
    "sc.plotting.umap(sample, color=markers['Sertoli'], vmin=-1, vmax=5, s=30)"
   ]
  },
  {
   "cell_type": "code",
   "execution_count": null,
   "metadata": {},
   "outputs": [],
   "source": [
    "sc.plotting.umap(sample, color=markers['Macroph'], vmin=-1, vmax=5, s=30)"
   ]
  },
  {
   "cell_type": "code",
   "execution_count": null,
   "metadata": {},
   "outputs": [],
   "source": [
    "sc.plotting.umap(sample, color=markers['Endothelial'], vmin=-1, vmax=3, s=30)"
   ]
  },
  {
   "cell_type": "code",
   "execution_count": null,
   "metadata": {},
   "outputs": [],
   "source": [
    "sc.plotting.umap(sample, color=markers['Myoid'], vmin=-1, vmax=3, s=30)"
   ]
  },
  {
   "cell_type": "code",
   "execution_count": null,
   "metadata": {},
   "outputs": [],
   "source": [
    "sc.plotting.umap(sample, color=markers['Leydig'], vmin=-1, vmax=3, s=30)"
   ]
  },
  {
   "cell_type": "code",
   "execution_count": null,
   "metadata": {},
   "outputs": [],
   "source": [
    "sc.tl.leiden(sample, resolution=.4, random_state=12345)"
   ]
  },
  {
   "cell_type": "code",
   "execution_count": null,
   "metadata": {},
   "outputs": [],
   "source": [
    "sc.plotting.umap(sample, color=['leiden'], legend_loc='on data', legend_fontsize=20)"
   ]
  },
  {
   "cell_type": "code",
   "execution_count": null,
   "metadata": {},
   "outputs": [],
   "source": [
    "clusters = pd.Categorical(sample.obs['leiden'])"
   ]
  },
  {
   "cell_type": "code",
   "execution_count": null,
   "metadata": {},
   "outputs": [],
   "source": [
    "clusters.categories"
   ]
  },
  {
   "cell_type": "code",
   "execution_count": null,
   "metadata": {},
   "outputs": [],
   "source": [
    "new_names = {\n",
    "    '0':'SpermatogoniaA',\n",
    "    '1':'RoundSpermatids',\n",
    "    '2':'SpermatocitesI',\n",
    "    '3':'SpermatocitesII',\n",
    "    '4':'Myoid',\n",
    "    '5':'ElongSpermatids',\n",
    "    '6':'SpermatogoniaB',\n",
    "    '8':'Endothelial'\n",
    "}"
   ]
  },
  {
   "cell_type": "code",
   "execution_count": null,
   "metadata": {},
   "outputs": [],
   "source": [
    "clusters=clusters.rename_categories(new_names)"
   ]
  },
  {
   "cell_type": "code",
   "execution_count": null,
   "metadata": {},
   "outputs": [],
   "source": [
    "cluster_array = np.array(clusters)\n",
    "split_array = [ i.split('.')[0] for i in cluster_array ]\n",
    "clusters = pd.Categorical(split_array)"
   ]
  },
  {
   "cell_type": "code",
   "execution_count": null,
   "metadata": {},
   "outputs": [],
   "source": [
    "sample.obs['clusters']=clusters.copy()"
   ]
  },
  {
   "cell_type": "code",
   "execution_count": null,
   "metadata": {},
   "outputs": [],
   "source": [
    "sample = sample[sample.obs['clusters'] != '7'].copy()"
   ]
  },
  {
   "cell_type": "code",
   "execution_count": null,
   "metadata": {},
   "outputs": [],
   "source": [
    "sc.plotting.umap(sample, color=['clusters'], legend_loc='on data')"
   ]
  },
  {
   "cell_type": "code",
   "execution_count": null,
   "metadata": {},
   "outputs": [],
   "source": [
    "sample.write('../../../Data/notebooks_data/crypto_123.filt.norm.red.clst.h5ad')"
   ]
  },
  {
   "cell_type": "code",
   "execution_count": null,
   "metadata": {},
   "outputs": [],
   "source": [
    "sample.X = sample.layers['umi_sct'].copy()\n",
    "sc.pp.log1p(sample)"
   ]
  },
  {
   "cell_type": "code",
   "execution_count": null,
   "metadata": {},
   "outputs": [],
   "source": [
    "sc.tl.rank_genes_groups(sample, groupby='clusters', key_added='DE_clusters', \n",
    "                        use_raw=False, n_genes=10, method='wilcoxon')"
   ]
  },
  {
   "cell_type": "code",
   "execution_count": null,
   "metadata": {},
   "outputs": [],
   "source": [
    "pd.DataFrame(sample.uns['DE_clusters']['names'])"
   ]
  },
  {
   "cell_type": "code",
   "execution_count": null,
   "metadata": {},
   "outputs": [],
   "source": [
    "result = sample.uns['DE_clusters']\n",
    "groups = result['names'].dtype.names\n",
    "X = pd.DataFrame(\n",
    "    {group + '_' + key[:1].upper(): result[key][group]\n",
    "    for group in groups for key in ['names', 'pvals_adj','logfoldchanges']})\n",
    "X"
   ]
  },
  {
   "cell_type": "code",
   "execution_count": null,
   "metadata": {},
   "outputs": [],
   "source": [
    "X.to_csv('../../../Data/results/diff_expression_clusters_crypto.csv', header=True, index=False)"
   ]
  },
  {
   "cell_type": "code",
   "execution_count": null,
   "metadata": {},
   "outputs": [],
   "source": [
    "SUBGROUPS = ['SpermatogoniaB','SpermatocitesI','SpermatocitesII'] "
   ]
  },
  {
   "cell_type": "code",
   "execution_count": null,
   "metadata": {},
   "outputs": [],
   "source": [
    "markers['Leptotene'] = ['SYCE2','SCML1']\n",
    "markers['Zygotene'] = ['LY6K', 'SYCP1']\n",
    "markers['Pachytene'] = ['PIWIL1','CCDC112']\n",
    "markers['Diplotene'] = ['OVOL2','CCNA1', 'CDK1','AURKA']"
   ]
  },
  {
   "cell_type": "code",
   "execution_count": null,
   "metadata": {},
   "outputs": [],
   "source": [
    "sc.pl.umap( sample[ [i in SUBGROUPS for i in sample.obs['clusters']] ], \n",
    "           color=markers['Leptotene'])"
   ]
  },
  {
   "cell_type": "code",
   "execution_count": null,
   "metadata": {},
   "outputs": [],
   "source": [
    "sc.pl.umap( sample[ [i in SUBGROUPS for i in sample.obs['clusters']] ], \n",
    "           color=markers['Zygotene'])"
   ]
  },
  {
   "cell_type": "code",
   "execution_count": null,
   "metadata": {},
   "outputs": [],
   "source": [
    "sc.pl.umap( sample[ [i in SUBGROUPS for i in sample.obs['clusters']] ], \n",
    "           color=markers['Pachytene'])"
   ]
  },
  {
   "cell_type": "code",
   "execution_count": null,
   "metadata": {},
   "outputs": [],
   "source": [
    "sc.pl.umap( sample[ [i in SUBGROUPS for i in sample.obs['clusters']] ], \n",
    "           color=markers['Diplotene'])"
   ]
  },
  {
   "cell_type": "code",
   "execution_count": null,
   "metadata": {},
   "outputs": [],
   "source": [
    "sc.tl.leiden(sample, resolution=.28, key_added='clusters_spc',\n",
    "            restrict_to=('clusters', SUBGROUPS),\n",
    "            random_state=12345)"
   ]
  },
  {
   "cell_type": "code",
   "execution_count": null,
   "metadata": {},
   "outputs": [],
   "source": [
    "sc.pl.umap(sample[ [i in SUBGROUPS for i in sample.obs['clusters']] ], \n",
    "           color=['clusters_spc'], legend_fontsize=15)"
   ]
  },
  {
   "cell_type": "code",
   "execution_count": null,
   "metadata": {},
   "outputs": [],
   "source": [
    "clusters = sample.obs['clusters_spc']\n",
    "cluster_array = np.array(clusters)\n",
    "split_array = [ i.split(',')[1] if ',' in i else i for i in cluster_array]\n",
    "clusters = pd.Categorical(split_array)\n",
    "sample.obs['clusters_spc']=clusters.copy()"
   ]
  },
  {
   "cell_type": "code",
   "execution_count": null,
   "metadata": {},
   "outputs": [],
   "source": [
    "sc.pl.umap(sample[ [i in SUBGROUPS for i in sample.obs['clusters']] ], \n",
    "           color=['clusters_spc'], legend_loc='on data', legend_fontsize=18)"
   ]
  },
  {
   "cell_type": "code",
   "execution_count": null,
   "metadata": {},
   "outputs": [],
   "source": [
    "sample.X = sample.layers['umi_sct'].copy()\n",
    "sc.pp.log1p(sample)"
   ]
  },
  {
   "cell_type": "code",
   "execution_count": null,
   "metadata": {},
   "outputs": [],
   "source": [
    "sc.tl.rank_genes_groups(sample, groupby='clusters_spc', key_added='DE_clusters_spc',\n",
    "                        use_raw=False, n_genes=20, method='wilcoxon')"
   ]
  },
  {
   "cell_type": "code",
   "execution_count": null,
   "metadata": {},
   "outputs": [],
   "source": [
    "pd.DataFrame(sample.uns['DE_clusters_spc']['names'])"
   ]
  },
  {
   "cell_type": "code",
   "execution_count": null,
   "metadata": {},
   "outputs": [],
   "source": [
    "result = sample.uns['DE_clusters_spc']\n",
    "groups = result['names'].dtype.names\n",
    "X = pd.DataFrame(\n",
    "    {group + '_' + key[:1].upper(): result[key][group]\n",
    "    for group in groups for key in ['names', 'pvals_adj','logfoldchanges']})"
   ]
  },
  {
   "cell_type": "code",
   "execution_count": null,
   "metadata": {},
   "outputs": [],
   "source": [
    "X[ ['3_N','3_L','3_P'] ]"
   ]
  },
  {
   "cell_type": "code",
   "execution_count": null,
   "metadata": {},
   "outputs": [],
   "source": [
    "clusters = pd.Categorical(sample.obs['clusters_spc'])"
   ]
  },
  {
   "cell_type": "code",
   "execution_count": null,
   "metadata": {},
   "outputs": [],
   "source": [
    "clusters.categories"
   ]
  },
  {
   "cell_type": "code",
   "execution_count": null,
   "metadata": {},
   "outputs": [],
   "source": [
    "new_names = {\n",
    "    '0':'Zygotene',\n",
    "    '1':'Diplotene.1',\n",
    "    '2':'Dyplotene.2',\n",
    "    '3':'Leptotene',\n",
    "    '4':'Pachytene',\n",
    "}"
   ]
  },
  {
   "cell_type": "code",
   "execution_count": null,
   "metadata": {},
   "outputs": [],
   "source": [
    "clusters=clusters.rename_categories(new_names)"
   ]
  },
  {
   "cell_type": "code",
   "execution_count": null,
   "metadata": {},
   "outputs": [],
   "source": [
    "cluster_array = np.array(clusters)\n",
    "split_array = [ i.split('.')[0] for i in cluster_array ]\n",
    "clusters = pd.Categorical(split_array)"
   ]
  },
  {
   "cell_type": "code",
   "execution_count": null,
   "metadata": {},
   "outputs": [],
   "source": [
    "sample.obs['clusters_spc']=clusters.copy()"
   ]
  },
  {
   "cell_type": "code",
   "execution_count": null,
   "metadata": {},
   "outputs": [],
   "source": [
    "sc.plotting.umap(sample, color=['clusters','clusters_spc'], legend_loc='on data')"
   ]
  },
  {
   "cell_type": "code",
   "execution_count": null,
   "metadata": {},
   "outputs": [],
   "source": [
    "sample.X = sample.layers['umi_sct'].copy()\n",
    "sc.pp.log1p(sample)\n",
    "sc.tl.rank_genes_groups(sample, groupby='clusters_spc', key_added='DE_clusters_spc',\n",
    "                        use_raw=False, n_genes=30, method='wilcoxon')"
   ]
  },
  {
   "cell_type": "code",
   "execution_count": null,
   "metadata": {},
   "outputs": [],
   "source": [
    "result = sample.uns['DE_clusters_spc']\n",
    "groups = result['names'].dtype.names\n",
    "X = pd.DataFrame(\n",
    "    {group + '_' + key[:1].upper(): result[key][group]\n",
    "    for group in groups for key in ['names', 'pvals_adj','logfoldchanges']})\n",
    "X.to_csv('../../../Data/results/diff_expression_subclusters_crypto.csv', header=True, index=False)"
   ]
  },
  {
   "cell_type": "code",
   "execution_count": null,
   "metadata": {},
   "outputs": [],
   "source": [
    "sample.write('../../../Data/notebooks_data/crypto_123.filt.norm.red.clst.2.h5ad')"
   ]
  }
 ],
 "metadata": {
  "kernelspec": {
   "display_name": "Python 3 ",
   "language": "python",
   "name": "python3"
  },
  "language_info": {
   "codemirror_mode": {
    "name": "ipython",
    "version": 3
   },
   "file_extension": ".py",
   "mimetype": "text/x-python",
   "name": "python",
   "nbconvert_exporter": "python",
   "pygments_lexer": "ipython3"
  }
 },
 "nbformat": 4,
 "nbformat_minor": 4
}
