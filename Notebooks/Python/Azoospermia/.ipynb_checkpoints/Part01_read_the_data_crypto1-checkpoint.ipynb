{
 "cells": [
  {
   "cell_type": "markdown",
   "id": "2e59bf32",
   "metadata": {},
   "source": [
    "## Import the packages\n",
    "We will use *scanpy* as the main analysis tool for the analysis. Scanpy has a comprehensive [manual webpage](https://scanpy.readthedocs.io/en/stable/) that includes many different tutorial you can use for further practicing. Scanpy is used in the discussion paper and the tutorial paper of this course. \n",
    "An alternative and well-established tool for R users is [Seurat](https://satijalab.org/seurat/). However, scanpy is mainatined and updated by a wider community with many of the latest developed tools."
   ]
  },
  {
   "cell_type": "code",
   "execution_count": 1,
   "id": "84afe9ce",
   "metadata": {},
   "outputs": [],
   "source": [
    "import scanpy as sc\n",
    "import pandas as pd\n",
    "import scvelo as scv\n",
    "import numpy as np\n",
    "import seaborn as sns\n",
    "import matplotlib.pyplot as plt\n",
    "import sklearn"
   ]
  },
  {
   "cell_type": "markdown",
   "id": "b1bc92ac",
   "metadata": {},
   "source": [
    "## Loading and understanding the dataset structure\n",
    "\n",
    "Data can be loaded from many different possible formats. Each format has a dedicated reading command, for example `read_h5ad`, `read_10X_mtx`, `read_txt`. We are going to use `read_10X_mtx` to load the output of the 10X software that produces the aligned data. \n",
    "\n",
    "Note the option `cache=True`. If you are going to read again the same data, it will be loaded extremely fast, because it has been stored in a convenient format for large datasets (`h5ad` format)"
   ]
  },
  {
   "cell_type": "code",
   "execution_count": 2,
   "id": "afa55f45",
   "metadata": {},
   "outputs": [],
   "source": [
    "crypto_1 = sc.read_10x_mtx('../../../../scRNASeq_course/Data/cellranger_crypto1/outs/filtered_feature_bc_matrix/', cache=True)"
   ]
  },
  {
   "cell_type": "markdown",
   "id": "2fce61c8",
   "metadata": {},
   "source": [
    "The datasets `crypto_1` and `crypto_3` are now created. They are so-called `Annotated datasets`. Each annotated dataset contains:\n",
    "\n",
    "\n",
    "*   The data matrix `X` of size $N\\_cells \\times N\\_genes$\n",
    "*   Vectors of cells-related quantities in the table `obs`(for example, how many transcripts there are in each cell)\n",
    "* Vectors of genes-related quantities in the table `var` (for example, in how many cells the each gene is detected)\n",
    "* Matrices of size $N\\_cells \\times N\\_genes$ in `adata.layers` (for example, normalized data matrix, imputed data matrix, ....)\n",
    "\n",
    "We will often call the cells for observations (obs) and the genes for variables (var) when it is practical in relation to the annotated dataset\n",
    "\n",
    "During the analysis we will encounter other components of the annotated datasets. They will be explained when it is necessary, so you might want to skip this explanation if you want.\n",
    "\n",
    "* Matrices where each line is cell-related in `obsm` (for example, the PCA coordinates of each cell)\n",
    "* Matrices where each line is gene-related in `adata.varm` (for example, mean of the gene in each cell type)\n",
    "* Anything else useful is in `adata.uns` and some quantities necessary for the `scanpy` package are saved in `obsp`\n",
    "\n",
    "![alt text](https://falexwolf.de/img/scanpy/anndata.svg)\n",
    "\n",
    "**Above:** a representation of the data matrix, variable and observations in an annotated dataset.  "
   ]
  },
  {
   "cell_type": "markdown",
   "id": "a2f15336",
   "metadata": {},
   "source": [
    "Each component of the annotated dataset is called by using a `dot`, For example, we can see the data matrix by"
   ]
  },
  {
   "cell_type": "code",
   "execution_count": 3,
   "id": "6857c238",
   "metadata": {},
   "outputs": [
    {
     "data": {
      "text/plain": [
       "<4333x36601 sparse matrix of type '<class 'numpy.float32'>'\n",
       "\twith 7088526 stored elements in Compressed Sparse Row format>"
      ]
     },
     "execution_count": 3,
     "metadata": {},
     "output_type": "execute_result"
    }
   ],
   "source": [
    "crypto_1.X"
   ]
  },
  {
   "cell_type": "markdown",
   "id": "52a3a8a2",
   "metadata": {},
   "source": [
    "The matrix is in compressed format. We can reassign it as a dense matrix, so that we can see what it contains."
   ]
  },
  {
   "cell_type": "code",
   "execution_count": 4,
   "id": "bd8587d0",
   "metadata": {},
   "outputs": [],
   "source": [
    "crypto_1.X = np.array( crypto_1.X.todense() )"
   ]
  },
  {
   "cell_type": "code",
   "execution_count": 5,
   "id": "db9e9b06",
   "metadata": {},
   "outputs": [
    {
     "data": {
      "text/plain": [
       "array([[0., 0., 0., ..., 0., 1., 0.],\n",
       "       [0., 0., 0., ..., 0., 0., 0.],\n",
       "       [0., 0., 0., ..., 0., 0., 0.],\n",
       "       ...,\n",
       "       [0., 0., 0., ..., 0., 0., 0.],\n",
       "       [0., 0., 0., ..., 0., 0., 0.],\n",
       "       [0., 0., 0., ..., 0., 0., 0.]], dtype=float32)"
      ]
     },
     "execution_count": 5,
     "metadata": {},
     "output_type": "execute_result"
    }
   ],
   "source": [
    "crypto_1.X"
   ]
  },
  {
   "cell_type": "markdown",
   "id": "93dc8487",
   "metadata": {},
   "source": [
    "When the matrix is no longer compressed, we can calculate some statistics for both cells and genes with the following `scanpy` command. Note that all scanpy commands follow a similar format."
   ]
  },
  {
   "cell_type": "code",
   "execution_count": 6,
   "id": "6277c124",
   "metadata": {},
   "outputs": [],
   "source": [
    "sc.preprocessing.calculate_qc_metrics(crypto_1, inplace=True)"
   ]
  },
  {
   "cell_type": "markdown",
   "id": "5aa4cdb0",
   "metadata": {},
   "source": [
    "We can see that `obs` and `var` now contains a lot of different values whose names are mostly self-explicative. For example\n",
    "- `n_genes_by_counts` is the number of detected genes in each cell\n",
    "- `total_counts` is the number of transcripts in each cell\n",
    "- `mean_counts` is the average of counts of each gene across all cells"
   ]
  },
  {
   "cell_type": "code",
   "execution_count": 7,
   "id": "0651b6aa",
   "metadata": {},
   "outputs": [
    {
     "data": {
      "text/plain": [
       "AnnData object with n_obs × n_vars = 4333 × 36601\n",
       "    obs: 'n_genes_by_counts', 'log1p_n_genes_by_counts', 'total_counts', 'log1p_total_counts', 'pct_counts_in_top_50_genes', 'pct_counts_in_top_100_genes', 'pct_counts_in_top_200_genes', 'pct_counts_in_top_500_genes'\n",
       "    var: 'gene_ids', 'feature_types', 'n_cells_by_counts', 'mean_counts', 'log1p_mean_counts', 'pct_dropout_by_counts', 'total_counts', 'log1p_total_counts'"
      ]
     },
     "execution_count": 7,
     "metadata": {},
     "output_type": "execute_result"
    }
   ],
   "source": [
    "crypto_1"
   ]
  },
  {
   "cell_type": "markdown",
   "id": "d1e2e5b0",
   "metadata": {},
   "source": [
    "You can access directly all observations/variables or some of them specifically. Each observation line is named with the cell barcode, while variables have gene names in each line"
   ]
  },
  {
   "cell_type": "code",
   "execution_count": 8,
   "id": "1a89917b",
   "metadata": {},
   "outputs": [
    {
     "data": {
      "text/html": [
       "<div>\n",
       "<style scoped>\n",
       "    .dataframe tbody tr th:only-of-type {\n",
       "        vertical-align: middle;\n",
       "    }\n",
       "\n",
       "    .dataframe tbody tr th {\n",
       "        vertical-align: top;\n",
       "    }\n",
       "\n",
       "    .dataframe thead th {\n",
       "        text-align: right;\n",
       "    }\n",
       "</style>\n",
       "<table border=\"1\" class=\"dataframe\">\n",
       "  <thead>\n",
       "    <tr style=\"text-align: right;\">\n",
       "      <th></th>\n",
       "      <th>n_genes_by_counts</th>\n",
       "      <th>log1p_n_genes_by_counts</th>\n",
       "      <th>total_counts</th>\n",
       "      <th>log1p_total_counts</th>\n",
       "      <th>pct_counts_in_top_50_genes</th>\n",
       "      <th>pct_counts_in_top_100_genes</th>\n",
       "      <th>pct_counts_in_top_200_genes</th>\n",
       "      <th>pct_counts_in_top_500_genes</th>\n",
       "    </tr>\n",
       "  </thead>\n",
       "  <tbody>\n",
       "    <tr>\n",
       "      <th>AAACCTGAGAGTGACC-1</th>\n",
       "      <td>1237</td>\n",
       "      <td>7.121252</td>\n",
       "      <td>2693.0</td>\n",
       "      <td>7.898782</td>\n",
       "      <td>34.868177</td>\n",
       "      <td>44.931303</td>\n",
       "      <td>55.699963</td>\n",
       "      <td>72.632752</td>\n",
       "    </tr>\n",
       "    <tr>\n",
       "      <th>AAACCTGAGCGTTTAC-1</th>\n",
       "      <td>2799</td>\n",
       "      <td>7.937375</td>\n",
       "      <td>5979.0</td>\n",
       "      <td>8.696176</td>\n",
       "      <td>14.768356</td>\n",
       "      <td>22.077270</td>\n",
       "      <td>31.844790</td>\n",
       "      <td>50.091989</td>\n",
       "    </tr>\n",
       "    <tr>\n",
       "      <th>AAACCTGAGTGTCCCG-1</th>\n",
       "      <td>2261</td>\n",
       "      <td>7.724005</td>\n",
       "      <td>4412.0</td>\n",
       "      <td>8.392310</td>\n",
       "      <td>17.248413</td>\n",
       "      <td>25.362647</td>\n",
       "      <td>36.196736</td>\n",
       "      <td>54.351768</td>\n",
       "    </tr>\n",
       "    <tr>\n",
       "      <th>AAACCTGCACCTTGTC-1</th>\n",
       "      <td>1815</td>\n",
       "      <td>7.504392</td>\n",
       "      <td>2789.0</td>\n",
       "      <td>7.933797</td>\n",
       "      <td>16.600932</td>\n",
       "      <td>24.058802</td>\n",
       "      <td>33.775547</td>\n",
       "      <td>52.850484</td>\n",
       "    </tr>\n",
       "    <tr>\n",
       "      <th>AAACCTGCATTTCAGG-1</th>\n",
       "      <td>860</td>\n",
       "      <td>6.758095</td>\n",
       "      <td>1161.0</td>\n",
       "      <td>7.057898</td>\n",
       "      <td>21.016365</td>\n",
       "      <td>29.629630</td>\n",
       "      <td>43.152455</td>\n",
       "      <td>68.992248</td>\n",
       "    </tr>\n",
       "    <tr>\n",
       "      <th>...</th>\n",
       "      <td>...</td>\n",
       "      <td>...</td>\n",
       "      <td>...</td>\n",
       "      <td>...</td>\n",
       "      <td>...</td>\n",
       "      <td>...</td>\n",
       "      <td>...</td>\n",
       "      <td>...</td>\n",
       "    </tr>\n",
       "    <tr>\n",
       "      <th>TTTGTCAGTGCACCAC-1</th>\n",
       "      <td>2001</td>\n",
       "      <td>7.601902</td>\n",
       "      <td>3137.0</td>\n",
       "      <td>8.051341</td>\n",
       "      <td>11.603443</td>\n",
       "      <td>18.265859</td>\n",
       "      <td>28.243545</td>\n",
       "      <td>48.262671</td>\n",
       "    </tr>\n",
       "    <tr>\n",
       "      <th>TTTGTCAGTGCATCTA-1</th>\n",
       "      <td>2705</td>\n",
       "      <td>7.903227</td>\n",
       "      <td>9400.0</td>\n",
       "      <td>9.148571</td>\n",
       "      <td>36.978723</td>\n",
       "      <td>43.563830</td>\n",
       "      <td>52.265957</td>\n",
       "      <td>67.117021</td>\n",
       "    </tr>\n",
       "    <tr>\n",
       "      <th>TTTGTCAGTTGTTTGG-1</th>\n",
       "      <td>2466</td>\n",
       "      <td>7.810758</td>\n",
       "      <td>5150.0</td>\n",
       "      <td>8.546947</td>\n",
       "      <td>15.883495</td>\n",
       "      <td>23.844660</td>\n",
       "      <td>34.466019</td>\n",
       "      <td>53.766990</td>\n",
       "    </tr>\n",
       "    <tr>\n",
       "      <th>TTTGTCAGTTTAGCTG-1</th>\n",
       "      <td>1034</td>\n",
       "      <td>6.942157</td>\n",
       "      <td>1978.0</td>\n",
       "      <td>7.590347</td>\n",
       "      <td>31.041456</td>\n",
       "      <td>42.315470</td>\n",
       "      <td>54.600607</td>\n",
       "      <td>73.003033</td>\n",
       "    </tr>\n",
       "    <tr>\n",
       "      <th>TTTGTCATCCCACTTG-1</th>\n",
       "      <td>544</td>\n",
       "      <td>6.300786</td>\n",
       "      <td>880.0</td>\n",
       "      <td>6.781058</td>\n",
       "      <td>34.659091</td>\n",
       "      <td>46.704545</td>\n",
       "      <td>60.909091</td>\n",
       "      <td>95.000000</td>\n",
       "    </tr>\n",
       "  </tbody>\n",
       "</table>\n",
       "<p>4333 rows × 8 columns</p>\n",
       "</div>"
      ],
      "text/plain": [
       "                    n_genes_by_counts  log1p_n_genes_by_counts  total_counts  \\\n",
       "AAACCTGAGAGTGACC-1               1237                 7.121252        2693.0   \n",
       "AAACCTGAGCGTTTAC-1               2799                 7.937375        5979.0   \n",
       "AAACCTGAGTGTCCCG-1               2261                 7.724005        4412.0   \n",
       "AAACCTGCACCTTGTC-1               1815                 7.504392        2789.0   \n",
       "AAACCTGCATTTCAGG-1                860                 6.758095        1161.0   \n",
       "...                               ...                      ...           ...   \n",
       "TTTGTCAGTGCACCAC-1               2001                 7.601902        3137.0   \n",
       "TTTGTCAGTGCATCTA-1               2705                 7.903227        9400.0   \n",
       "TTTGTCAGTTGTTTGG-1               2466                 7.810758        5150.0   \n",
       "TTTGTCAGTTTAGCTG-1               1034                 6.942157        1978.0   \n",
       "TTTGTCATCCCACTTG-1                544                 6.300786         880.0   \n",
       "\n",
       "                    log1p_total_counts  pct_counts_in_top_50_genes  \\\n",
       "AAACCTGAGAGTGACC-1            7.898782                   34.868177   \n",
       "AAACCTGAGCGTTTAC-1            8.696176                   14.768356   \n",
       "AAACCTGAGTGTCCCG-1            8.392310                   17.248413   \n",
       "AAACCTGCACCTTGTC-1            7.933797                   16.600932   \n",
       "AAACCTGCATTTCAGG-1            7.057898                   21.016365   \n",
       "...                                ...                         ...   \n",
       "TTTGTCAGTGCACCAC-1            8.051341                   11.603443   \n",
       "TTTGTCAGTGCATCTA-1            9.148571                   36.978723   \n",
       "TTTGTCAGTTGTTTGG-1            8.546947                   15.883495   \n",
       "TTTGTCAGTTTAGCTG-1            7.590347                   31.041456   \n",
       "TTTGTCATCCCACTTG-1            6.781058                   34.659091   \n",
       "\n",
       "                    pct_counts_in_top_100_genes  pct_counts_in_top_200_genes  \\\n",
       "AAACCTGAGAGTGACC-1                    44.931303                    55.699963   \n",
       "AAACCTGAGCGTTTAC-1                    22.077270                    31.844790   \n",
       "AAACCTGAGTGTCCCG-1                    25.362647                    36.196736   \n",
       "AAACCTGCACCTTGTC-1                    24.058802                    33.775547   \n",
       "AAACCTGCATTTCAGG-1                    29.629630                    43.152455   \n",
       "...                                         ...                          ...   \n",
       "TTTGTCAGTGCACCAC-1                    18.265859                    28.243545   \n",
       "TTTGTCAGTGCATCTA-1                    43.563830                    52.265957   \n",
       "TTTGTCAGTTGTTTGG-1                    23.844660                    34.466019   \n",
       "TTTGTCAGTTTAGCTG-1                    42.315470                    54.600607   \n",
       "TTTGTCATCCCACTTG-1                    46.704545                    60.909091   \n",
       "\n",
       "                    pct_counts_in_top_500_genes  \n",
       "AAACCTGAGAGTGACC-1                    72.632752  \n",
       "AAACCTGAGCGTTTAC-1                    50.091989  \n",
       "AAACCTGAGTGTCCCG-1                    54.351768  \n",
       "AAACCTGCACCTTGTC-1                    52.850484  \n",
       "AAACCTGCATTTCAGG-1                    68.992248  \n",
       "...                                         ...  \n",
       "TTTGTCAGTGCACCAC-1                    48.262671  \n",
       "TTTGTCAGTGCATCTA-1                    67.117021  \n",
       "TTTGTCAGTTGTTTGG-1                    53.766990  \n",
       "TTTGTCAGTTTAGCTG-1                    73.003033  \n",
       "TTTGTCATCCCACTTG-1                    95.000000  \n",
       "\n",
       "[4333 rows x 8 columns]"
      ]
     },
     "execution_count": 8,
     "metadata": {},
     "output_type": "execute_result"
    }
   ],
   "source": [
    "crypto_1.obs"
   ]
  },
  {
   "cell_type": "code",
   "execution_count": 9,
   "id": "5975fee5",
   "metadata": {},
   "outputs": [
    {
     "data": {
      "text/html": [
       "<div>\n",
       "<style scoped>\n",
       "    .dataframe tbody tr th:only-of-type {\n",
       "        vertical-align: middle;\n",
       "    }\n",
       "\n",
       "    .dataframe tbody tr th {\n",
       "        vertical-align: top;\n",
       "    }\n",
       "\n",
       "    .dataframe thead th {\n",
       "        text-align: right;\n",
       "    }\n",
       "</style>\n",
       "<table border=\"1\" class=\"dataframe\">\n",
       "  <thead>\n",
       "    <tr style=\"text-align: right;\">\n",
       "      <th></th>\n",
       "      <th>total_counts</th>\n",
       "      <th>n_genes_by_counts</th>\n",
       "    </tr>\n",
       "  </thead>\n",
       "  <tbody>\n",
       "    <tr>\n",
       "      <th>AAACCTGAGAGTGACC-1</th>\n",
       "      <td>2693.0</td>\n",
       "      <td>1237</td>\n",
       "    </tr>\n",
       "    <tr>\n",
       "      <th>AAACCTGAGCGTTTAC-1</th>\n",
       "      <td>5979.0</td>\n",
       "      <td>2799</td>\n",
       "    </tr>\n",
       "    <tr>\n",
       "      <th>AAACCTGAGTGTCCCG-1</th>\n",
       "      <td>4412.0</td>\n",
       "      <td>2261</td>\n",
       "    </tr>\n",
       "    <tr>\n",
       "      <th>AAACCTGCACCTTGTC-1</th>\n",
       "      <td>2789.0</td>\n",
       "      <td>1815</td>\n",
       "    </tr>\n",
       "    <tr>\n",
       "      <th>AAACCTGCATTTCAGG-1</th>\n",
       "      <td>1161.0</td>\n",
       "      <td>860</td>\n",
       "    </tr>\n",
       "    <tr>\n",
       "      <th>...</th>\n",
       "      <td>...</td>\n",
       "      <td>...</td>\n",
       "    </tr>\n",
       "    <tr>\n",
       "      <th>TTTGTCAGTGCACCAC-1</th>\n",
       "      <td>3137.0</td>\n",
       "      <td>2001</td>\n",
       "    </tr>\n",
       "    <tr>\n",
       "      <th>TTTGTCAGTGCATCTA-1</th>\n",
       "      <td>9400.0</td>\n",
       "      <td>2705</td>\n",
       "    </tr>\n",
       "    <tr>\n",
       "      <th>TTTGTCAGTTGTTTGG-1</th>\n",
       "      <td>5150.0</td>\n",
       "      <td>2466</td>\n",
       "    </tr>\n",
       "    <tr>\n",
       "      <th>TTTGTCAGTTTAGCTG-1</th>\n",
       "      <td>1978.0</td>\n",
       "      <td>1034</td>\n",
       "    </tr>\n",
       "    <tr>\n",
       "      <th>TTTGTCATCCCACTTG-1</th>\n",
       "      <td>880.0</td>\n",
       "      <td>544</td>\n",
       "    </tr>\n",
       "  </tbody>\n",
       "</table>\n",
       "<p>4333 rows × 2 columns</p>\n",
       "</div>"
      ],
      "text/plain": [
       "                    total_counts  n_genes_by_counts\n",
       "AAACCTGAGAGTGACC-1        2693.0               1237\n",
       "AAACCTGAGCGTTTAC-1        5979.0               2799\n",
       "AAACCTGAGTGTCCCG-1        4412.0               2261\n",
       "AAACCTGCACCTTGTC-1        2789.0               1815\n",
       "AAACCTGCATTTCAGG-1        1161.0                860\n",
       "...                          ...                ...\n",
       "TTTGTCAGTGCACCAC-1        3137.0               2001\n",
       "TTTGTCAGTGCATCTA-1        9400.0               2705\n",
       "TTTGTCAGTTGTTTGG-1        5150.0               2466\n",
       "TTTGTCAGTTTAGCTG-1        1978.0               1034\n",
       "TTTGTCATCCCACTTG-1         880.0                544\n",
       "\n",
       "[4333 rows x 2 columns]"
      ]
     },
     "execution_count": 9,
     "metadata": {},
     "output_type": "execute_result"
    }
   ],
   "source": [
    "crypto_1.obs[ ['total_counts','n_genes_by_counts'] ]"
   ]
  },
  {
   "cell_type": "code",
   "execution_count": 10,
   "id": "a11547a2",
   "metadata": {},
   "outputs": [
    {
     "data": {
      "text/html": [
       "<div>\n",
       "<style scoped>\n",
       "    .dataframe tbody tr th:only-of-type {\n",
       "        vertical-align: middle;\n",
       "    }\n",
       "\n",
       "    .dataframe tbody tr th {\n",
       "        vertical-align: top;\n",
       "    }\n",
       "\n",
       "    .dataframe thead th {\n",
       "        text-align: right;\n",
       "    }\n",
       "</style>\n",
       "<table border=\"1\" class=\"dataframe\">\n",
       "  <thead>\n",
       "    <tr style=\"text-align: right;\">\n",
       "      <th></th>\n",
       "      <th>gene_ids</th>\n",
       "      <th>feature_types</th>\n",
       "      <th>n_cells_by_counts</th>\n",
       "      <th>mean_counts</th>\n",
       "      <th>log1p_mean_counts</th>\n",
       "      <th>pct_dropout_by_counts</th>\n",
       "      <th>total_counts</th>\n",
       "      <th>log1p_total_counts</th>\n",
       "    </tr>\n",
       "  </thead>\n",
       "  <tbody>\n",
       "    <tr>\n",
       "      <th>MIR1302-2HG</th>\n",
       "      <td>ENSG00000243485</td>\n",
       "      <td>Gene Expression</td>\n",
       "      <td>1</td>\n",
       "      <td>0.000231</td>\n",
       "      <td>0.000231</td>\n",
       "      <td>99.976921</td>\n",
       "      <td>1.0</td>\n",
       "      <td>0.693147</td>\n",
       "    </tr>\n",
       "    <tr>\n",
       "      <th>FAM138A</th>\n",
       "      <td>ENSG00000237613</td>\n",
       "      <td>Gene Expression</td>\n",
       "      <td>0</td>\n",
       "      <td>0.000000</td>\n",
       "      <td>0.000000</td>\n",
       "      <td>100.000000</td>\n",
       "      <td>0.0</td>\n",
       "      <td>0.000000</td>\n",
       "    </tr>\n",
       "    <tr>\n",
       "      <th>OR4F5</th>\n",
       "      <td>ENSG00000186092</td>\n",
       "      <td>Gene Expression</td>\n",
       "      <td>1</td>\n",
       "      <td>0.000231</td>\n",
       "      <td>0.000231</td>\n",
       "      <td>99.976921</td>\n",
       "      <td>1.0</td>\n",
       "      <td>0.693147</td>\n",
       "    </tr>\n",
       "    <tr>\n",
       "      <th>AL627309.1</th>\n",
       "      <td>ENSG00000238009</td>\n",
       "      <td>Gene Expression</td>\n",
       "      <td>8</td>\n",
       "      <td>0.001846</td>\n",
       "      <td>0.001845</td>\n",
       "      <td>99.815370</td>\n",
       "      <td>8.0</td>\n",
       "      <td>2.197225</td>\n",
       "    </tr>\n",
       "    <tr>\n",
       "      <th>AL627309.3</th>\n",
       "      <td>ENSG00000239945</td>\n",
       "      <td>Gene Expression</td>\n",
       "      <td>0</td>\n",
       "      <td>0.000000</td>\n",
       "      <td>0.000000</td>\n",
       "      <td>100.000000</td>\n",
       "      <td>0.0</td>\n",
       "      <td>0.000000</td>\n",
       "    </tr>\n",
       "    <tr>\n",
       "      <th>...</th>\n",
       "      <td>...</td>\n",
       "      <td>...</td>\n",
       "      <td>...</td>\n",
       "      <td>...</td>\n",
       "      <td>...</td>\n",
       "      <td>...</td>\n",
       "      <td>...</td>\n",
       "      <td>...</td>\n",
       "    </tr>\n",
       "    <tr>\n",
       "      <th>AC141272.1</th>\n",
       "      <td>ENSG00000277836</td>\n",
       "      <td>Gene Expression</td>\n",
       "      <td>0</td>\n",
       "      <td>0.000000</td>\n",
       "      <td>0.000000</td>\n",
       "      <td>100.000000</td>\n",
       "      <td>0.0</td>\n",
       "      <td>0.000000</td>\n",
       "    </tr>\n",
       "    <tr>\n",
       "      <th>AC023491.2</th>\n",
       "      <td>ENSG00000278633</td>\n",
       "      <td>Gene Expression</td>\n",
       "      <td>204</td>\n",
       "      <td>0.103393</td>\n",
       "      <td>0.098390</td>\n",
       "      <td>95.291946</td>\n",
       "      <td>448.0</td>\n",
       "      <td>6.107023</td>\n",
       "    </tr>\n",
       "    <tr>\n",
       "      <th>AC007325.1</th>\n",
       "      <td>ENSG00000276017</td>\n",
       "      <td>Gene Expression</td>\n",
       "      <td>8</td>\n",
       "      <td>0.002077</td>\n",
       "      <td>0.002075</td>\n",
       "      <td>99.815370</td>\n",
       "      <td>9.0</td>\n",
       "      <td>2.302585</td>\n",
       "    </tr>\n",
       "    <tr>\n",
       "      <th>AC007325.4</th>\n",
       "      <td>ENSG00000278817</td>\n",
       "      <td>Gene Expression</td>\n",
       "      <td>141</td>\n",
       "      <td>0.039926</td>\n",
       "      <td>0.039150</td>\n",
       "      <td>96.745904</td>\n",
       "      <td>173.0</td>\n",
       "      <td>5.159055</td>\n",
       "    </tr>\n",
       "    <tr>\n",
       "      <th>AC007325.2</th>\n",
       "      <td>ENSG00000277196</td>\n",
       "      <td>Gene Expression</td>\n",
       "      <td>0</td>\n",
       "      <td>0.000000</td>\n",
       "      <td>0.000000</td>\n",
       "      <td>100.000000</td>\n",
       "      <td>0.0</td>\n",
       "      <td>0.000000</td>\n",
       "    </tr>\n",
       "  </tbody>\n",
       "</table>\n",
       "<p>36601 rows × 8 columns</p>\n",
       "</div>"
      ],
      "text/plain": [
       "                    gene_ids    feature_types  n_cells_by_counts  mean_counts  \\\n",
       "MIR1302-2HG  ENSG00000243485  Gene Expression                  1     0.000231   \n",
       "FAM138A      ENSG00000237613  Gene Expression                  0     0.000000   \n",
       "OR4F5        ENSG00000186092  Gene Expression                  1     0.000231   \n",
       "AL627309.1   ENSG00000238009  Gene Expression                  8     0.001846   \n",
       "AL627309.3   ENSG00000239945  Gene Expression                  0     0.000000   \n",
       "...                      ...              ...                ...          ...   \n",
       "AC141272.1   ENSG00000277836  Gene Expression                  0     0.000000   \n",
       "AC023491.2   ENSG00000278633  Gene Expression                204     0.103393   \n",
       "AC007325.1   ENSG00000276017  Gene Expression                  8     0.002077   \n",
       "AC007325.4   ENSG00000278817  Gene Expression                141     0.039926   \n",
       "AC007325.2   ENSG00000277196  Gene Expression                  0     0.000000   \n",
       "\n",
       "             log1p_mean_counts  pct_dropout_by_counts  total_counts  \\\n",
       "MIR1302-2HG           0.000231              99.976921           1.0   \n",
       "FAM138A               0.000000             100.000000           0.0   \n",
       "OR4F5                 0.000231              99.976921           1.0   \n",
       "AL627309.1            0.001845              99.815370           8.0   \n",
       "AL627309.3            0.000000             100.000000           0.0   \n",
       "...                        ...                    ...           ...   \n",
       "AC141272.1            0.000000             100.000000           0.0   \n",
       "AC023491.2            0.098390              95.291946         448.0   \n",
       "AC007325.1            0.002075              99.815370           9.0   \n",
       "AC007325.4            0.039150              96.745904         173.0   \n",
       "AC007325.2            0.000000             100.000000           0.0   \n",
       "\n",
       "             log1p_total_counts  \n",
       "MIR1302-2HG            0.693147  \n",
       "FAM138A                0.000000  \n",
       "OR4F5                  0.693147  \n",
       "AL627309.1             2.197225  \n",
       "AL627309.3             0.000000  \n",
       "...                         ...  \n",
       "AC141272.1             0.000000  \n",
       "AC023491.2             6.107023  \n",
       "AC007325.1             2.302585  \n",
       "AC007325.4             5.159055  \n",
       "AC007325.2             0.000000  \n",
       "\n",
       "[36601 rows x 8 columns]"
      ]
     },
     "execution_count": 10,
     "metadata": {},
     "output_type": "execute_result"
    }
   ],
   "source": [
    "crypto_1.var"
   ]
  },
  {
   "cell_type": "markdown",
   "id": "411bf9b4",
   "metadata": {},
   "source": [
    "We store the matrix `X` to save the raw values. We will be able to see it in `layers`, independently of how we transform the matrix `X`"
   ]
  },
  {
   "cell_type": "code",
   "execution_count": 11,
   "id": "0e46b88e",
   "metadata": {},
   "outputs": [],
   "source": [
    "crypto_1.layers[ 'umi_raw' ] = crypto_1.X.copy()"
   ]
  },
  {
   "cell_type": "markdown",
   "id": "ceaec029",
   "metadata": {},
   "source": [
    "We can see the matrix in `layers`, and reassign it to `X` or use it if needed in some future analysis"
   ]
  },
  {
   "cell_type": "code",
   "execution_count": 12,
   "id": "b50eb867",
   "metadata": {},
   "outputs": [
    {
     "data": {
      "text/plain": [
       "AnnData object with n_obs × n_vars = 4333 × 36601\n",
       "    obs: 'n_genes_by_counts', 'log1p_n_genes_by_counts', 'total_counts', 'log1p_total_counts', 'pct_counts_in_top_50_genes', 'pct_counts_in_top_100_genes', 'pct_counts_in_top_200_genes', 'pct_counts_in_top_500_genes'\n",
       "    var: 'gene_ids', 'feature_types', 'n_cells_by_counts', 'mean_counts', 'log1p_mean_counts', 'pct_dropout_by_counts', 'total_counts', 'log1p_total_counts'\n",
       "    layers: 'umi_raw'"
      ]
     },
     "execution_count": 12,
     "metadata": {},
     "output_type": "execute_result"
    }
   ],
   "source": [
    "crypto_1"
   ]
  },
  {
   "cell_type": "code",
   "execution_count": 13,
   "id": "c6f983cf",
   "metadata": {},
   "outputs": [
    {
     "data": {
      "text/plain": [
       "array([[0., 0., 0., ..., 0., 1., 0.],\n",
       "       [0., 0., 0., ..., 0., 0., 0.],\n",
       "       [0., 0., 0., ..., 0., 0., 0.],\n",
       "       ...,\n",
       "       [0., 0., 0., ..., 0., 0., 0.],\n",
       "       [0., 0., 0., ..., 0., 0., 0.],\n",
       "       [0., 0., 0., ..., 0., 0., 0.]], dtype=float32)"
      ]
     },
     "execution_count": 13,
     "metadata": {},
     "output_type": "execute_result"
    }
   ],
   "source": [
    "crypto_1.layers['umi_raw']"
   ]
  },
  {
   "cell_type": "markdown",
   "id": "f1d60d22",
   "metadata": {},
   "source": [
    "The annotated datasets can be easily saved by using `write`. The format to be used is `h5ad`."
   ]
  },
  {
   "cell_type": "code",
   "execution_count": 15,
   "id": "2c2f2dba",
   "metadata": {},
   "outputs": [],
   "source": [
    "crypto_1.write('../../../Data/notebooks_data/crypto_1.h5ad')"
   ]
  }
 ],
 "metadata": {
  "kernelspec": {
   "display_name": "Python 3 ",
   "language": "python",
   "name": "python3"
  },
  "language_info": {
   "codemirror_mode": {
    "name": "ipython",
    "version": 3
   },
   "file_extension": ".py",
   "mimetype": "text/x-python",
   "name": "python",
   "nbconvert_exporter": "python",
   "pygments_lexer": "ipython3",
   "version": "3.9.6"
  }
 },
 "nbformat": 4,
 "nbformat_minor": 5
}
