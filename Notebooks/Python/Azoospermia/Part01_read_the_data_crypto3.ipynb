{
 "cells": [
  {
   "cell_type": "markdown",
   "id": "2e59bf32",
   "metadata": {},
   "source": [
    "## Import the packages\n",
    "We will use *scanpy* as the main analysis tool for the analysis. Scanpy has a comprehensive [manual webpage](https://scanpy.readthedocs.io/en/stable/) that includes many different tutorial you can use for further practicing. Scanpy is used in the discussion paper and the tutorial paper of this course. \n",
    "An alternative and well-established tool for R users is [Seurat](https://satijalab.org/seurat/). However, scanpy is mainatined and updated by a wider community with many of the latest developed tools."
   ]
  },
  {
   "cell_type": "code",
   "execution_count": 1,
   "id": "84afe9ce",
   "metadata": {},
   "outputs": [],
   "source": [
    "import scanpy as sc\n",
    "import pandas as pd\n",
    "import scvelo as scv\n",
    "import numpy as np\n",
    "import seaborn as sns\n",
    "import matplotlib.pyplot as plt\n",
    "import sklearn"
   ]
  },
  {
   "cell_type": "markdown",
   "id": "b1bc92ac",
   "metadata": {},
   "source": [
    "## Loading and understanding the dataset structure\n",
    "\n",
    "Data can be loaded from many different possible formats. Each format has a dedicated reading command, for example `read_h5ad`, `read_10X_mtx`, `read_txt`. We are going to use `read_10X_mtx` to load the output of the 10X software that produces the aligned data. \n",
    "\n",
    "Note the option `cache=True`. If you are going to read again the same data, it will be loaded extremely fast, because it has been stored in a convenient format for large datasets (`h5ad` format)"
   ]
  },
  {
   "cell_type": "code",
   "execution_count": 2,
   "id": "afa55f45",
   "metadata": {},
   "outputs": [],
   "source": [
    "crypto_3 = sc.read_10x_mtx('../../../../scRNASeq_course/Data/cellranger_crypto3/outs/filtered_feature_bc_matrix/', cache=True)"
   ]
  },
  {
   "cell_type": "markdown",
   "id": "2fce61c8",
   "metadata": {},
   "source": [
    "The datasets `crypto_3` and `crypto_3` are now created. They are so-called `Annotated datasets`. Each annotated dataset contains:\n",
    "\n",
    "\n",
    "*   The data matrix `X` of size $N\\_cells \\times N\\_genes$\n",
    "*   Vectors of cells-related quantities in the table `obs`(for example, how many transcripts there are in each cell)\n",
    "* Vectors of genes-related quantities in the table `var` (for example, in how many cells the each gene is detected)\n",
    "* Matrices of size $N\\_cells \\times N\\_genes$ in `adata.layers` (for example, normalized data matrix, imputed data matrix, ....)\n",
    "\n",
    "We will often call the cells for observations (obs) and the genes for variables (var) when it is practical in relation to the annotated dataset\n",
    "\n",
    "During the analysis we will encounter other components of the annotated datasets. They will be explained when it is necessary, so you might want to skip this explanation if you want.\n",
    "\n",
    "* Matrices where each line is cell-related in `obsm` (for example, the PCA coordinates of each cell)\n",
    "* Matrices where each line is gene-related in `adata.varm` (for example, mean of the gene in each cell type)\n",
    "* Anything else useful is in `adata.uns` and some quantities necessary for the `scanpy` package are saved in `obsp`\n",
    "\n",
    "![alt text](https://falexwolf.de/img/scanpy/anndata.svg)\n",
    "\n",
    "**Above:** a representation of the data matrix, variable and observations in an annotated dataset.  "
   ]
  },
  {
   "cell_type": "markdown",
   "id": "a2f15336",
   "metadata": {},
   "source": [
    "Each component of the annotated dataset is called by using a `dot`, For example, we can see the data matrix by"
   ]
  },
  {
   "cell_type": "code",
   "execution_count": 3,
   "id": "6857c238",
   "metadata": {},
   "outputs": [
    {
     "data": {
      "text/plain": [
       "<5764x36601 sparse matrix of type '<class 'numpy.float32'>'\n",
       "\twith 11034764 stored elements in Compressed Sparse Row format>"
      ]
     },
     "execution_count": 3,
     "metadata": {},
     "output_type": "execute_result"
    }
   ],
   "source": [
    "crypto_3.X"
   ]
  },
  {
   "cell_type": "markdown",
   "id": "52a3a8a2",
   "metadata": {},
   "source": [
    "The matrix is in compressed format. We can reassign it as a dense matrix, so that we can see what it contains."
   ]
  },
  {
   "cell_type": "code",
   "execution_count": 4,
   "id": "bd8587d0",
   "metadata": {},
   "outputs": [],
   "source": [
    "crypto_3.X = np.array( crypto_3.X.todense() )"
   ]
  },
  {
   "cell_type": "code",
   "execution_count": 5,
   "id": "db9e9b06",
   "metadata": {},
   "outputs": [
    {
     "data": {
      "text/plain": [
       "array([[0., 0., 0., ..., 0., 0., 0.],\n",
       "       [0., 0., 0., ..., 0., 1., 0.],\n",
       "       [0., 0., 0., ..., 0., 0., 0.],\n",
       "       ...,\n",
       "       [0., 0., 0., ..., 0., 0., 0.],\n",
       "       [0., 0., 0., ..., 0., 0., 0.],\n",
       "       [0., 0., 0., ..., 0., 0., 0.]], dtype=float32)"
      ]
     },
     "execution_count": 5,
     "metadata": {},
     "output_type": "execute_result"
    }
   ],
   "source": [
    "crypto_3.X"
   ]
  },
  {
   "cell_type": "markdown",
   "id": "93dc8487",
   "metadata": {},
   "source": [
    "When the matrix is no longer compressed, we can calculate some statistics for both cells and genes with the following `scanpy` command. Note that all scanpy commands follow a similar format."
   ]
  },
  {
   "cell_type": "code",
   "execution_count": 6,
   "id": "6277c124",
   "metadata": {},
   "outputs": [],
   "source": [
    "sc.preprocessing.calculate_qc_metrics(crypto_3, inplace=True)"
   ]
  },
  {
   "cell_type": "markdown",
   "id": "5aa4cdb0",
   "metadata": {},
   "source": [
    "We can see that `obs` and `var` now contains a lot of different values whose names are mostly self-explicative. For example\n",
    "- `n_genes_by_counts` is the number of detected genes in each cell\n",
    "- `total_counts` is the number of transcripts in each cell\n",
    "- `mean_counts` is the average of counts of each gene across all cells"
   ]
  },
  {
   "cell_type": "code",
   "execution_count": 7,
   "id": "0651b6aa",
   "metadata": {},
   "outputs": [
    {
     "data": {
      "text/plain": [
       "AnnData object with n_obs × n_vars = 5764 × 36601\n",
       "    obs: 'n_genes_by_counts', 'log1p_n_genes_by_counts', 'total_counts', 'log1p_total_counts', 'pct_counts_in_top_50_genes', 'pct_counts_in_top_100_genes', 'pct_counts_in_top_200_genes', 'pct_counts_in_top_500_genes'\n",
       "    var: 'gene_ids', 'feature_types', 'n_cells_by_counts', 'mean_counts', 'log1p_mean_counts', 'pct_dropout_by_counts', 'total_counts', 'log1p_total_counts'"
      ]
     },
     "execution_count": 7,
     "metadata": {},
     "output_type": "execute_result"
    }
   ],
   "source": [
    "crypto_3"
   ]
  },
  {
   "cell_type": "markdown",
   "id": "d1e2e5b0",
   "metadata": {},
   "source": [
    "You can access directly all observations/variables or some of them specifically. Each observation line is named with the cell barcode, while variables have gene names in each line"
   ]
  },
  {
   "cell_type": "code",
   "execution_count": 8,
   "id": "1a89917b",
   "metadata": {},
   "outputs": [
    {
     "data": {
      "text/html": [
       "<div>\n",
       "<style scoped>\n",
       "    .dataframe tbody tr th:only-of-type {\n",
       "        vertical-align: middle;\n",
       "    }\n",
       "\n",
       "    .dataframe tbody tr th {\n",
       "        vertical-align: top;\n",
       "    }\n",
       "\n",
       "    .dataframe thead th {\n",
       "        text-align: right;\n",
       "    }\n",
       "</style>\n",
       "<table border=\"1\" class=\"dataframe\">\n",
       "  <thead>\n",
       "    <tr style=\"text-align: right;\">\n",
       "      <th></th>\n",
       "      <th>n_genes_by_counts</th>\n",
       "      <th>log1p_n_genes_by_counts</th>\n",
       "      <th>total_counts</th>\n",
       "      <th>log1p_total_counts</th>\n",
       "      <th>pct_counts_in_top_50_genes</th>\n",
       "      <th>pct_counts_in_top_100_genes</th>\n",
       "      <th>pct_counts_in_top_200_genes</th>\n",
       "      <th>pct_counts_in_top_500_genes</th>\n",
       "    </tr>\n",
       "  </thead>\n",
       "  <tbody>\n",
       "    <tr>\n",
       "      <th>AAACCTGAGGGAGTAA-1</th>\n",
       "      <td>749</td>\n",
       "      <td>6.620073</td>\n",
       "      <td>1706.0</td>\n",
       "      <td>7.442492</td>\n",
       "      <td>40.504103</td>\n",
       "      <td>54.572098</td>\n",
       "      <td>67.643611</td>\n",
       "      <td>85.404455</td>\n",
       "    </tr>\n",
       "    <tr>\n",
       "      <th>AAACCTGAGTACATGA-1</th>\n",
       "      <td>983</td>\n",
       "      <td>6.891626</td>\n",
       "      <td>1272.0</td>\n",
       "      <td>7.149132</td>\n",
       "      <td>18.632075</td>\n",
       "      <td>26.493711</td>\n",
       "      <td>38.443396</td>\n",
       "      <td>62.028302</td>\n",
       "    </tr>\n",
       "    <tr>\n",
       "      <th>AAACCTGCAAGAAGAG-1</th>\n",
       "      <td>838</td>\n",
       "      <td>6.732211</td>\n",
       "      <td>1410.0</td>\n",
       "      <td>7.252054</td>\n",
       "      <td>26.879433</td>\n",
       "      <td>39.219858</td>\n",
       "      <td>54.042553</td>\n",
       "      <td>76.028369</td>\n",
       "    </tr>\n",
       "    <tr>\n",
       "      <th>AAACCTGCAATGACCT-1</th>\n",
       "      <td>922</td>\n",
       "      <td>6.827629</td>\n",
       "      <td>1452.0</td>\n",
       "      <td>7.281385</td>\n",
       "      <td>28.236915</td>\n",
       "      <td>37.327824</td>\n",
       "      <td>50.275482</td>\n",
       "      <td>70.936639</td>\n",
       "    </tr>\n",
       "    <tr>\n",
       "      <th>AAACCTGCACGAAGCA-1</th>\n",
       "      <td>2723</td>\n",
       "      <td>7.909857</td>\n",
       "      <td>5288.0</td>\n",
       "      <td>8.573384</td>\n",
       "      <td>15.733737</td>\n",
       "      <td>23.827534</td>\n",
       "      <td>33.812405</td>\n",
       "      <td>50.945537</td>\n",
       "    </tr>\n",
       "    <tr>\n",
       "      <th>...</th>\n",
       "      <td>...</td>\n",
       "      <td>...</td>\n",
       "      <td>...</td>\n",
       "      <td>...</td>\n",
       "      <td>...</td>\n",
       "      <td>...</td>\n",
       "      <td>...</td>\n",
       "      <td>...</td>\n",
       "    </tr>\n",
       "    <tr>\n",
       "      <th>TTTGTCAGTACGAAAT-1</th>\n",
       "      <td>1140</td>\n",
       "      <td>7.039660</td>\n",
       "      <td>2108.0</td>\n",
       "      <td>7.653969</td>\n",
       "      <td>29.506641</td>\n",
       "      <td>39.990512</td>\n",
       "      <td>51.707780</td>\n",
       "      <td>69.639469</td>\n",
       "    </tr>\n",
       "    <tr>\n",
       "      <th>TTTGTCAGTTGGTGGA-1</th>\n",
       "      <td>358</td>\n",
       "      <td>5.883322</td>\n",
       "      <td>506.0</td>\n",
       "      <td>6.228511</td>\n",
       "      <td>35.177866</td>\n",
       "      <td>49.011858</td>\n",
       "      <td>68.774704</td>\n",
       "      <td>100.000000</td>\n",
       "    </tr>\n",
       "    <tr>\n",
       "      <th>TTTGTCATCAGAAATG-1</th>\n",
       "      <td>3298</td>\n",
       "      <td>8.101375</td>\n",
       "      <td>6762.0</td>\n",
       "      <td>8.819221</td>\n",
       "      <td>12.348418</td>\n",
       "      <td>18.988465</td>\n",
       "      <td>28.349601</td>\n",
       "      <td>45.489500</td>\n",
       "    </tr>\n",
       "    <tr>\n",
       "      <th>TTTGTCATCCTACAGA-1</th>\n",
       "      <td>1790</td>\n",
       "      <td>7.490529</td>\n",
       "      <td>2507.0</td>\n",
       "      <td>7.827241</td>\n",
       "      <td>13.442361</td>\n",
       "      <td>19.585162</td>\n",
       "      <td>28.639809</td>\n",
       "      <td>48.544077</td>\n",
       "    </tr>\n",
       "    <tr>\n",
       "      <th>TTTGTCATCGGATGGA-1</th>\n",
       "      <td>3900</td>\n",
       "      <td>8.268988</td>\n",
       "      <td>10217.0</td>\n",
       "      <td>9.231906</td>\n",
       "      <td>22.687677</td>\n",
       "      <td>32.553587</td>\n",
       "      <td>41.665851</td>\n",
       "      <td>54.565920</td>\n",
       "    </tr>\n",
       "  </tbody>\n",
       "</table>\n",
       "<p>5764 rows × 8 columns</p>\n",
       "</div>"
      ],
      "text/plain": [
       "                    n_genes_by_counts  log1p_n_genes_by_counts  total_counts  \\\n",
       "AAACCTGAGGGAGTAA-1                749                 6.620073        1706.0   \n",
       "AAACCTGAGTACATGA-1                983                 6.891626        1272.0   \n",
       "AAACCTGCAAGAAGAG-1                838                 6.732211        1410.0   \n",
       "AAACCTGCAATGACCT-1                922                 6.827629        1452.0   \n",
       "AAACCTGCACGAAGCA-1               2723                 7.909857        5288.0   \n",
       "...                               ...                      ...           ...   \n",
       "TTTGTCAGTACGAAAT-1               1140                 7.039660        2108.0   \n",
       "TTTGTCAGTTGGTGGA-1                358                 5.883322         506.0   \n",
       "TTTGTCATCAGAAATG-1               3298                 8.101375        6762.0   \n",
       "TTTGTCATCCTACAGA-1               1790                 7.490529        2507.0   \n",
       "TTTGTCATCGGATGGA-1               3900                 8.268988       10217.0   \n",
       "\n",
       "                    log1p_total_counts  pct_counts_in_top_50_genes  \\\n",
       "AAACCTGAGGGAGTAA-1            7.442492                   40.504103   \n",
       "AAACCTGAGTACATGA-1            7.149132                   18.632075   \n",
       "AAACCTGCAAGAAGAG-1            7.252054                   26.879433   \n",
       "AAACCTGCAATGACCT-1            7.281385                   28.236915   \n",
       "AAACCTGCACGAAGCA-1            8.573384                   15.733737   \n",
       "...                                ...                         ...   \n",
       "TTTGTCAGTACGAAAT-1            7.653969                   29.506641   \n",
       "TTTGTCAGTTGGTGGA-1            6.228511                   35.177866   \n",
       "TTTGTCATCAGAAATG-1            8.819221                   12.348418   \n",
       "TTTGTCATCCTACAGA-1            7.827241                   13.442361   \n",
       "TTTGTCATCGGATGGA-1            9.231906                   22.687677   \n",
       "\n",
       "                    pct_counts_in_top_100_genes  pct_counts_in_top_200_genes  \\\n",
       "AAACCTGAGGGAGTAA-1                    54.572098                    67.643611   \n",
       "AAACCTGAGTACATGA-1                    26.493711                    38.443396   \n",
       "AAACCTGCAAGAAGAG-1                    39.219858                    54.042553   \n",
       "AAACCTGCAATGACCT-1                    37.327824                    50.275482   \n",
       "AAACCTGCACGAAGCA-1                    23.827534                    33.812405   \n",
       "...                                         ...                          ...   \n",
       "TTTGTCAGTACGAAAT-1                    39.990512                    51.707780   \n",
       "TTTGTCAGTTGGTGGA-1                    49.011858                    68.774704   \n",
       "TTTGTCATCAGAAATG-1                    18.988465                    28.349601   \n",
       "TTTGTCATCCTACAGA-1                    19.585162                    28.639809   \n",
       "TTTGTCATCGGATGGA-1                    32.553587                    41.665851   \n",
       "\n",
       "                    pct_counts_in_top_500_genes  \n",
       "AAACCTGAGGGAGTAA-1                    85.404455  \n",
       "AAACCTGAGTACATGA-1                    62.028302  \n",
       "AAACCTGCAAGAAGAG-1                    76.028369  \n",
       "AAACCTGCAATGACCT-1                    70.936639  \n",
       "AAACCTGCACGAAGCA-1                    50.945537  \n",
       "...                                         ...  \n",
       "TTTGTCAGTACGAAAT-1                    69.639469  \n",
       "TTTGTCAGTTGGTGGA-1                   100.000000  \n",
       "TTTGTCATCAGAAATG-1                    45.489500  \n",
       "TTTGTCATCCTACAGA-1                    48.544077  \n",
       "TTTGTCATCGGATGGA-1                    54.565920  \n",
       "\n",
       "[5764 rows x 8 columns]"
      ]
     },
     "execution_count": 8,
     "metadata": {},
     "output_type": "execute_result"
    }
   ],
   "source": [
    "crypto_3.obs"
   ]
  },
  {
   "cell_type": "code",
   "execution_count": 9,
   "id": "5975fee5",
   "metadata": {},
   "outputs": [
    {
     "data": {
      "text/html": [
       "<div>\n",
       "<style scoped>\n",
       "    .dataframe tbody tr th:only-of-type {\n",
       "        vertical-align: middle;\n",
       "    }\n",
       "\n",
       "    .dataframe tbody tr th {\n",
       "        vertical-align: top;\n",
       "    }\n",
       "\n",
       "    .dataframe thead th {\n",
       "        text-align: right;\n",
       "    }\n",
       "</style>\n",
       "<table border=\"1\" class=\"dataframe\">\n",
       "  <thead>\n",
       "    <tr style=\"text-align: right;\">\n",
       "      <th></th>\n",
       "      <th>total_counts</th>\n",
       "      <th>n_genes_by_counts</th>\n",
       "    </tr>\n",
       "  </thead>\n",
       "  <tbody>\n",
       "    <tr>\n",
       "      <th>AAACCTGAGGGAGTAA-1</th>\n",
       "      <td>1706.0</td>\n",
       "      <td>749</td>\n",
       "    </tr>\n",
       "    <tr>\n",
       "      <th>AAACCTGAGTACATGA-1</th>\n",
       "      <td>1272.0</td>\n",
       "      <td>983</td>\n",
       "    </tr>\n",
       "    <tr>\n",
       "      <th>AAACCTGCAAGAAGAG-1</th>\n",
       "      <td>1410.0</td>\n",
       "      <td>838</td>\n",
       "    </tr>\n",
       "    <tr>\n",
       "      <th>AAACCTGCAATGACCT-1</th>\n",
       "      <td>1452.0</td>\n",
       "      <td>922</td>\n",
       "    </tr>\n",
       "    <tr>\n",
       "      <th>AAACCTGCACGAAGCA-1</th>\n",
       "      <td>5288.0</td>\n",
       "      <td>2723</td>\n",
       "    </tr>\n",
       "    <tr>\n",
       "      <th>...</th>\n",
       "      <td>...</td>\n",
       "      <td>...</td>\n",
       "    </tr>\n",
       "    <tr>\n",
       "      <th>TTTGTCAGTACGAAAT-1</th>\n",
       "      <td>2108.0</td>\n",
       "      <td>1140</td>\n",
       "    </tr>\n",
       "    <tr>\n",
       "      <th>TTTGTCAGTTGGTGGA-1</th>\n",
       "      <td>506.0</td>\n",
       "      <td>358</td>\n",
       "    </tr>\n",
       "    <tr>\n",
       "      <th>TTTGTCATCAGAAATG-1</th>\n",
       "      <td>6762.0</td>\n",
       "      <td>3298</td>\n",
       "    </tr>\n",
       "    <tr>\n",
       "      <th>TTTGTCATCCTACAGA-1</th>\n",
       "      <td>2507.0</td>\n",
       "      <td>1790</td>\n",
       "    </tr>\n",
       "    <tr>\n",
       "      <th>TTTGTCATCGGATGGA-1</th>\n",
       "      <td>10217.0</td>\n",
       "      <td>3900</td>\n",
       "    </tr>\n",
       "  </tbody>\n",
       "</table>\n",
       "<p>5764 rows × 2 columns</p>\n",
       "</div>"
      ],
      "text/plain": [
       "                    total_counts  n_genes_by_counts\n",
       "AAACCTGAGGGAGTAA-1        1706.0                749\n",
       "AAACCTGAGTACATGA-1        1272.0                983\n",
       "AAACCTGCAAGAAGAG-1        1410.0                838\n",
       "AAACCTGCAATGACCT-1        1452.0                922\n",
       "AAACCTGCACGAAGCA-1        5288.0               2723\n",
       "...                          ...                ...\n",
       "TTTGTCAGTACGAAAT-1        2108.0               1140\n",
       "TTTGTCAGTTGGTGGA-1         506.0                358\n",
       "TTTGTCATCAGAAATG-1        6762.0               3298\n",
       "TTTGTCATCCTACAGA-1        2507.0               1790\n",
       "TTTGTCATCGGATGGA-1       10217.0               3900\n",
       "\n",
       "[5764 rows x 2 columns]"
      ]
     },
     "execution_count": 9,
     "metadata": {},
     "output_type": "execute_result"
    }
   ],
   "source": [
    "crypto_3.obs[ ['total_counts','n_genes_by_counts'] ]"
   ]
  },
  {
   "cell_type": "code",
   "execution_count": 10,
   "id": "a11547a2",
   "metadata": {},
   "outputs": [
    {
     "data": {
      "text/html": [
       "<div>\n",
       "<style scoped>\n",
       "    .dataframe tbody tr th:only-of-type {\n",
       "        vertical-align: middle;\n",
       "    }\n",
       "\n",
       "    .dataframe tbody tr th {\n",
       "        vertical-align: top;\n",
       "    }\n",
       "\n",
       "    .dataframe thead th {\n",
       "        text-align: right;\n",
       "    }\n",
       "</style>\n",
       "<table border=\"1\" class=\"dataframe\">\n",
       "  <thead>\n",
       "    <tr style=\"text-align: right;\">\n",
       "      <th></th>\n",
       "      <th>gene_ids</th>\n",
       "      <th>feature_types</th>\n",
       "      <th>n_cells_by_counts</th>\n",
       "      <th>mean_counts</th>\n",
       "      <th>log1p_mean_counts</th>\n",
       "      <th>pct_dropout_by_counts</th>\n",
       "      <th>total_counts</th>\n",
       "      <th>log1p_total_counts</th>\n",
       "    </tr>\n",
       "  </thead>\n",
       "  <tbody>\n",
       "    <tr>\n",
       "      <th>MIR1302-2HG</th>\n",
       "      <td>ENSG00000243485</td>\n",
       "      <td>Gene Expression</td>\n",
       "      <td>18</td>\n",
       "      <td>0.003123</td>\n",
       "      <td>0.003118</td>\n",
       "      <td>99.687717</td>\n",
       "      <td>18.0</td>\n",
       "      <td>2.944439</td>\n",
       "    </tr>\n",
       "    <tr>\n",
       "      <th>FAM138A</th>\n",
       "      <td>ENSG00000237613</td>\n",
       "      <td>Gene Expression</td>\n",
       "      <td>0</td>\n",
       "      <td>0.000000</td>\n",
       "      <td>0.000000</td>\n",
       "      <td>100.000000</td>\n",
       "      <td>0.0</td>\n",
       "      <td>0.000000</td>\n",
       "    </tr>\n",
       "    <tr>\n",
       "      <th>OR4F5</th>\n",
       "      <td>ENSG00000186092</td>\n",
       "      <td>Gene Expression</td>\n",
       "      <td>0</td>\n",
       "      <td>0.000000</td>\n",
       "      <td>0.000000</td>\n",
       "      <td>100.000000</td>\n",
       "      <td>0.0</td>\n",
       "      <td>0.000000</td>\n",
       "    </tr>\n",
       "    <tr>\n",
       "      <th>AL627309.1</th>\n",
       "      <td>ENSG00000238009</td>\n",
       "      <td>Gene Expression</td>\n",
       "      <td>29</td>\n",
       "      <td>0.005031</td>\n",
       "      <td>0.005019</td>\n",
       "      <td>99.496877</td>\n",
       "      <td>29.0</td>\n",
       "      <td>3.401197</td>\n",
       "    </tr>\n",
       "    <tr>\n",
       "      <th>AL627309.3</th>\n",
       "      <td>ENSG00000239945</td>\n",
       "      <td>Gene Expression</td>\n",
       "      <td>0</td>\n",
       "      <td>0.000000</td>\n",
       "      <td>0.000000</td>\n",
       "      <td>100.000000</td>\n",
       "      <td>0.0</td>\n",
       "      <td>0.000000</td>\n",
       "    </tr>\n",
       "    <tr>\n",
       "      <th>...</th>\n",
       "      <td>...</td>\n",
       "      <td>...</td>\n",
       "      <td>...</td>\n",
       "      <td>...</td>\n",
       "      <td>...</td>\n",
       "      <td>...</td>\n",
       "      <td>...</td>\n",
       "      <td>...</td>\n",
       "    </tr>\n",
       "    <tr>\n",
       "      <th>AC141272.1</th>\n",
       "      <td>ENSG00000277836</td>\n",
       "      <td>Gene Expression</td>\n",
       "      <td>0</td>\n",
       "      <td>0.000000</td>\n",
       "      <td>0.000000</td>\n",
       "      <td>100.000000</td>\n",
       "      <td>0.0</td>\n",
       "      <td>0.000000</td>\n",
       "    </tr>\n",
       "    <tr>\n",
       "      <th>AC023491.2</th>\n",
       "      <td>ENSG00000278633</td>\n",
       "      <td>Gene Expression</td>\n",
       "      <td>143</td>\n",
       "      <td>0.090909</td>\n",
       "      <td>0.087011</td>\n",
       "      <td>97.519084</td>\n",
       "      <td>524.0</td>\n",
       "      <td>6.263398</td>\n",
       "    </tr>\n",
       "    <tr>\n",
       "      <th>AC007325.1</th>\n",
       "      <td>ENSG00000276017</td>\n",
       "      <td>Gene Expression</td>\n",
       "      <td>81</td>\n",
       "      <td>0.023595</td>\n",
       "      <td>0.023321</td>\n",
       "      <td>98.594726</td>\n",
       "      <td>136.0</td>\n",
       "      <td>4.919981</td>\n",
       "    </tr>\n",
       "    <tr>\n",
       "      <th>AC007325.4</th>\n",
       "      <td>ENSG00000278817</td>\n",
       "      <td>Gene Expression</td>\n",
       "      <td>566</td>\n",
       "      <td>0.148334</td>\n",
       "      <td>0.138313</td>\n",
       "      <td>90.180430</td>\n",
       "      <td>855.0</td>\n",
       "      <td>6.752270</td>\n",
       "    </tr>\n",
       "    <tr>\n",
       "      <th>AC007325.2</th>\n",
       "      <td>ENSG00000277196</td>\n",
       "      <td>Gene Expression</td>\n",
       "      <td>15</td>\n",
       "      <td>0.002602</td>\n",
       "      <td>0.002599</td>\n",
       "      <td>99.739764</td>\n",
       "      <td>15.0</td>\n",
       "      <td>2.772589</td>\n",
       "    </tr>\n",
       "  </tbody>\n",
       "</table>\n",
       "<p>36601 rows × 8 columns</p>\n",
       "</div>"
      ],
      "text/plain": [
       "                    gene_ids    feature_types  n_cells_by_counts  mean_counts  \\\n",
       "MIR1302-2HG  ENSG00000243485  Gene Expression                 18     0.003123   \n",
       "FAM138A      ENSG00000237613  Gene Expression                  0     0.000000   \n",
       "OR4F5        ENSG00000186092  Gene Expression                  0     0.000000   \n",
       "AL627309.1   ENSG00000238009  Gene Expression                 29     0.005031   \n",
       "AL627309.3   ENSG00000239945  Gene Expression                  0     0.000000   \n",
       "...                      ...              ...                ...          ...   \n",
       "AC141272.1   ENSG00000277836  Gene Expression                  0     0.000000   \n",
       "AC023491.2   ENSG00000278633  Gene Expression                143     0.090909   \n",
       "AC007325.1   ENSG00000276017  Gene Expression                 81     0.023595   \n",
       "AC007325.4   ENSG00000278817  Gene Expression                566     0.148334   \n",
       "AC007325.2   ENSG00000277196  Gene Expression                 15     0.002602   \n",
       "\n",
       "             log1p_mean_counts  pct_dropout_by_counts  total_counts  \\\n",
       "MIR1302-2HG           0.003118              99.687717          18.0   \n",
       "FAM138A               0.000000             100.000000           0.0   \n",
       "OR4F5                 0.000000             100.000000           0.0   \n",
       "AL627309.1            0.005019              99.496877          29.0   \n",
       "AL627309.3            0.000000             100.000000           0.0   \n",
       "...                        ...                    ...           ...   \n",
       "AC141272.1            0.000000             100.000000           0.0   \n",
       "AC023491.2            0.087011              97.519084         524.0   \n",
       "AC007325.1            0.023321              98.594726         136.0   \n",
       "AC007325.4            0.138313              90.180430         855.0   \n",
       "AC007325.2            0.002599              99.739764          15.0   \n",
       "\n",
       "             log1p_total_counts  \n",
       "MIR1302-2HG            2.944439  \n",
       "FAM138A                0.000000  \n",
       "OR4F5                  0.000000  \n",
       "AL627309.1             3.401197  \n",
       "AL627309.3             0.000000  \n",
       "...                         ...  \n",
       "AC141272.1             0.000000  \n",
       "AC023491.2             6.263398  \n",
       "AC007325.1             4.919981  \n",
       "AC007325.4             6.752270  \n",
       "AC007325.2             2.772589  \n",
       "\n",
       "[36601 rows x 8 columns]"
      ]
     },
     "execution_count": 10,
     "metadata": {},
     "output_type": "execute_result"
    }
   ],
   "source": [
    "crypto_3.var"
   ]
  },
  {
   "cell_type": "markdown",
   "id": "411bf9b4",
   "metadata": {},
   "source": [
    "We store the matrix `X` to save the raw values. We will be able to see it in `layers`, independently of how we transform the matrix `X`"
   ]
  },
  {
   "cell_type": "code",
   "execution_count": 11,
   "id": "0e46b88e",
   "metadata": {},
   "outputs": [],
   "source": [
    "crypto_3.layers[ 'umi_raw' ] = crypto_3.X.copy()"
   ]
  },
  {
   "cell_type": "markdown",
   "id": "ceaec029",
   "metadata": {},
   "source": [
    "We can see the matrix in `layers`, and reassign it to `X` or use it if needed in some future analysis"
   ]
  },
  {
   "cell_type": "code",
   "execution_count": 12,
   "id": "b50eb867",
   "metadata": {},
   "outputs": [
    {
     "data": {
      "text/plain": [
       "AnnData object with n_obs × n_vars = 5764 × 36601\n",
       "    obs: 'n_genes_by_counts', 'log1p_n_genes_by_counts', 'total_counts', 'log1p_total_counts', 'pct_counts_in_top_50_genes', 'pct_counts_in_top_100_genes', 'pct_counts_in_top_200_genes', 'pct_counts_in_top_500_genes'\n",
       "    var: 'gene_ids', 'feature_types', 'n_cells_by_counts', 'mean_counts', 'log1p_mean_counts', 'pct_dropout_by_counts', 'total_counts', 'log1p_total_counts'\n",
       "    layers: 'umi_raw'"
      ]
     },
     "execution_count": 12,
     "metadata": {},
     "output_type": "execute_result"
    }
   ],
   "source": [
    "crypto_3"
   ]
  },
  {
   "cell_type": "code",
   "execution_count": 13,
   "id": "c6f983cf",
   "metadata": {},
   "outputs": [
    {
     "data": {
      "text/plain": [
       "array([[0., 0., 0., ..., 0., 0., 0.],\n",
       "       [0., 0., 0., ..., 0., 1., 0.],\n",
       "       [0., 0., 0., ..., 0., 0., 0.],\n",
       "       ...,\n",
       "       [0., 0., 0., ..., 0., 0., 0.],\n",
       "       [0., 0., 0., ..., 0., 0., 0.],\n",
       "       [0., 0., 0., ..., 0., 0., 0.]], dtype=float32)"
      ]
     },
     "execution_count": 13,
     "metadata": {},
     "output_type": "execute_result"
    }
   ],
   "source": [
    "crypto_3.layers['umi_raw']"
   ]
  },
  {
   "cell_type": "markdown",
   "id": "f1d60d22",
   "metadata": {},
   "source": [
    "The annotated datasets can be easily saved by using `write`. The format to be used is `h5ad`."
   ]
  },
  {
   "cell_type": "code",
   "execution_count": 14,
   "id": "2c2f2dba",
   "metadata": {},
   "outputs": [
    {
     "name": "stderr",
     "output_type": "stream",
     "text": [
      "... storing 'feature_types' as categorical\n"
     ]
    }
   ],
   "source": [
    "crypto_3.write('../../../Data/notebooks_data/crypto_3.h5ad')"
   ]
  },
  {
   "cell_type": "code",
   "execution_count": null,
   "id": "53b6431e",
   "metadata": {},
   "outputs": [],
   "source": []
  }
 ],
 "metadata": {
  "kernelspec": {
   "display_name": "Python 3 ",
   "language": "python",
   "name": "python3"
  },
  "language_info": {
   "codemirror_mode": {
    "name": "ipython",
    "version": 3
   },
   "file_extension": ".py",
   "mimetype": "text/x-python",
   "name": "python",
   "nbconvert_exporter": "python",
   "pygments_lexer": "ipython3",
   "version": "3.9.6"
  }
 },
 "nbformat": 4,
 "nbformat_minor": 5
}
