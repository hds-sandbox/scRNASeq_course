{
 "cells": [
  {
   "cell_type": "markdown",
   "metadata": {},
   "source": [
    "***Import libraires and data, set up stuff***"
   ]
  },
  {
   "cell_type": "code",
   "execution_count": null,
   "metadata": {},
   "outputs": [],
   "source": [
    "import scanpy as sc\n",
    "import pandas as pd\n",
    "import scvelo as scv\n",
    "import numpy as np\n",
    "import seaborn as sns\n",
    "import matplotlib.pyplot as plt\n",
    "import sklearn\n",
    "import anndata as ad\n"
   ]
  },
  {
   "cell_type": "code",
   "execution_count": null,
   "metadata": {},
   "outputs": [],
   "source": [
    "import rpy2.rinterface_lib.callbacks\n",
    "import logging\n",
    "\n",
    "from rpy2.robjects import pandas2ri\n",
    "import anndata2ri"
   ]
  },
  {
   "cell_type": "code",
   "execution_count": null,
   "metadata": {},
   "outputs": [],
   "source": [
    "# Ignore R warning messages\n",
    "#Note: this can be commented out to get more verbose R output\n",
    "rpy2.rinterface_lib.callbacks.logger.setLevel(logging.ERROR)\n",
    "\n",
    "# Automatically convert rpy2 outputs to pandas dataframes\n",
    "pandas2ri.activate()\n",
    "anndata2ri.activate()\n",
    "%load_ext rpy2.ipython"
   ]
  },
  {
   "cell_type": "code",
   "execution_count": null,
   "metadata": {},
   "outputs": [],
   "source": [
    "plt.rcParams['figure.figsize']=(6,6) #rescale figures"
   ]
  },
  {
   "cell_type": "code",
   "execution_count": null,
   "metadata": {},
   "outputs": [],
   "source": [
    "sample_1 = sc.read('../../../Data/notebooks_data/crypto_1.filt.h5ad')\n",
    "sample_2 = sc.read('../../../Data/notebooks_data/crypto_2.filt.h5ad')\n",
    "sample_3 = sc.read('../../../Data/notebooks_data/crypto_3.filt.h5ad')"
   ]
  },
  {
   "cell_type": "code",
   "execution_count": null,
   "metadata": {},
   "outputs": [],
   "source": [
    "batch_names = ['SAM_1','SAM_2','SAM_3']\n",
    "sample = ad.AnnData.concatenate(sample_1, sample_2, sample_3)\n",
    "sample.rename_categories(key='batch', categories=batch_names)\n",
    "scv.utils.cleanup(sample, clean='var')"
   ]
  },
  {
   "cell_type": "code",
   "execution_count": null,
   "metadata": {},
   "outputs": [],
   "source": [
    "del sample_1, sample_2, sample_3"
   ]
  },
  {
   "cell_type": "code",
   "execution_count": null,
   "metadata": {},
   "outputs": [],
   "source": [
    "sample"
   ]
  },
  {
   "cell_type": "code",
   "execution_count": null,
   "metadata": {},
   "outputs": [],
   "source": [
    "sc.preprocessing.filter_genes(sample, min_cells=30)"
   ]
  },
  {
   "cell_type": "code",
   "execution_count": null,
   "metadata": {},
   "outputs": [],
   "source": [
    "sample"
   ]
  },
  {
   "cell_type": "code",
   "execution_count": null,
   "metadata": {},
   "outputs": [],
   "source": [
    "rawMatrix = np.array( sample.layers['umi_raw'].T.copy())\n",
    "genes_name = sample.var_names\n",
    "cells_info = sample.obs[ ['batch'] ].copy()"
   ]
  },
  {
   "cell_type": "code",
   "execution_count": null,
   "metadata": {},
   "outputs": [],
   "source": [
    "rawMatrix"
   ]
  },
  {
   "cell_type": "code",
   "execution_count": null,
   "metadata": {},
   "outputs": [],
   "source": [
    "%%R -i cells_info -i rawMatrix -i genes_name\n",
    "library(scater)\n",
    "cell_df <- DataFrame(data = cells_info)\n",
    "colnames(rawMatrix) <- rownames(cell_df) #cell names\n",
    "rownames(rawMatrix) <- genes_name #gene names"
   ]
  },
  {
   "cell_type": "code",
   "execution_count": null,
   "metadata": {},
   "outputs": [],
   "source": [
    "%%R\n",
    "library(sctransform)\n",
    "library(future)\n",
    "future::plan(strategy = 'multicore', workers = 2)\n",
    "options(future.globals.maxSize = 50 * 1024 ^ 3)"
   ]
  },
  {
   "cell_type": "code",
   "execution_count": null,
   "metadata": {},
   "outputs": [],
   "source": [
    "%%R\n",
    "names(cell_df)"
   ]
  },
  {
   "cell_type": "code",
   "execution_count": null,
   "metadata": {},
   "outputs": [],
   "source": [
    "%%R\n",
    "vst_out=vst( as.matrix(rawMatrix), cell_attr=cell_df, n_genes=3000,\n",
    "            batch_var='data.batch', method='qpoisson',\n",
    "            show_progress=TRUE, min_cells=30,\n",
    "            return_corrected_umi=TRUE)"
   ]
  },
  {
   "cell_type": "code",
   "execution_count": null,
   "metadata": {},
   "outputs": [],
   "source": [
    "%%R -o new_matrix -o sct_genes -o all_genes -o umi_matrix\n",
    "new_matrix=vst_out$y\n",
    "sct_genes = rownames(vst_out$model_pars)\n",
    "all_genes = rownames(new_matrix)\n",
    "umi_matrix=vst_out$umi_corrected"
   ]
  },
  {
   "cell_type": "code",
   "execution_count": null,
   "metadata": {},
   "outputs": [],
   "source": [
    "sct_genes = list(sct_genes)\n",
    "sample.var['highly_variable'] = [i in sct_genes for i in sample.var_names]"
   ]
  },
  {
   "cell_type": "code",
   "execution_count": null,
   "metadata": {},
   "outputs": [],
   "source": [
    "sample = sample[:,list(all_genes)].copy()"
   ]
  },
  {
   "cell_type": "code",
   "execution_count": null,
   "metadata": {},
   "outputs": [],
   "source": [
    "sample.layers['norm_sct'] = np.transpose( new_matrix )"
   ]
  },
  {
   "cell_type": "code",
   "execution_count": null,
   "metadata": {},
   "outputs": [],
   "source": [
    "sample.layers['umi_sct'] = np.transpose( umi_matrix )"
   ]
  },
  {
   "cell_type": "code",
   "execution_count": null,
   "metadata": {},
   "outputs": [],
   "source": [
    "sample.X = sample.layers['norm_sct'].copy()\n",
    "sc.pp.scale(sample)\n",
    "sc.preprocessing.pca(sample, svd_solver='arpack', random_state=12345)\n",
    "sc.pl.pca(sample, color=['batch','total_counts'])\n",
    "import bbknn as bbknn\n",
    "bbknn.bbknn(sample)\n",
    "sc.tools.umap(sample, random_state=54321)\n",
    "sc.plotting.umap(sample, color=['batch','total_counts'])"
   ]
  },
  {
   "cell_type": "code",
   "execution_count": null,
   "metadata": {},
   "outputs": [],
   "source": [
    "data = np.array( sample.obsm['X_umap'] )\n",
    "batch = np.array( sample.obs['batch'] )"
   ]
  },
  {
   "cell_type": "code",
   "execution_count": null,
   "metadata": {},
   "outputs": [],
   "source": [
    "%%R -i batch -i data\n",
    "\n",
    "library(kBET)\n",
    "library(ggplot2)\n",
    "\n",
    "batch.estimate <- kBET( data, batch, plot=TRUE, k0=10 )\n",
    "plot.data <- data.frame(class=rep(c('observed', 'expected'), \n",
    "                                  each=length(batch.estimate$stats$kBET.observed)), \n",
    "                        data =  c(batch.estimate$stats$kBET.observed,\n",
    "                                  batch.estimate$stats$kBET.expected))"
   ]
  },
  {
   "cell_type": "code",
   "execution_count": null,
   "metadata": {},
   "outputs": [],
   "source": [
    "sample.write('../../../Data/notebooks_data/crypto_123.filt.norm.h5ad')"
   ]
  },
  {
   "cell_type": "code",
   "execution_count": null,
   "metadata": {},
   "outputs": [],
   "source": [
    "sample = sc.read('../../../Data/notebooks_data/crypto_123.filt.norm.h5ad')"
   ]
  },
  {
   "cell_type": "code",
   "execution_count": null,
   "metadata": {},
   "outputs": [],
   "source": [
    "import sklearn.preprocessing\n",
    "import numpy as np\n",
    "label_binarizer = sklearn.preprocessing.LabelBinarizer()\n",
    "label_binarizer.fit(sample.obs['batch'])\n",
    "batch_onehot = label_binarizer.transform(sample.obs['batch'])"
   ]
  },
  {
   "cell_type": "code",
   "execution_count": null,
   "metadata": {},
   "outputs": [],
   "source": [
    "ctl = {\"maxIter\":30, \"eps\":1e-3, \"optimizeTheta\":True}\n",
    "sample_glmpca = sample[:,sample.var['highly_variable']].copy()\n",
    "Y = sample_glmpca.layers['umi_sct'].T.todense().copy()\n",
    "Y = np.asarray(Y)\n",
    "from glmpca import glmpca\n",
    "print(\"calculating\")\n",
    "res = glmpca.glmpca(Y, 15, penalty=1, X=batch_onehot, verbose=True, ctl=ctl)\n",
    "factors = res[\"factors\"]\n",
    "sample_glmpca.obsm['X_glmpca']=factors\n",
    "sample_glmpca.obsm['X_pca']=factors\n",
    "sample.obsm['X_glmpca'] = sample_glmpca.obsm['X_glmpca'].copy()\n",
    "\n"
   ]
  },
  {
   "cell_type": "code",
   "execution_count": null,
   "metadata": {},
   "outputs": [],
   "source": [
    "sample.obsm['X_pca'] = sample.obsm['X_glmpca'].copy()"
   ]
  },
  {
   "cell_type": "code",
   "execution_count": null,
   "metadata": {},
   "outputs": [],
   "source": [
    "import bbknn as bbknn\n",
    "bbknn.bbknn(sample)\n",
    "sc.tools.umap(sample, random_state=54321)\n",
    "sc.plotting.umap(sample, color=['batch','total_counts'])"
   ]
  },
  {
   "cell_type": "code",
   "execution_count": null,
   "metadata": {},
   "outputs": [],
   "source": [
    "sample.write('../../../Data/notebooks_data/crypto_123.filt.norm.red.h5ad')"
   ]
  },
  {
   "cell_type": "code",
   "execution_count": null,
   "metadata": {},
   "outputs": [],
   "source": [
    "data = np.array( sample.obsm['X_umap'] )\n",
    "batch = np.array( sample.obs['batch'] )"
   ]
  },
  {
   "cell_type": "code",
   "execution_count": null,
   "metadata": {},
   "outputs": [],
   "source": [
    "%%R -i batch -i data\n",
    "\n",
    "library(kBET)\n",
    "library(ggplot2)\n",
    "\n",
    "batch.estimate <- kBET( data, batch, plot=TRUE, k0=10 )\n",
    "plot.data <- data.frame(class=rep(c('observed', 'expected'), \n",
    "                                  each=length(batch.estimate$stats$kBET.observed)), \n",
    "                        data =  c(batch.estimate$stats$kBET.observed,\n",
    "                                  batch.estimate$stats$kBET.expected))"
   ]
  },
  {
   "cell_type": "code",
   "execution_count": null,
   "metadata": {},
   "outputs": [],
   "source": [
    "sample.X = sample.layers['umi_raw'].copy()\n",
    "sc.pp.log1p(sample)\n",
    "sc.pp.normalize_total(sample)\n",
    "sc.pp.scale(sample)\n",
    "sc.pp.pca(sample, svd_solver='arpack', random_state=12345)\n",
    "sc.pp.neighbors(sample)\n",
    "sc.tools.umap(sample, random_state=54321, n_components=2)"
   ]
  },
  {
   "cell_type": "code",
   "execution_count": null,
   "metadata": {},
   "outputs": [],
   "source": [
    "sc.pl.umap(sample, color=['batch'])"
   ]
  },
  {
   "cell_type": "code",
   "execution_count": null,
   "metadata": {},
   "outputs": [],
   "source": [
    "non_integrated_data = np.array( sample.obsm['X_umap'] )\n",
    "batch = np.array( sample.obs['batch'] )"
   ]
  },
  {
   "cell_type": "code",
   "execution_count": null,
   "metadata": {},
   "outputs": [],
   "source": [
    "%%R -i batch -i non_integrated_data\n",
    "\n",
    "library(kBET)\n",
    "library(ggplot2)\n",
    "\n",
    "batch.estimate <- kBET( non_integrated_data, batch, plot=TRUE, k0=10 )\n",
    "plot.data <- data.frame(class=rep(c('observed', 'expected'), \n",
    "                                  each=length(batch.estimate$stats$kBET.observed)), \n",
    "                        data =  c(batch.estimate$stats$kBET.observed,\n",
    "                                  batch.estimate$stats$kBET.expected))"
   ]
  }
 ],
 "metadata": {
  "kernelspec": {
   "display_name": "Python 3 ",
   "language": "python",
   "name": "python3"
  },
  "language_info": {
   "codemirror_mode": {
    "name": "ipython",
    "version": 3
   },
   "file_extension": ".py",
   "mimetype": "text/x-python",
   "name": "python",
   "nbconvert_exporter": "python",
   "pygments_lexer": "ipython3"
  }
 },
 "nbformat": 4,
 "nbformat_minor": 4
}
