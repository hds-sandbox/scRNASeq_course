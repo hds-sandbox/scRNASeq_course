{
 "cells": [
  {
   "cell_type": "markdown",
   "id": "2e59bf32",
   "metadata": {},
   "source": [
    "## Import the packages\n",
    "We will use *scanpy* as the main analysis tool for the analysis. Scanpy has a comprehensive [manual webpage](https://scanpy.readthedocs.io/en/stable/) that includes many different tutorial you can use for further practicing. Scanpy is used in the discussion paper and the tutorial paper of this course. \n",
    "An alternative and well-established tool for R users is [Seurat](https://satijalab.org/seurat/). However, scanpy is mainatined and updated by a wider community with many of the latest developed tools."
   ]
  },
  {
   "cell_type": "code",
   "execution_count": 15,
   "id": "84afe9ce",
   "metadata": {},
   "outputs": [],
   "source": [
    "import scanpy as sc\n",
    "import pandas as pd\n",
    "import scvelo as scv\n",
    "import numpy as np\n",
    "import seaborn as sns\n",
    "import matplotlib.pyplot as plt\n",
    "import sklearn"
   ]
  },
  {
   "cell_type": "markdown",
   "id": "b1bc92ac",
   "metadata": {},
   "source": [
    "## Loading and understanding the dataset structure\n",
    "\n",
    "Data can be loaded from many different possible formats. Each format has a dedicated reading command, for example `read_h5ad`, `read_10X_mtx`, `read_txt`. We are going to use `read_10X_mtx` to load the output of the 10X software that produces the aligned data. \n",
    "\n",
    "Note the option `cache=True`. If you are going to read again the same data, it will be loaded extremely fast, because it has been stored in a convenient format for large datasets (`h5ad` format)"
   ]
  },
  {
   "cell_type": "code",
   "execution_count": 16,
   "id": "afa55f45",
   "metadata": {},
   "outputs": [],
   "source": [
    "crypto_2 = sc.read_10x_mtx('../../../../scRNASeq_course/Data/cellranger_crypto2/outs/filtered_feature_bc_matrix/', cache=True)"
   ]
  },
  {
   "cell_type": "markdown",
   "id": "2fce61c8",
   "metadata": {},
   "source": [
    "The datasets `crypto_2` and `crypto_3` are now created. They are so-called `Annotated datasets`. Each annotated dataset contains:\n",
    "\n",
    "\n",
    "*   The data matrix `X` of size $N\\_cells \\times N\\_genes$\n",
    "*   Vectors of cells-related quantities in the table `obs`(for example, how many transcripts there are in each cell)\n",
    "* Vectors of genes-related quantities in the table `var` (for example, in how many cells the each gene is detected)\n",
    "* Matrices of size $N\\_cells \\times N\\_genes$ in `adata.layers` (for example, normalized data matrix, imputed data matrix, ....)\n",
    "\n",
    "We will often call the cells for observations (obs) and the genes for variables (var) when it is practical in relation to the annotated dataset\n",
    "\n",
    "During the analysis we will encounter other components of the annotated datasets. They will be explained when it is necessary, so you might want to skip this explanation if you want.\n",
    "\n",
    "* Matrices where each line is cell-related in `obsm` (for example, the PCA coordinates of each cell)\n",
    "* Matrices where each line is gene-related in `adata.varm` (for example, mean of the gene in each cell type)\n",
    "* Anything else useful is in `adata.uns` and some quantities necessary for the `scanpy` package are saved in `obsp`\n",
    "\n",
    "![alt text](https://falexwolf.de/img/scanpy/anndata.svg)\n",
    "\n",
    "**Above:** a representation of the data matrix, variable and observations in an annotated dataset.  "
   ]
  },
  {
   "cell_type": "markdown",
   "id": "a2f15336",
   "metadata": {},
   "source": [
    "Each component of the annotated dataset is called by using a `dot`, For example, we can see the data matrix by"
   ]
  },
  {
   "cell_type": "code",
   "execution_count": 17,
   "id": "6857c238",
   "metadata": {},
   "outputs": [
    {
     "data": {
      "text/plain": [
       "<5176x36601 sparse matrix of type '<class 'numpy.float32'>'\n",
       "\twith 6517637 stored elements in Compressed Sparse Row format>"
      ]
     },
     "execution_count": 17,
     "metadata": {},
     "output_type": "execute_result"
    }
   ],
   "source": [
    "crypto_2.X"
   ]
  },
  {
   "cell_type": "markdown",
   "id": "52a3a8a2",
   "metadata": {},
   "source": [
    "The matrix is in compressed format. We can reassign it as a dense matrix, so that we can see what it contains."
   ]
  },
  {
   "cell_type": "code",
   "execution_count": 18,
   "id": "bd8587d0",
   "metadata": {},
   "outputs": [],
   "source": [
    "crypto_2.X = np.array( crypto_2.X.todense() )"
   ]
  },
  {
   "cell_type": "code",
   "execution_count": 19,
   "id": "db9e9b06",
   "metadata": {},
   "outputs": [
    {
     "data": {
      "text/plain": [
       "array([[0., 0., 0., ..., 0., 0., 0.],\n",
       "       [0., 0., 0., ..., 0., 0., 0.],\n",
       "       [0., 0., 0., ..., 0., 0., 0.],\n",
       "       ...,\n",
       "       [0., 0., 0., ..., 0., 0., 0.],\n",
       "       [0., 0., 0., ..., 0., 0., 0.],\n",
       "       [0., 0., 0., ..., 0., 0., 0.]], dtype=float32)"
      ]
     },
     "execution_count": 19,
     "metadata": {},
     "output_type": "execute_result"
    }
   ],
   "source": [
    "crypto_2.X"
   ]
  },
  {
   "cell_type": "markdown",
   "id": "93dc8487",
   "metadata": {},
   "source": [
    "When the matrix is no longer compressed, we can calculate some statistics for both cells and genes with the following `scanpy` command. Note that all scanpy commands follow a similar format."
   ]
  },
  {
   "cell_type": "code",
   "execution_count": 20,
   "id": "6277c124",
   "metadata": {},
   "outputs": [],
   "source": [
    "sc.preprocessing.calculate_qc_metrics(crypto_2, inplace=True)"
   ]
  },
  {
   "cell_type": "markdown",
   "id": "5aa4cdb0",
   "metadata": {},
   "source": [
    "We can see that `obs` and `var` now contains a lot of different values whose names are mostly self-explicative. For example\n",
    "- `n_genes_by_counts` is the number of detected genes in each cell\n",
    "- `total_counts` is the number of transcripts in each cell\n",
    "- `mean_counts` is the average of counts of each gene across all cells"
   ]
  },
  {
   "cell_type": "code",
   "execution_count": 21,
   "id": "0651b6aa",
   "metadata": {},
   "outputs": [
    {
     "data": {
      "text/plain": [
       "AnnData object with n_obs × n_vars = 5176 × 36601\n",
       "    obs: 'n_genes_by_counts', 'log1p_n_genes_by_counts', 'total_counts', 'log1p_total_counts', 'pct_counts_in_top_50_genes', 'pct_counts_in_top_100_genes', 'pct_counts_in_top_200_genes', 'pct_counts_in_top_500_genes'\n",
       "    var: 'gene_ids', 'feature_types', 'n_cells_by_counts', 'mean_counts', 'log1p_mean_counts', 'pct_dropout_by_counts', 'total_counts', 'log1p_total_counts'"
      ]
     },
     "execution_count": 21,
     "metadata": {},
     "output_type": "execute_result"
    }
   ],
   "source": [
    "crypto_2"
   ]
  },
  {
   "cell_type": "markdown",
   "id": "d1e2e5b0",
   "metadata": {},
   "source": [
    "You can access directly all observations/variables or some of them specifically. Each observation line is named with the cell barcode, while variables have gene names in each line"
   ]
  },
  {
   "cell_type": "code",
   "execution_count": 22,
   "id": "1a89917b",
   "metadata": {},
   "outputs": [
    {
     "data": {
      "text/html": [
       "<div>\n",
       "<style scoped>\n",
       "    .dataframe tbody tr th:only-of-type {\n",
       "        vertical-align: middle;\n",
       "    }\n",
       "\n",
       "    .dataframe tbody tr th {\n",
       "        vertical-align: top;\n",
       "    }\n",
       "\n",
       "    .dataframe thead th {\n",
       "        text-align: right;\n",
       "    }\n",
       "</style>\n",
       "<table border=\"1\" class=\"dataframe\">\n",
       "  <thead>\n",
       "    <tr style=\"text-align: right;\">\n",
       "      <th></th>\n",
       "      <th>n_genes_by_counts</th>\n",
       "      <th>log1p_n_genes_by_counts</th>\n",
       "      <th>total_counts</th>\n",
       "      <th>log1p_total_counts</th>\n",
       "      <th>pct_counts_in_top_50_genes</th>\n",
       "      <th>pct_counts_in_top_100_genes</th>\n",
       "      <th>pct_counts_in_top_200_genes</th>\n",
       "      <th>pct_counts_in_top_500_genes</th>\n",
       "    </tr>\n",
       "  </thead>\n",
       "  <tbody>\n",
       "    <tr>\n",
       "      <th>AAACCTGAGACCTAGG-1</th>\n",
       "      <td>981</td>\n",
       "      <td>6.889591</td>\n",
       "      <td>2623.0</td>\n",
       "      <td>7.872455</td>\n",
       "      <td>38.658025</td>\n",
       "      <td>53.602745</td>\n",
       "      <td>66.831872</td>\n",
       "      <td>81.662219</td>\n",
       "    </tr>\n",
       "    <tr>\n",
       "      <th>AAACCTGAGCGATGAC-1</th>\n",
       "      <td>1508</td>\n",
       "      <td>7.319202</td>\n",
       "      <td>2831.0</td>\n",
       "      <td>7.948739</td>\n",
       "      <td>24.443659</td>\n",
       "      <td>34.934652</td>\n",
       "      <td>45.849523</td>\n",
       "      <td>64.394207</td>\n",
       "    </tr>\n",
       "    <tr>\n",
       "      <th>AAACCTGAGTTAACGA-1</th>\n",
       "      <td>1019</td>\n",
       "      <td>6.927558</td>\n",
       "      <td>2312.0</td>\n",
       "      <td>7.746301</td>\n",
       "      <td>37.110727</td>\n",
       "      <td>49.048443</td>\n",
       "      <td>60.813149</td>\n",
       "      <td>77.551903</td>\n",
       "    </tr>\n",
       "    <tr>\n",
       "      <th>AAACCTGCACATCTTT-1</th>\n",
       "      <td>374</td>\n",
       "      <td>5.926926</td>\n",
       "      <td>556.0</td>\n",
       "      <td>6.322565</td>\n",
       "      <td>39.208633</td>\n",
       "      <td>50.719424</td>\n",
       "      <td>68.705036</td>\n",
       "      <td>100.000000</td>\n",
       "    </tr>\n",
       "    <tr>\n",
       "      <th>AAACCTGCAGCATACT-1</th>\n",
       "      <td>547</td>\n",
       "      <td>6.306275</td>\n",
       "      <td>1037.0</td>\n",
       "      <td>6.945051</td>\n",
       "      <td>43.394407</td>\n",
       "      <td>54.676953</td>\n",
       "      <td>66.538091</td>\n",
       "      <td>95.467695</td>\n",
       "    </tr>\n",
       "    <tr>\n",
       "      <th>...</th>\n",
       "      <td>...</td>\n",
       "      <td>...</td>\n",
       "      <td>...</td>\n",
       "      <td>...</td>\n",
       "      <td>...</td>\n",
       "      <td>...</td>\n",
       "      <td>...</td>\n",
       "      <td>...</td>\n",
       "    </tr>\n",
       "    <tr>\n",
       "      <th>TTTGTCAGTACGACCC-1</th>\n",
       "      <td>1494</td>\n",
       "      <td>7.309881</td>\n",
       "      <td>2516.0</td>\n",
       "      <td>7.830823</td>\n",
       "      <td>18.441971</td>\n",
       "      <td>28.060413</td>\n",
       "      <td>40.779014</td>\n",
       "      <td>60.492846</td>\n",
       "    </tr>\n",
       "    <tr>\n",
       "      <th>TTTGTCAGTATCAGTC-1</th>\n",
       "      <td>724</td>\n",
       "      <td>6.586172</td>\n",
       "      <td>1406.0</td>\n",
       "      <td>7.249215</td>\n",
       "      <td>39.687055</td>\n",
       "      <td>50.426743</td>\n",
       "      <td>62.731152</td>\n",
       "      <td>84.068279</td>\n",
       "    </tr>\n",
       "    <tr>\n",
       "      <th>TTTGTCAGTTAGATGA-1</th>\n",
       "      <td>638</td>\n",
       "      <td>6.459904</td>\n",
       "      <td>1117.0</td>\n",
       "      <td>7.019297</td>\n",
       "      <td>33.751119</td>\n",
       "      <td>47.269472</td>\n",
       "      <td>60.787825</td>\n",
       "      <td>87.645479</td>\n",
       "    </tr>\n",
       "    <tr>\n",
       "      <th>TTTGTCATCGGGAGTA-1</th>\n",
       "      <td>515</td>\n",
       "      <td>6.246107</td>\n",
       "      <td>914.0</td>\n",
       "      <td>6.818924</td>\n",
       "      <td>40.153173</td>\n",
       "      <td>52.844639</td>\n",
       "      <td>65.536105</td>\n",
       "      <td>98.358862</td>\n",
       "    </tr>\n",
       "    <tr>\n",
       "      <th>TTTGTCATCTTCGGTC-1</th>\n",
       "      <td>457</td>\n",
       "      <td>6.126869</td>\n",
       "      <td>713.0</td>\n",
       "      <td>6.570883</td>\n",
       "      <td>39.270687</td>\n",
       "      <td>49.929874</td>\n",
       "      <td>63.955119</td>\n",
       "      <td>100.000000</td>\n",
       "    </tr>\n",
       "  </tbody>\n",
       "</table>\n",
       "<p>5176 rows × 8 columns</p>\n",
       "</div>"
      ],
      "text/plain": [
       "                    n_genes_by_counts  log1p_n_genes_by_counts  total_counts  \\\n",
       "AAACCTGAGACCTAGG-1                981                 6.889591        2623.0   \n",
       "AAACCTGAGCGATGAC-1               1508                 7.319202        2831.0   \n",
       "AAACCTGAGTTAACGA-1               1019                 6.927558        2312.0   \n",
       "AAACCTGCACATCTTT-1                374                 5.926926         556.0   \n",
       "AAACCTGCAGCATACT-1                547                 6.306275        1037.0   \n",
       "...                               ...                      ...           ...   \n",
       "TTTGTCAGTACGACCC-1               1494                 7.309881        2516.0   \n",
       "TTTGTCAGTATCAGTC-1                724                 6.586172        1406.0   \n",
       "TTTGTCAGTTAGATGA-1                638                 6.459904        1117.0   \n",
       "TTTGTCATCGGGAGTA-1                515                 6.246107         914.0   \n",
       "TTTGTCATCTTCGGTC-1                457                 6.126869         713.0   \n",
       "\n",
       "                    log1p_total_counts  pct_counts_in_top_50_genes  \\\n",
       "AAACCTGAGACCTAGG-1            7.872455                   38.658025   \n",
       "AAACCTGAGCGATGAC-1            7.948739                   24.443659   \n",
       "AAACCTGAGTTAACGA-1            7.746301                   37.110727   \n",
       "AAACCTGCACATCTTT-1            6.322565                   39.208633   \n",
       "AAACCTGCAGCATACT-1            6.945051                   43.394407   \n",
       "...                                ...                         ...   \n",
       "TTTGTCAGTACGACCC-1            7.830823                   18.441971   \n",
       "TTTGTCAGTATCAGTC-1            7.249215                   39.687055   \n",
       "TTTGTCAGTTAGATGA-1            7.019297                   33.751119   \n",
       "TTTGTCATCGGGAGTA-1            6.818924                   40.153173   \n",
       "TTTGTCATCTTCGGTC-1            6.570883                   39.270687   \n",
       "\n",
       "                    pct_counts_in_top_100_genes  pct_counts_in_top_200_genes  \\\n",
       "AAACCTGAGACCTAGG-1                    53.602745                    66.831872   \n",
       "AAACCTGAGCGATGAC-1                    34.934652                    45.849523   \n",
       "AAACCTGAGTTAACGA-1                    49.048443                    60.813149   \n",
       "AAACCTGCACATCTTT-1                    50.719424                    68.705036   \n",
       "AAACCTGCAGCATACT-1                    54.676953                    66.538091   \n",
       "...                                         ...                          ...   \n",
       "TTTGTCAGTACGACCC-1                    28.060413                    40.779014   \n",
       "TTTGTCAGTATCAGTC-1                    50.426743                    62.731152   \n",
       "TTTGTCAGTTAGATGA-1                    47.269472                    60.787825   \n",
       "TTTGTCATCGGGAGTA-1                    52.844639                    65.536105   \n",
       "TTTGTCATCTTCGGTC-1                    49.929874                    63.955119   \n",
       "\n",
       "                    pct_counts_in_top_500_genes  \n",
       "AAACCTGAGACCTAGG-1                    81.662219  \n",
       "AAACCTGAGCGATGAC-1                    64.394207  \n",
       "AAACCTGAGTTAACGA-1                    77.551903  \n",
       "AAACCTGCACATCTTT-1                   100.000000  \n",
       "AAACCTGCAGCATACT-1                    95.467695  \n",
       "...                                         ...  \n",
       "TTTGTCAGTACGACCC-1                    60.492846  \n",
       "TTTGTCAGTATCAGTC-1                    84.068279  \n",
       "TTTGTCAGTTAGATGA-1                    87.645479  \n",
       "TTTGTCATCGGGAGTA-1                    98.358862  \n",
       "TTTGTCATCTTCGGTC-1                   100.000000  \n",
       "\n",
       "[5176 rows x 8 columns]"
      ]
     },
     "execution_count": 22,
     "metadata": {},
     "output_type": "execute_result"
    }
   ],
   "source": [
    "crypto_2.obs"
   ]
  },
  {
   "cell_type": "code",
   "execution_count": 23,
   "id": "5975fee5",
   "metadata": {},
   "outputs": [
    {
     "data": {
      "text/html": [
       "<div>\n",
       "<style scoped>\n",
       "    .dataframe tbody tr th:only-of-type {\n",
       "        vertical-align: middle;\n",
       "    }\n",
       "\n",
       "    .dataframe tbody tr th {\n",
       "        vertical-align: top;\n",
       "    }\n",
       "\n",
       "    .dataframe thead th {\n",
       "        text-align: right;\n",
       "    }\n",
       "</style>\n",
       "<table border=\"1\" class=\"dataframe\">\n",
       "  <thead>\n",
       "    <tr style=\"text-align: right;\">\n",
       "      <th></th>\n",
       "      <th>total_counts</th>\n",
       "      <th>n_genes_by_counts</th>\n",
       "    </tr>\n",
       "  </thead>\n",
       "  <tbody>\n",
       "    <tr>\n",
       "      <th>AAACCTGAGACCTAGG-1</th>\n",
       "      <td>2623.0</td>\n",
       "      <td>981</td>\n",
       "    </tr>\n",
       "    <tr>\n",
       "      <th>AAACCTGAGCGATGAC-1</th>\n",
       "      <td>2831.0</td>\n",
       "      <td>1508</td>\n",
       "    </tr>\n",
       "    <tr>\n",
       "      <th>AAACCTGAGTTAACGA-1</th>\n",
       "      <td>2312.0</td>\n",
       "      <td>1019</td>\n",
       "    </tr>\n",
       "    <tr>\n",
       "      <th>AAACCTGCACATCTTT-1</th>\n",
       "      <td>556.0</td>\n",
       "      <td>374</td>\n",
       "    </tr>\n",
       "    <tr>\n",
       "      <th>AAACCTGCAGCATACT-1</th>\n",
       "      <td>1037.0</td>\n",
       "      <td>547</td>\n",
       "    </tr>\n",
       "    <tr>\n",
       "      <th>...</th>\n",
       "      <td>...</td>\n",
       "      <td>...</td>\n",
       "    </tr>\n",
       "    <tr>\n",
       "      <th>TTTGTCAGTACGACCC-1</th>\n",
       "      <td>2516.0</td>\n",
       "      <td>1494</td>\n",
       "    </tr>\n",
       "    <tr>\n",
       "      <th>TTTGTCAGTATCAGTC-1</th>\n",
       "      <td>1406.0</td>\n",
       "      <td>724</td>\n",
       "    </tr>\n",
       "    <tr>\n",
       "      <th>TTTGTCAGTTAGATGA-1</th>\n",
       "      <td>1117.0</td>\n",
       "      <td>638</td>\n",
       "    </tr>\n",
       "    <tr>\n",
       "      <th>TTTGTCATCGGGAGTA-1</th>\n",
       "      <td>914.0</td>\n",
       "      <td>515</td>\n",
       "    </tr>\n",
       "    <tr>\n",
       "      <th>TTTGTCATCTTCGGTC-1</th>\n",
       "      <td>713.0</td>\n",
       "      <td>457</td>\n",
       "    </tr>\n",
       "  </tbody>\n",
       "</table>\n",
       "<p>5176 rows × 2 columns</p>\n",
       "</div>"
      ],
      "text/plain": [
       "                    total_counts  n_genes_by_counts\n",
       "AAACCTGAGACCTAGG-1        2623.0                981\n",
       "AAACCTGAGCGATGAC-1        2831.0               1508\n",
       "AAACCTGAGTTAACGA-1        2312.0               1019\n",
       "AAACCTGCACATCTTT-1         556.0                374\n",
       "AAACCTGCAGCATACT-1        1037.0                547\n",
       "...                          ...                ...\n",
       "TTTGTCAGTACGACCC-1        2516.0               1494\n",
       "TTTGTCAGTATCAGTC-1        1406.0                724\n",
       "TTTGTCAGTTAGATGA-1        1117.0                638\n",
       "TTTGTCATCGGGAGTA-1         914.0                515\n",
       "TTTGTCATCTTCGGTC-1         713.0                457\n",
       "\n",
       "[5176 rows x 2 columns]"
      ]
     },
     "execution_count": 23,
     "metadata": {},
     "output_type": "execute_result"
    }
   ],
   "source": [
    "crypto_2.obs[ ['total_counts','n_genes_by_counts'] ]"
   ]
  },
  {
   "cell_type": "code",
   "execution_count": 24,
   "id": "a11547a2",
   "metadata": {},
   "outputs": [
    {
     "data": {
      "text/html": [
       "<div>\n",
       "<style scoped>\n",
       "    .dataframe tbody tr th:only-of-type {\n",
       "        vertical-align: middle;\n",
       "    }\n",
       "\n",
       "    .dataframe tbody tr th {\n",
       "        vertical-align: top;\n",
       "    }\n",
       "\n",
       "    .dataframe thead th {\n",
       "        text-align: right;\n",
       "    }\n",
       "</style>\n",
       "<table border=\"1\" class=\"dataframe\">\n",
       "  <thead>\n",
       "    <tr style=\"text-align: right;\">\n",
       "      <th></th>\n",
       "      <th>gene_ids</th>\n",
       "      <th>feature_types</th>\n",
       "      <th>n_cells_by_counts</th>\n",
       "      <th>mean_counts</th>\n",
       "      <th>log1p_mean_counts</th>\n",
       "      <th>pct_dropout_by_counts</th>\n",
       "      <th>total_counts</th>\n",
       "      <th>log1p_total_counts</th>\n",
       "    </tr>\n",
       "  </thead>\n",
       "  <tbody>\n",
       "    <tr>\n",
       "      <th>MIR1302-2HG</th>\n",
       "      <td>ENSG00000243485</td>\n",
       "      <td>Gene Expression</td>\n",
       "      <td>1</td>\n",
       "      <td>0.000193</td>\n",
       "      <td>0.000193</td>\n",
       "      <td>99.980680</td>\n",
       "      <td>1.0</td>\n",
       "      <td>0.693147</td>\n",
       "    </tr>\n",
       "    <tr>\n",
       "      <th>FAM138A</th>\n",
       "      <td>ENSG00000237613</td>\n",
       "      <td>Gene Expression</td>\n",
       "      <td>0</td>\n",
       "      <td>0.000000</td>\n",
       "      <td>0.000000</td>\n",
       "      <td>100.000000</td>\n",
       "      <td>0.0</td>\n",
       "      <td>0.000000</td>\n",
       "    </tr>\n",
       "    <tr>\n",
       "      <th>OR4F5</th>\n",
       "      <td>ENSG00000186092</td>\n",
       "      <td>Gene Expression</td>\n",
       "      <td>0</td>\n",
       "      <td>0.000000</td>\n",
       "      <td>0.000000</td>\n",
       "      <td>100.000000</td>\n",
       "      <td>0.0</td>\n",
       "      <td>0.000000</td>\n",
       "    </tr>\n",
       "    <tr>\n",
       "      <th>AL627309.1</th>\n",
       "      <td>ENSG00000238009</td>\n",
       "      <td>Gene Expression</td>\n",
       "      <td>1</td>\n",
       "      <td>0.000193</td>\n",
       "      <td>0.000193</td>\n",
       "      <td>99.980680</td>\n",
       "      <td>1.0</td>\n",
       "      <td>0.693147</td>\n",
       "    </tr>\n",
       "    <tr>\n",
       "      <th>AL627309.3</th>\n",
       "      <td>ENSG00000239945</td>\n",
       "      <td>Gene Expression</td>\n",
       "      <td>0</td>\n",
       "      <td>0.000000</td>\n",
       "      <td>0.000000</td>\n",
       "      <td>100.000000</td>\n",
       "      <td>0.0</td>\n",
       "      <td>0.000000</td>\n",
       "    </tr>\n",
       "    <tr>\n",
       "      <th>...</th>\n",
       "      <td>...</td>\n",
       "      <td>...</td>\n",
       "      <td>...</td>\n",
       "      <td>...</td>\n",
       "      <td>...</td>\n",
       "      <td>...</td>\n",
       "      <td>...</td>\n",
       "      <td>...</td>\n",
       "    </tr>\n",
       "    <tr>\n",
       "      <th>AC141272.1</th>\n",
       "      <td>ENSG00000277836</td>\n",
       "      <td>Gene Expression</td>\n",
       "      <td>0</td>\n",
       "      <td>0.000000</td>\n",
       "      <td>0.000000</td>\n",
       "      <td>100.000000</td>\n",
       "      <td>0.0</td>\n",
       "      <td>0.000000</td>\n",
       "    </tr>\n",
       "    <tr>\n",
       "      <th>AC023491.2</th>\n",
       "      <td>ENSG00000278633</td>\n",
       "      <td>Gene Expression</td>\n",
       "      <td>40</td>\n",
       "      <td>0.024536</td>\n",
       "      <td>0.024240</td>\n",
       "      <td>99.227202</td>\n",
       "      <td>127.0</td>\n",
       "      <td>4.852030</td>\n",
       "    </tr>\n",
       "    <tr>\n",
       "      <th>AC007325.1</th>\n",
       "      <td>ENSG00000276017</td>\n",
       "      <td>Gene Expression</td>\n",
       "      <td>8</td>\n",
       "      <td>0.001932</td>\n",
       "      <td>0.001930</td>\n",
       "      <td>99.845440</td>\n",
       "      <td>10.0</td>\n",
       "      <td>2.397895</td>\n",
       "    </tr>\n",
       "    <tr>\n",
       "      <th>AC007325.4</th>\n",
       "      <td>ENSG00000278817</td>\n",
       "      <td>Gene Expression</td>\n",
       "      <td>72</td>\n",
       "      <td>0.015649</td>\n",
       "      <td>0.015528</td>\n",
       "      <td>98.608964</td>\n",
       "      <td>81.0</td>\n",
       "      <td>4.406719</td>\n",
       "    </tr>\n",
       "    <tr>\n",
       "      <th>AC007325.2</th>\n",
       "      <td>ENSG00000277196</td>\n",
       "      <td>Gene Expression</td>\n",
       "      <td>4</td>\n",
       "      <td>0.000773</td>\n",
       "      <td>0.000772</td>\n",
       "      <td>99.922720</td>\n",
       "      <td>4.0</td>\n",
       "      <td>1.609438</td>\n",
       "    </tr>\n",
       "  </tbody>\n",
       "</table>\n",
       "<p>36601 rows × 8 columns</p>\n",
       "</div>"
      ],
      "text/plain": [
       "                    gene_ids    feature_types  n_cells_by_counts  mean_counts  \\\n",
       "MIR1302-2HG  ENSG00000243485  Gene Expression                  1     0.000193   \n",
       "FAM138A      ENSG00000237613  Gene Expression                  0     0.000000   \n",
       "OR4F5        ENSG00000186092  Gene Expression                  0     0.000000   \n",
       "AL627309.1   ENSG00000238009  Gene Expression                  1     0.000193   \n",
       "AL627309.3   ENSG00000239945  Gene Expression                  0     0.000000   \n",
       "...                      ...              ...                ...          ...   \n",
       "AC141272.1   ENSG00000277836  Gene Expression                  0     0.000000   \n",
       "AC023491.2   ENSG00000278633  Gene Expression                 40     0.024536   \n",
       "AC007325.1   ENSG00000276017  Gene Expression                  8     0.001932   \n",
       "AC007325.4   ENSG00000278817  Gene Expression                 72     0.015649   \n",
       "AC007325.2   ENSG00000277196  Gene Expression                  4     0.000773   \n",
       "\n",
       "             log1p_mean_counts  pct_dropout_by_counts  total_counts  \\\n",
       "MIR1302-2HG           0.000193              99.980680           1.0   \n",
       "FAM138A               0.000000             100.000000           0.0   \n",
       "OR4F5                 0.000000             100.000000           0.0   \n",
       "AL627309.1            0.000193              99.980680           1.0   \n",
       "AL627309.3            0.000000             100.000000           0.0   \n",
       "...                        ...                    ...           ...   \n",
       "AC141272.1            0.000000             100.000000           0.0   \n",
       "AC023491.2            0.024240              99.227202         127.0   \n",
       "AC007325.1            0.001930              99.845440          10.0   \n",
       "AC007325.4            0.015528              98.608964          81.0   \n",
       "AC007325.2            0.000772              99.922720           4.0   \n",
       "\n",
       "             log1p_total_counts  \n",
       "MIR1302-2HG            0.693147  \n",
       "FAM138A                0.000000  \n",
       "OR4F5                  0.000000  \n",
       "AL627309.1             0.693147  \n",
       "AL627309.3             0.000000  \n",
       "...                         ...  \n",
       "AC141272.1             0.000000  \n",
       "AC023491.2             4.852030  \n",
       "AC007325.1             2.397895  \n",
       "AC007325.4             4.406719  \n",
       "AC007325.2             1.609438  \n",
       "\n",
       "[36601 rows x 8 columns]"
      ]
     },
     "execution_count": 24,
     "metadata": {},
     "output_type": "execute_result"
    }
   ],
   "source": [
    "crypto_2.var"
   ]
  },
  {
   "cell_type": "markdown",
   "id": "411bf9b4",
   "metadata": {},
   "source": [
    "We store the matrix `X` to save the raw values. We will be able to see it in `layers`, independently of how we transform the matrix `X`"
   ]
  },
  {
   "cell_type": "code",
   "execution_count": 25,
   "id": "0e46b88e",
   "metadata": {},
   "outputs": [],
   "source": [
    "crypto_2.layers[ 'umi_raw' ] = crypto_2.X.copy()"
   ]
  },
  {
   "cell_type": "markdown",
   "id": "ceaec029",
   "metadata": {},
   "source": [
    "We can see the matrix in `layers`, and reassign it to `X` or use it if needed in some future analysis"
   ]
  },
  {
   "cell_type": "code",
   "execution_count": 26,
   "id": "b50eb867",
   "metadata": {},
   "outputs": [
    {
     "data": {
      "text/plain": [
       "AnnData object with n_obs × n_vars = 5176 × 36601\n",
       "    obs: 'n_genes_by_counts', 'log1p_n_genes_by_counts', 'total_counts', 'log1p_total_counts', 'pct_counts_in_top_50_genes', 'pct_counts_in_top_100_genes', 'pct_counts_in_top_200_genes', 'pct_counts_in_top_500_genes'\n",
       "    var: 'gene_ids', 'feature_types', 'n_cells_by_counts', 'mean_counts', 'log1p_mean_counts', 'pct_dropout_by_counts', 'total_counts', 'log1p_total_counts'\n",
       "    layers: 'umi_raw'"
      ]
     },
     "execution_count": 26,
     "metadata": {},
     "output_type": "execute_result"
    }
   ],
   "source": [
    "crypto_2"
   ]
  },
  {
   "cell_type": "code",
   "execution_count": 27,
   "id": "c6f983cf",
   "metadata": {},
   "outputs": [
    {
     "data": {
      "text/plain": [
       "array([[0., 0., 0., ..., 0., 0., 0.],\n",
       "       [0., 0., 0., ..., 0., 0., 0.],\n",
       "       [0., 0., 0., ..., 0., 0., 0.],\n",
       "       ...,\n",
       "       [0., 0., 0., ..., 0., 0., 0.],\n",
       "       [0., 0., 0., ..., 0., 0., 0.],\n",
       "       [0., 0., 0., ..., 0., 0., 0.]], dtype=float32)"
      ]
     },
     "execution_count": 27,
     "metadata": {},
     "output_type": "execute_result"
    }
   ],
   "source": [
    "crypto_2.layers['umi_raw']"
   ]
  },
  {
   "cell_type": "markdown",
   "id": "f1d60d22",
   "metadata": {},
   "source": [
    "The annotated datasets can be easily saved by using `write`. The format to be used is `h5ad`."
   ]
  },
  {
   "cell_type": "code",
   "execution_count": 28,
   "id": "2c2f2dba",
   "metadata": {},
   "outputs": [
    {
     "name": "stderr",
     "output_type": "stream",
     "text": [
      "... storing 'feature_types' as categorical\n"
     ]
    }
   ],
   "source": [
    "crypto_2.write('../../../Data/notebooks_data/crypto_2.h5ad')"
   ]
  },
  {
   "cell_type": "code",
   "execution_count": null,
   "id": "53b6431e",
   "metadata": {},
   "outputs": [],
   "source": []
  }
 ],
 "metadata": {
  "kernelspec": {
   "display_name": "Python 3 ",
   "language": "python",
   "name": "python3"
  },
  "language_info": {
   "codemirror_mode": {
    "name": "ipython",
    "version": 3
   },
   "file_extension": ".py",
   "mimetype": "text/x-python",
   "name": "python",
   "nbconvert_exporter": "python",
   "pygments_lexer": "ipython3",
   "version": "3.9.6"
  }
 },
 "nbformat": 4,
 "nbformat_minor": 5
}
