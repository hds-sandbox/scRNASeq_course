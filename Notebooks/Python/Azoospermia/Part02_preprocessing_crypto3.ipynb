{
 "cells": [
  {
   "cell_type": "code",
   "execution_count": null,
   "id": "84afe9ce",
   "metadata": {},
   "outputs": [],
   "source": [
    "import scanpy as sc\n",
    "import pandas as pd\n",
    "import scvelo as scv\n",
    "import numpy as np\n",
    "import seaborn as sns\n",
    "import matplotlib.pyplot as plt\n",
    "import sklearn\n"
   ]
  },
  {
   "cell_type": "code",
   "execution_count": null,
   "id": "ba829ca6",
   "metadata": {},
   "outputs": [],
   "source": [
    "crypto_3 = sc.read('../../../Data/notebooks_data/crypto_3.h5ad')"
   ]
  },
  {
   "cell_type": "code",
   "execution_count": null,
   "id": "fecea4a7",
   "metadata": {},
   "outputs": [],
   "source": [
    "MT = ['MT' in i for i in crypto_3.var_names]\n",
    "perc_mito = np.sum( crypto_3[:,MT].X, 1 ) / np.sum( crypto_3.X, 1 )\n",
    "crypto_3.obs['perc_mito'] = perc_mito.copy()"
   ]
  },
  {
   "cell_type": "code",
   "execution_count": null,
   "id": "97617a2d",
   "metadata": {},
   "outputs": [],
   "source": [
    "sc.pl.scatter(crypto_3, x='total_counts', y='n_genes_by_counts', color='perc_mito', \n",
    "              title ='Nr of transcripts vs Nr detected genes, coloured by mitocondrial content')"
   ]
  },
  {
   "cell_type": "code",
   "execution_count": null,
   "id": "b4321648",
   "metadata": {},
   "outputs": [],
   "source": [
    "sns.distplot(crypto_3.obs['total_counts'], bins=50)"
   ]
  },
  {
   "cell_type": "code",
   "execution_count": null,
   "id": "7a9f4de2",
   "metadata": {},
   "outputs": [],
   "source": [
    "sns.distplot(crypto_3.obs['n_genes_by_counts'], bins=50)"
   ]
  },
  {
   "cell_type": "code",
   "execution_count": null,
   "id": "318c0e6f",
   "metadata": {},
   "outputs": [],
   "source": [
    "MIN_COUNTS = 3000\n",
    "MAX_COUNTS = 15000\n",
    "MIN_GENES = 2500\n",
    "MAX_GENES = 5000\n",
    "MAX_MITO = .1"
   ]
  },
  {
   "cell_type": "code",
   "execution_count": null,
   "id": "cd0e7356",
   "metadata": {},
   "outputs": [],
   "source": [
    "sc.pl.scatter(crypto_3[ crypto_3.obs['total_counts']<MAX_COUNTS ], \n",
    "              x='total_counts', y='n_genes_by_counts', color='perc_mito',\n",
    "              title ='Nr of transcripts vs Nr detected genes, coloured by mitocondrial content')"
   ]
  },
  {
   "cell_type": "code",
   "execution_count": null,
   "id": "c098c268",
   "metadata": {},
   "outputs": [],
   "source": [
    "sc.pl.scatter(crypto_3[ crypto_3.obs['n_genes_by_counts'] > MIN_GENES ], \n",
    "              x='total_counts', y='n_genes_by_counts', color='perc_mito',\n",
    "              title ='Nr of transcripts vs Nr detected genes, coloured by mitocondrial content')"
   ]
  },
  {
   "cell_type": "code",
   "execution_count": null,
   "id": "cb2bfcdb",
   "metadata": {},
   "outputs": [],
   "source": [
    "sc.preprocessing.filter_cells(crypto_3, max_counts=MAX_COUNTS)\n",
    "\n",
    "sc.preprocessing.filter_cells(crypto_3, min_counts=MIN_COUNTS)\n",
    "\n",
    "sc.preprocessing.filter_cells(crypto_3, min_genes=MIN_GENES)\n",
    "\n",
    "sc.preprocessing.filter_cells(crypto_3, max_genes=MAX_GENES)\n",
    "\n",
    "sc.preprocessing.filter_genes(crypto_3, min_cells=10)\n",
    "\n",
    "crypto_3 = crypto_3[crypto_3.obs['perc_mito']<MAX_MITO].copy()"
   ]
  },
  {
   "cell_type": "code",
   "execution_count": null,
   "id": "87b055e5",
   "metadata": {},
   "outputs": [],
   "source": [
    "crypto_3"
   ]
  },
  {
   "cell_type": "code",
   "execution_count": null,
   "id": "75e34323",
   "metadata": {},
   "outputs": [],
   "source": [
    "import numpy as np\n",
    "from sklearn.decomposition import PCA\n",
    "from sklearn.preprocessing import scale\n",
    "from sklearn.ensemble import IsolationForest\n",
    "\n",
    "df = crypto_3.obs[ ['n_genes_by_counts', 'total_counts', \n",
    "                    'perc_mito', 'pct_counts_in_top_50_genes'] ]\n",
    "\n",
    "df2 = scale(df, axis=0)\n",
    "\n",
    "pca = PCA(n_components=2)\n",
    "\n",
    "Y = pca.fit_transform(df2)\n",
    "\n",
    "clf = IsolationForest(random_state=0, contamination=.1)\n",
    "\n",
    "pred = clf.fit_predict(df2)\n",
    "\n",
    "pred = pd.Categorical(pred)\n",
    "pred = pred.rename_categories(['Outlier','Cell'])\n",
    "df['Category'] = pred\n",
    "\n",
    "sns.scatterplot(Y[:,0],Y[:,1], hue = df.total_counts, \n",
    "                size=df.n_genes_by_counts, style = df.Category, \n",
    "                palette=\"Blues\", sizes=(20, 200), hue_norm=(0, 100))"
   ]
  },
  {
   "cell_type": "code",
   "execution_count": null,
   "id": "5426fd33",
   "metadata": {},
   "outputs": [],
   "source": [
    "pred"
   ]
  },
  {
   "cell_type": "code",
   "execution_count": null,
   "id": "892887c0",
   "metadata": {},
   "outputs": [],
   "source": [
    "crypto_3 = crypto_3[pred=='Cell'].copy()"
   ]
  },
  {
   "cell_type": "code",
   "execution_count": null,
   "id": "9a162956",
   "metadata": {},
   "outputs": [],
   "source": [
    "crypto_3"
   ]
  },
  {
   "cell_type": "code",
   "execution_count": null,
   "id": "fd4269ac",
   "metadata": {},
   "outputs": [],
   "source": [
    "sc.external.pp.scrublet(crypto_3, expected_doublet_rate=0.06, threshold=.2, random_state=12345)"
   ]
  },
  {
   "cell_type": "code",
   "execution_count": null,
   "id": "bf567e9e",
   "metadata": {},
   "outputs": [],
   "source": [
    "sns.distplot(crypto_3.obs['doublet_score'])"
   ]
  },
  {
   "cell_type": "code",
   "execution_count": null,
   "id": "919bd8bb",
   "metadata": {},
   "outputs": [],
   "source": [
    "crypto_3 = crypto_3[np.invert(crypto_3.obs['predicted_doublet'])].copy()"
   ]
  },
  {
   "cell_type": "code",
   "execution_count": null,
   "id": "4793ad39",
   "metadata": {},
   "outputs": [],
   "source": [
    "# TPM normalization and matrix copy\n",
    "sc.pp.normalize_per_cell(crypto_3)\n",
    "crypto_3.layers['umi_tpm'] = crypto_3.X.copy()\n",
    "\n",
    "# matrix logarithmization and copy\n",
    "sc.pp.log1p(crypto_3)\n",
    "crypto_3.layers['umi_log'] = crypto_3.X.copy()\n",
    "\n",
    "sc.pp.highly_variable_genes(crypto_3, n_top_genes=15000)\n",
    "\n",
    "crypto_3.write('../../../Data/notebooks_data/crypto_3.filt.h5ad')\n",
    "\n",
    "# standardized gene expressions and matrix copy\n",
    "sc.pp.scale(crypto_3)\n",
    "crypto_3.layers['umi_gauss'] = crypto_3.X.copy()\n",
    "\n",
    "sc.preprocessing.pca(crypto_3, svd_solver='arpack', random_state=12345)\n",
    "\n",
    "crypto_3\n",
    "\n",
    "sc.plotting.pca_variance_ratio(crypto_3)"
   ]
  },
  {
   "cell_type": "code",
   "execution_count": null,
   "id": "21d59b01",
   "metadata": {},
   "outputs": [],
   "source": [
    "plt.rcParams['figure.figsize'] = (6,6) #reduce figure size\n",
    "sc.pl.pca(crypto_3, color=['total_counts','SYCP1'])\n",
    "\n",
    "sc.pp.neighbors(crypto_3, n_pcs=15)\n",
    "\n",
    "sc.tools.umap(crypto_3, random_state=54321, n_components=2)\n",
    "\n",
    "sc.plotting.umap(crypto_3, color=['total_counts'])"
   ]
  },
  {
   "cell_type": "code",
   "execution_count": null,
   "id": "2ef9f78c",
   "metadata": {},
   "outputs": [],
   "source": [
    "sc.plotting.umap(crypto_3, color=['perc_mito'])"
   ]
  }
 ],
 "metadata": {
  "kernelspec": {
   "display_name": "Python 3 ",
   "language": "python",
   "name": "python3"
  },
  "language_info": {
   "codemirror_mode": {
    "name": "ipython",
    "version": 3
   },
   "file_extension": ".py",
   "mimetype": "text/x-python",
   "name": "python",
   "nbconvert_exporter": "python",
   "pygments_lexer": "ipython3"
  }
 },
 "nbformat": 4,
 "nbformat_minor": 5
}
