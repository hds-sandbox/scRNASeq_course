{
 "cells": [
  {
   "cell_type": "markdown",
   "id": "2f989d91",
   "metadata": {},
   "source": [
    "# **Quality Control (QC) and filtering**\n",
    "\n",
    "---------------------\n",
    "\n",
    "**Motivation:**\n",
    "\n",
    "Quality control and filtering is the most important steps of single cell data analysis. Allowing low quality cells into your analysis will compromise/mislead your conclusions by adding hundreds of meaningless data points to your workflow.\n",
    "The main sources of low quality cells are\n",
    "- broken cells for which some of their transcripts get lost\n",
    "- cells isolated together with too much ambient RNA\n",
    "- missing cell during isolation (e.g. empty droplet in microfluidic machines)\n",
    "- multiple cells isolated together (multiplets, usually only two cells - doublets)\n",
    "\n",
    "---------------------------\n",
    "\n",
    "**Learning objectives:**\n",
    "\n",
    "- Understand and discuss QC issues and measures from single cell data\n",
    "- Explore QC graphs and set filtering tools and thresholds\n",
    "- Analyze the results of QC filters and evaluate necessity for different filtering \n",
    "----------------\n",
    "**Execution time: 40 minutes**"
   ]
  },
  {
   "cell_type": "markdown",
   "id": "146d2a26",
   "metadata": {},
   "source": [
    "------------------------------------"
   ]
  },
  {
   "cell_type": "markdown",
   "id": "3e306bcc",
   "metadata": {},
   "source": [
    "**Import the packages**"
   ]
  },
  {
   "cell_type": "code",
   "execution_count": null,
   "id": "84afe9ce",
   "metadata": {},
   "outputs": [],
   "source": [
    "import scanpy as sc\n",
    "import pandas as pd\n",
    "import scvelo as scv\n",
    "import numpy as np\n",
    "import seaborn as sns\n",
    "import matplotlib.pyplot as plt\n",
    "import sklearn"
   ]
  },
  {
   "cell_type": "code",
   "execution_count": null,
   "id": "ba829ca6",
   "metadata": {},
   "outputs": [],
   "source": [
    "sample_2 = sc.read_h5ad('../Data/notebooks_data/sample_2.h5ad')"
   ]
  },
  {
   "cell_type": "markdown",
   "id": "2a4f88dc",
   "metadata": {},
   "source": [
    "We calculate the percentage of mitocondrial genes into each cell. A high percentage denotes the possibility that material from broken cells has been captured during cell isolation, and then sequenced. Mitocondrial percentage is not usually calculated by `scanpy`, because there is need for an identifier for mitocondrial genes, and there is not a standard one. In our case, we look at genes that contain `MT-` into their ID, and calculate their transcript proportion into each cell. We save the result as an observation into `.obs['perc_mito']`"
   ]
  },
  {
   "cell_type": "code",
   "execution_count": null,
   "id": "fecea4a7",
   "metadata": {},
   "outputs": [],
   "source": [
    "MT = ['MT' in i for i in sample_2.var_names]\n",
    "perc_mito = np.sum( sample_2[:,MT].X, 1 ) / np.sum( sample_2.X, 1 )\n",
    "sample_2.obs['perc_mito'] = perc_mito.copy()"
   ]
  },
  {
   "cell_type": "markdown",
   "id": "7426db2c",
   "metadata": {},
   "source": [
    "## Visualize and evaluate quality measures\n",
    "\n",
    "We can do some plots to have a look at quality measures combined together"
   ]
  },
  {
   "cell_type": "markdown",
   "id": "0ea2a0e9",
   "metadata": {},
   "source": [
    "**Counts vs Genes:** this is a typical plot, where you look at the total transcripts per cells (x axis) and detected genes per cell (y axis). Usually, those two measures grow together. Points with a lot of transcripts and genes might be multiplets (multiple cells sequenced together as one), while very few transcripts and genes denote the presence of only ambient RNA or very low quality sequencing of a cell. Below, the dots are coloured based on the percentage of mitocondrial transcripts. Note how a high proportion is often on cells with very low transcripts and genes (bottom left corner of the plot)"
   ]
  },
  {
   "cell_type": "code",
   "execution_count": null,
   "id": "97617a2d",
   "metadata": {},
   "outputs": [],
   "source": [
    "sc.pl.scatter(sample_2, x='total_counts', y='n_genes_by_counts', color='perc_mito', \n",
    "              title ='Nr of transcripts vs Nr detected genes, coloured by mitocondrial content')"
   ]
  },
  {
   "cell_type": "markdown",
   "id": "4ad4c0b6",
   "metadata": {},
   "source": [
    "**Transcripts and Genes distribution:** Here we simply look at the distribution of transcripts per cells and detected genes per cell. Note how the distribution is bimodal. This usually denotes a cluster of low-quality cells and viable cells. Sometimes filtering out the data points on the left-most modes of those graphs removes a lot of cells from a dataset, but this is quite a normal thing not to be worried about. The right side of the distributions show a tail with few cells having a lot of transcripts and genes. It is also good to filter out some of those extreme values - for technical reasons, it will also help in having a better normalization of the data later on."
   ]
  },
  {
   "cell_type": "code",
   "execution_count": null,
   "id": "b4321648",
   "metadata": {},
   "outputs": [],
   "source": [
    "ax = sns.distplot(sample_2.obs['total_counts'], bins=50)\n",
    "ax.set_title('Cells Transcripts distribution')"
   ]
  },
  {
   "cell_type": "code",
   "execution_count": null,
   "id": "7a9f4de2",
   "metadata": {},
   "outputs": [],
   "source": [
    "ax = sns.distplot(sample_2.obs['n_genes_by_counts'], bins=50)\n",
    "ax.set_title('Distribution of detected genes per cell')"
   ]
  },
  {
   "cell_type": "markdown",
   "id": "7211f106",
   "metadata": {},
   "source": [
    "In this dataset there are few cell with a high percentage of mitocondrial content. Those are precisely 245 if we set 0.1 (that is 10%) as a treshold. A value between 10% and 20% is the usual standard when filtering single cell datasets."
   ]
  },
  {
   "cell_type": "code",
   "execution_count": null,
   "id": "1bd2776f",
   "metadata": {},
   "outputs": [],
   "source": [
    "#subsetting to see how many cells have percentage of mitocondrial genes above 10%\n",
    "sample_2[ sample_2.obs['perc_mito']>0.1, : ].shape"
   ]
  },
  {
   "cell_type": "code",
   "execution_count": null,
   "id": "266fa91e",
   "metadata": {},
   "outputs": [],
   "source": [
    "ax = sns.distplot(sample_2.obs['perc_mito'], bins=50)\n",
    "ax.set_title('Distribution of mitocondrial content per cell')"
   ]
  },
  {
   "cell_type": "markdown",
   "id": "e90cfef7",
   "metadata": {},
   "source": [
    "## Choosing thresholds"
   ]
  },
  {
   "cell_type": "markdown",
   "id": "20ed52b8",
   "metadata": {},
   "source": [
    "Let's establish some filtering values by looking at the plots above."
   ]
  },
  {
   "cell_type": "code",
   "execution_count": null,
   "id": "318c0e6f",
   "metadata": {},
   "outputs": [],
   "source": [
    "MIN_COUNTS = 5000   #minimum number of transcripts per cell\n",
    "MAX_COUNTS = 30000  #maximum number of transcripts per cell\n",
    "MIN_GENES = 2000    #minimum number of genes per cell\n",
    "MAX_GENES = 6000    #maximum number of genes per cell\n",
    "MAX_MITO = .1       #mitocondrial percentage treshold"
   ]
  },
  {
   "cell_type": "markdown",
   "id": "29605406",
   "metadata": {},
   "source": [
    "We can do some subsetting to zoom into the plots we did before"
   ]
  },
  {
   "cell_type": "code",
   "execution_count": null,
   "id": "cd0e7356",
   "metadata": {},
   "outputs": [],
   "source": [
    "sc.pl.scatter(sample_2[ sample_2.obs['total_counts']<MAX_COUNTS ], \n",
    "              x='total_counts', y='n_genes_by_counts', color='perc_mito',\n",
    "              title =f'Nr of transcripts vs Nr detected genes, coloured by mitocondrial content\\nsubsetting with threshold MAX_COUNTS={MAX_COUNTS}')"
   ]
  },
  {
   "cell_type": "code",
   "execution_count": null,
   "id": "c098c268",
   "metadata": {},
   "outputs": [],
   "source": [
    "sc.pl.scatter(sample_2[ sample_2.obs['n_genes_by_counts'] > MIN_GENES ], \n",
    "              x='total_counts', y='n_genes_by_counts', color='perc_mito',\n",
    "              title =f'Nr of transcripts vs Nr detected genes, coloured by mitocondrial content\\nsubsetting with treshold MIN_GENES={MIN_GENES}')"
   ]
  },
  {
   "cell_type": "markdown",
   "id": "fcd53d40",
   "metadata": {},
   "source": [
    "The following commands filter using the chose tresholds. Again, scanpy does not do the mitocondrial QC filtering, so we do that on our own by subsetting the data. \n",
    "\n",
    "Note for the last two filterings: the parameter `min_cells` remove all those cells showing transcripts for only 10 genes or less - standard values for this parameter are usually between 3 and 10, and do not come from looking at the QC plots. The last command uses the standard value for the mitocondrial content treshold."
   ]
  },
  {
   "cell_type": "code",
   "execution_count": null,
   "id": "cb2bfcdb",
   "metadata": {},
   "outputs": [],
   "source": [
    "sc.preprocessing.filter_cells(sample_2, max_counts=MAX_COUNTS)\n",
    "\n",
    "sc.preprocessing.filter_cells(sample_2, min_counts=MIN_COUNTS)\n",
    "\n",
    "sc.preprocessing.filter_cells(sample_2, min_genes=MIN_GENES)\n",
    "\n",
    "sc.preprocessing.filter_cells(sample_2, max_genes=MAX_GENES)\n",
    "\n",
    "sc.preprocessing.filter_genes(sample_2, min_cells=10)\n",
    "\n",
    "sample_2 = sample_2[sample_2.obs['perc_mito']<MAX_MITO].copy()"
   ]
  },
  {
   "cell_type": "markdown",
   "id": "6d2772d9",
   "metadata": {},
   "source": [
    "We have been reducing the data quite a lot from the original >8000 cells. Often, even more aggressive filterings are done. For example, one could have set the `MIN_GENES` parameter to 3000. It would have been anyway in the area between the two modes of the QC plot."
   ]
  },
  {
   "cell_type": "code",
   "execution_count": null,
   "id": "87b055e5",
   "metadata": {},
   "outputs": [],
   "source": [
    "sample_2"
   ]
  },
  {
   "cell_type": "markdown",
   "id": "05ce5afe",
   "metadata": {},
   "source": [
    "## Doublet filtering"
   ]
  },
  {
   "cell_type": "markdown",
   "id": "37f02f1d",
   "metadata": {},
   "source": [
    "Another important step consists in filtering out multiplets. Those are in the almost totality of the cases doublets, because triplets and above multiplets are extremely rare. Read [this more technical blog post](https://liorpachter.wordpress.com/2019/02/07/sub-poisson-loading-for-single-cell-rna-seq/) for more explanations about this."
   ]
  },
  {
   "cell_type": "markdown",
   "id": "0376041e",
   "metadata": {},
   "source": [
    "The external tool `scrublet` simulates doublets by putting together the transcripts of random pairs of cells from the dataset. Then it assigns a score to each cell in the data, based on the similarity with the simulated doublets. An `expected_doublet_rate` of 0.06 (6%) is quite a typical value for single cell data, but if you have a better estimate from laboratory work, microscope imaging or a specific protocol/sequencing machine, you can also tweak the value. \n",
    "`random_state` is a number choosing how the simulations are done. using a specific random state means that you will always simulate the same doublets whenever you run this code. This allows you to reproduce exactly the same results every time and is a great thing for reproducibility in your own research."
   ]
  },
  {
   "cell_type": "code",
   "execution_count": null,
   "id": "fd4269ac",
   "metadata": {},
   "outputs": [],
   "source": [
    " sc.external.pp.scrublet(sample_2, \n",
    "                        expected_doublet_rate=0.06,\n",
    "                        random_state=12345)"
   ]
  },
  {
   "cell_type": "markdown",
   "id": "146bfb2d",
   "metadata": {},
   "source": [
    "It seems that the doublet rate is likely to be lower than 6%, meaning that in this regard the data has been produced pretty well. We now plot the doublet scores assigned to each cell by the algorithm. We can see that most cells have a low score (the score is a value between 0 and 1). Datasets with many doublets show a more bimodal distribution, while here we just have a light tail beyond 0.1. "
   ]
  },
  {
   "cell_type": "code",
   "execution_count": null,
   "id": "bf567e9e",
   "metadata": {},
   "outputs": [],
   "source": [
    "sns.distplot(sample_2.obs['doublet_score'])"
   ]
  },
  {
   "cell_type": "markdown",
   "id": "1290c2aa",
   "metadata": {},
   "source": [
    "We can choose 0.1 as filtering treshold for the few detected doublets or alternatively use the automatic selection of doublets by the algorithm. We will choose the last option and use the automatically chosen doublets."
   ]
  },
  {
   "cell_type": "code",
   "execution_count": null,
   "id": "919bd8bb",
   "metadata": {},
   "outputs": [],
   "source": [
    "sample_2 = sample_2[np.invert(sample_2.obs['predicted_doublet'])].copy()"
   ]
  },
  {
   "cell_type": "markdown",
   "id": "14b89368",
   "metadata": {},
   "source": [
    "## Evaluation of filtering"
   ]
  },
  {
   "cell_type": "markdown",
   "id": "bd2301d3",
   "metadata": {},
   "source": [
    "A quite basic but easy way to look at the results of our filtering is to normalize and plot the dataset on some projections. Here we use a standard normalization technique that consists of:\n",
    "- **TPM normalization**: the transcripts of each cell are normalized, so that their total amounts to the same value. This should make cells more comparable independently of how many transcripts their has been retained during cell isolation.\n",
    "- **Logarithmization**: the logarithm of the normalized transcripts is calculated. This reduce the variability of transcripts values and highlights variations due to biological factors.\n",
    "- **Standardization**: Each gene is standardized across all cells. This is useful for example  for projecting the data onto a PCA. "
   ]
  },
  {
   "cell_type": "code",
   "execution_count": null,
   "id": "4793ad39",
   "metadata": {},
   "outputs": [],
   "source": [
    "# TPM normalization and storage of the matrix\n",
    "sc.pp.normalize_per_cell(sample_2)\n",
    "sample_2.layers['umi_tpm'] = sample_2.X.copy()\n",
    "\n",
    "# Logarithmization and storage\n",
    "sc.pp.log1p(sample_2)\n",
    "sample_2.layers['umi_log'] = sample_2.X.copy()\n",
    "\n",
    "# Select some of the most meaningful genes to calculate the PCA plot later\n",
    "# This must be done on logarithmized values\n",
    "sc.pp.highly_variable_genes(sample_2, n_top_genes=15000)\n",
    "\n",
    "# save the dataset\n",
    "sample_2.write('../Data/notebooks_data/sample_2.filt.h5ad')\n",
    "\n",
    "# standardization and matrix storage\n",
    "sc.pp.scale(sample_2)\n",
    "sample_2.layers['umi_gauss'] = sample_2.X.copy()"
   ]
  },
  {
   "cell_type": "markdown",
   "id": "6d4214ee",
   "metadata": {},
   "source": [
    "Now we calculate the PCA projection"
   ]
  },
  {
   "cell_type": "code",
   "execution_count": null,
   "id": "852eea1d",
   "metadata": {},
   "outputs": [],
   "source": [
    "sc.preprocessing.pca(sample_2, svd_solver='arpack', random_state=12345)"
   ]
  },
  {
   "cell_type": "markdown",
   "id": "22258730",
   "metadata": {},
   "source": [
    "We can look at the PCA plot and color it by some quality measure and gene expression. We can already see how the PCA has a clear structure with only a few dots sparsed around. It seems the filtering has got a good result."
   ]
  },
  {
   "cell_type": "code",
   "execution_count": null,
   "id": "e795fefb",
   "metadata": {},
   "outputs": [],
   "source": [
    "sc.pl.pca(sample_2, color=['total_counts','SYCP1'])"
   ]
  },
  {
   "cell_type": "markdown",
   "id": "4bde5c9c",
   "metadata": {},
   "source": [
    "We plot the variance ratio to see how each component of the PCA changes in variability. Small changes in variability denote that the components are mostly modeling noise in the data. We can choose a threshold (for example 15 PCA components) to be used in all algorithms that use PCA to calculate any quantity."
   ]
  },
  {
   "cell_type": "code",
   "execution_count": null,
   "id": "93c59d5d",
   "metadata": {},
   "outputs": [],
   "source": [
    "sc.plotting.pca_variance_ratio(sample_2)"
   ]
  },
  {
   "cell_type": "markdown",
   "id": "5cc9f6b6",
   "metadata": {},
   "source": [
    "We project the data using the UMAP algorithm. This is very good in preserving the structure of a dataset in low dimension, if any is present. We first calculate the neighbors of each cell (that is, its most similar cells), those are then used for the UMAP. The neighbors are calculated using the PCA matrix instead of the full data matrix, so we can choose the number of PCA components to use (parameter `n_pcs`). Many algorithms work on the PCA, so you will see the parameter used again in other places."
   ]
  },
  {
   "cell_type": "code",
   "execution_count": null,
   "id": "1713571e",
   "metadata": {},
   "outputs": [],
   "source": [
    "sc.pp.neighbors(sample_2, n_pcs=15, random_state=12345)"
   ]
  },
  {
   "cell_type": "code",
   "execution_count": null,
   "id": "21d59b01",
   "metadata": {},
   "outputs": [],
   "source": [
    "sc.tools.umap(sample_2, random_state=54321)"
   ]
  },
  {
   "cell_type": "markdown",
   "id": "15cab009",
   "metadata": {},
   "source": [
    "The UMAP plot gives a pretty well-structured output for this dataset. We will keep working further with this filtering."
   ]
  },
  {
   "cell_type": "code",
   "execution_count": null,
   "id": "2ef9f78c",
   "metadata": {},
   "outputs": [],
   "source": [
    "sc.plotting.umap(sample_2, color=['total_counts','SYCP1'])"
   ]
  },
  {
   "cell_type": "markdown",
   "id": "22ea1a40",
   "metadata": {},
   "source": [
    "-------------------------------"
   ]
  },
  {
   "cell_type": "markdown",
   "id": "ec200bb7",
   "metadata": {},
   "source": [
    "## Wrapping up"
   ]
  },
  {
   "cell_type": "markdown",
   "id": "5c47baea",
   "metadata": {},
   "source": [
    "We have succesfully gone through the filtering of a single cell dataset with good results that can be used further in the data analysis. In the next notebook `Normalize and Integrate`, we will integrate this dataset (testis cells from a healthy adult man) with the same type of sample from another man. \n",
    "\n",
    "-------------\n",
    "\n",
    "**Optional:** \n",
    "\n",
    "You can look at the preprocessing of the second sample from healthy man on the webpage of the course in the section `Extras`, opening `Filtering another sample` in the submenu.\n",
    "As you could see, this dataset seemed pretty ok to handle. However, another dataset of much lower quality is present, and is not going to be integrated in the coming data analysis. Its preprocessing is shown as the submenu `Filtering a low quality sample` in the section `Extra` of the course webpage. In it we will also show an aggressive filtering done using a combination of PCA technique and automatic outliers detection."
   ]
  }
 ],
 "metadata": {
  "kernelspec": {
   "display_name": "Python 3 (ipykernel)",
   "language": "python",
   "name": "python3"
  },
  "language_info": {
   "codemirror_mode": {
    "name": "ipython",
    "version": 3
   },
   "file_extension": ".py",
   "mimetype": "text/x-python",
   "name": "python",
   "nbconvert_exporter": "python",
   "pygments_lexer": "ipython3"
  }
 },
 "nbformat": 4,
 "nbformat_minor": 5
}
