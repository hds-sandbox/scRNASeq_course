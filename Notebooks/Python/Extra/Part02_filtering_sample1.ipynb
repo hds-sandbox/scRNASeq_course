{
 "cells": [
  {
   "cell_type": "markdown",
   "id": "2f989d91",
   "metadata": {},
   "source": [
    "# **Filtering a low quality sample**\n",
    "**Application of a PCA-based technique for filtering**\n",
    "\n",
    "---------------------\n",
    "\n",
    "**Motivation:**\n",
    "\n",
    "Quality control and filtering is the most important steps of single cell data analysis. Allowing low quality cells into your analysis will compromise/mislead your conclusions by adding hundreds of meaningless data points to your workflow.\n",
    "The main sources of low quality cells are\n",
    "- broken cells for which some of their transcripts get lost\n",
    "- cells isolated together with too much ambient RNA\n",
    "- missing cell during isolation (e.g. empty droplet in microfluidic machines)\n",
    "- multiple cells isolated together (multiplets, usually only two cells - doublets)\n",
    "\n",
    "A typical way of filtering cells is to look at thresholds for various QC measures. Here, we apply also a PCA technique that looks at all QC measures available at the same time.\n",
    "\n",
    "---------------------------\n",
    "\n",
    "**Learning objectives:**\n",
    "\n",
    "- Understand and discuss QC issues and measures from single cell data\n",
    "- Explore QC graphs and set filtering tools and thresholds\n",
    "- Understand and apply PCA outliers detection\n",
    "- Analyze the results of QC filters and evaluate necessity for different filtering \n",
    "----------------\n",
    "**Execution time: 40 minutes**"
   ]
  },
  {
   "cell_type": "markdown",
   "id": "146d2a26",
   "metadata": {},
   "source": [
    "------------------------------------"
   ]
  },
  {
   "cell_type": "markdown",
   "id": "3e306bcc",
   "metadata": {},
   "source": [
    "**Import the packages**"
   ]
  },
  {
   "cell_type": "code",
   "execution_count": null,
   "id": "84afe9ce",
   "metadata": {},
   "outputs": [],
   "source": [
    "import scanpy as sc\n",
    "import pandas as pd\n",
    "import scvelo as scv\n",
    "import numpy as np\n",
    "import seaborn as sns\n",
    "import matplotlib.pyplot as plt\n",
    "import sklearn"
   ]
  },
  {
   "cell_type": "code",
   "execution_count": null,
   "id": "ba829ca6",
   "metadata": {},
   "outputs": [],
   "source": [
    "sample_1 = sc.read_h5ad('../../../Data/notebooks_data/sample_1.h5ad')"
   ]
  },
  {
   "cell_type": "code",
   "execution_count": null,
   "id": "3170c66a",
   "metadata": {},
   "outputs": [],
   "source": [
    "sample_1"
   ]
  },
  {
   "cell_type": "markdown",
   "id": "827fbaaa",
   "metadata": {},
   "source": [
    "## Read the kneeplot (for 10X data with cellranger)"
   ]
  },
  {
   "cell_type": "markdown",
   "id": "bf151901",
   "metadata": {},
   "source": [
    "The `cellRanger` aligner used for 10X data provides a report for the user. This contains a lot of useful statistics including the so-called knee plot, shown below on the right side of the picture. The knee plot is very useful to have an overview of the data quality. The x axis represents the barcode of each cell (ordered by decreasing number of UMIs), while the y axis shows how many UMIs are present in each cells. The line is blue where data points have been identified as cells of good quality, and it becomes lighter when the data point is less likely to be a cell.\n",
    "\n",
    "![](https://raw.githubusercontent.com/hds-sandbox/scRNASeq_course/main/docs/python/img/sample1.png)\n",
    "\n",
    "This knee plot is clearly representing a low quality dataset (look at the three typical scenarios below). Moreover, we have a very low proportion of reads in each cell. Filtering this dataset might not keep many cells at the end of the process.\n",
    "\n",
    "![](https://raw.githubusercontent.com/hds-sandbox/scRNASeq_course/main/docs/python/img/kneeplots.png)\n",
    "*Representation of knee plots scenario. From the authors of the cellBender package.*"
   ]
  },
  {
   "cell_type": "markdown",
   "id": "ee5c2d7e",
   "metadata": {},
   "source": [
    "**Percentage of mitocondrial genes**"
   ]
  },
  {
   "cell_type": "markdown",
   "id": "2a4f88dc",
   "metadata": {},
   "source": [
    "We calculate the percentage of mitocondrial genes into each cell. A high percentage denotes the possibility that material from broken cells has been captured during cell isolation, and then sequenced. Mitocondrial percentage is not usually calculated by `scanpy`, because there is need for an identifier for mitocondrial genes, and there is not a standard one. In our case, we look at genes that contain `MT-` into their ID, and calculate their transcript proportion into each cell. We save the result as an observation into `.obs['perc_mito']`"
   ]
  },
  {
   "cell_type": "code",
   "execution_count": null,
   "id": "ee590311",
   "metadata": {},
   "outputs": [],
   "source": [
    "sample_1.X = np.array(sample_1.X.todense()).copy()"
   ]
  },
  {
   "cell_type": "code",
   "execution_count": null,
   "id": "fecea4a7",
   "metadata": {},
   "outputs": [],
   "source": [
    "MT = ['MT' in i for i in sample_1.var_names]\n",
    "perc_mito = np.sum( sample_1[:,MT].X, 1 ) / np.sum( sample_1.X, 1 )\n",
    "sample_1.obs['perc_mito'] = perc_mito.copy()"
   ]
  },
  {
   "cell_type": "code",
   "execution_count": null,
   "id": "e2793a86",
   "metadata": {},
   "outputs": [],
   "source": [
    "sc.pp.calculate_qc_metrics(sample_1, inplace=True)"
   ]
  },
  {
   "cell_type": "markdown",
   "id": "7426db2c",
   "metadata": {},
   "source": [
    "## Visualize and evaluate quality measures\n",
    "\n",
    "We can do some plots to have a look at quality measures combined together"
   ]
  },
  {
   "cell_type": "markdown",
   "id": "0ea2a0e9",
   "metadata": {},
   "source": [
    "**Counts vs Genes:** this is a typical plot, where you look at the total transcripts per cells (x axis) and detected genes per cell (y axis). Usually, those two measures grow together. Points with a lot of transcripts and genes might be multiplets (multiple cells sequenced together as one), while very few transcripts and genes denote the presence of only ambient RNA or very low quality sequencing of a cell. Below, the dots are coloured based on the percentage of mitocondrial transcripts. Note how a high proportion is often on cells with very low transcripts and genes (bottom left corner of the plot)"
   ]
  },
  {
   "cell_type": "code",
   "execution_count": null,
   "id": "97617a2d",
   "metadata": {},
   "outputs": [],
   "source": [
    "plt.rcParams['figure.figsize'] = (8,6)\n",
    "sc.pl.scatter(sample_1, x='total_counts', y='n_genes_by_counts', color='perc_mito', \n",
    "              title ='Nr of transcripts vs Nr detected genes, coloured by mitocondrial content',\n",
    "              size=30)"
   ]
  },
  {
   "cell_type": "code",
   "execution_count": null,
   "id": "20917fb0",
   "metadata": {},
   "outputs": [],
   "source": [
    "sc.pl.scatter(sample_1[sample_1.obs['total_counts']<10000], x='total_counts', y='n_genes_by_counts', color='perc_mito', \n",
    "              title ='Nr of transcripts vs Nr detected genes, coloured by mitocondrial content (Zoom)',\n",
    "             size=30)"
   ]
  },
  {
   "cell_type": "markdown",
   "id": "4ad4c0b6",
   "metadata": {},
   "source": [
    "**Transcripts and Genes distribution:** Here we simply look at the distribution of transcripts per cells and detected genes per cell. Note how the distribution is bimodal. This usually denotes a cluster of low-quality cells and viable cells. Sometimes filtering out the data points on the left-most modes of those graphs removes a lot of cells from a dataset, but this is quite a normal thing not to be worried about. The right side of the distributions show a tail with few cells having a lot of transcripts and genes. It is also good to filter out some of those extreme values - for technical reasons, it will also help in having a better normalization of the data later on."
   ]
  },
  {
   "cell_type": "code",
   "execution_count": null,
   "id": "b4321648",
   "metadata": {},
   "outputs": [],
   "source": [
    "ax = sns.distplot(sample_1.obs['total_counts'], bins=50)\n",
    "ax.set_title('Cells Transcripts distribution')"
   ]
  },
  {
   "cell_type": "code",
   "execution_count": null,
   "id": "7a9f4de2",
   "metadata": {},
   "outputs": [],
   "source": [
    "ax = sns.distplot(sample_1.obs['n_genes_by_counts'], bins=50)\n",
    "ax.set_title('Distribution of detected genes per cell')"
   ]
  },
  {
   "cell_type": "markdown",
   "id": "7211f106",
   "metadata": {},
   "source": [
    "In this dataset there are few cell with a high percentage of mitocondrial content. Those are precisely 77 if we set 0.1 (that is 10%) as a treshold. A value between 10% and 20% is the usual standard when filtering single cell datasets."
   ]
  },
  {
   "cell_type": "code",
   "execution_count": null,
   "id": "1bd2776f",
   "metadata": {},
   "outputs": [],
   "source": [
    "#subsetting to see how many cells have percentage of mitocondrial genes above 10%\n",
    "sample_1[ sample_1.obs['perc_mito']>0.1, : ].shape"
   ]
  },
  {
   "cell_type": "code",
   "execution_count": null,
   "id": "266fa91e",
   "metadata": {},
   "outputs": [],
   "source": [
    "ax = sns.distplot(sample_1.obs['perc_mito'], bins=50)\n",
    "ax.set_title('Distribution of mitocondrial content per cell')"
   ]
  },
  {
   "cell_type": "markdown",
   "id": "7a3fe3b7",
   "metadata": {},
   "source": [
    "## PCA-based filtering\n",
    "\n",
    "Now we calculate a PCA on a set of quality measures, and find out the outliers in the resulting PCA projections. We remove these outliers from the dataset: they will be data points with an anomalous subset of quality measures. This technique is rewritten from the `R` package `scran`.\n",
    "The script below does the filtering and plots the PCA with the outliers represented by circles."
   ]
  },
  {
   "cell_type": "code",
   "execution_count": null,
   "id": "3f00ef8e",
   "metadata": {},
   "outputs": [],
   "source": [
    "import numpy as np\n",
    "from sklearn.decomposition import PCA\n",
    "from sklearn.preprocessing import scale\n",
    "from sklearn.ensemble import IsolationForest\n",
    "plt.rcParams['figure.figsize'] = (16,6)\n",
    "\n",
    "#write here which quality measures you want to use\n",
    "df = sample_1.obs[ ['n_genes_by_counts', 'total_counts', \n",
    "                    'perc_mito', 'pct_counts_in_top_50_genes'] ]\n",
    "\n",
    "df2 = scale(df, axis=0)\n",
    "\n",
    "pca = PCA(n_components=2)\n",
    "\n",
    "Y = pca.fit_transform(df2)\n",
    "\n",
    "clf = IsolationForest(random_state=0)\n",
    "\n",
    "pred = clf.fit_predict(df2)\n",
    "\n",
    "sample_1 = sample_1[pred==1].copy()\n",
    "\n",
    "pred = pd.Categorical(pred)\n",
    "pred = pred.rename_categories(['Outlier','Cell'])\n",
    "df['Category'] = pred\n",
    "\n",
    "sns.scatterplot(Y[:,0],Y[:,1], hue = df.total_counts, style = df.Category, \n",
    "                palette=\"Blues\", sizes=(20, 200), hue_norm=(0, 100))"
   ]
  },
  {
   "cell_type": "markdown",
   "id": "b6c552ab",
   "metadata": {},
   "source": [
    "we have removed around 3000 cells"
   ]
  },
  {
   "cell_type": "code",
   "execution_count": null,
   "id": "fcf3c302",
   "metadata": {},
   "outputs": [],
   "source": [
    "sample_1"
   ]
  },
  {
   "cell_type": "markdown",
   "id": "e90cfef7",
   "metadata": {},
   "source": [
    "## Choosing thresholds"
   ]
  },
  {
   "cell_type": "markdown",
   "id": "20ed52b8",
   "metadata": {},
   "source": [
    "We use some thresholds by looking at the previous QC plots. Those will eventually remove some remaining low quality cells. "
   ]
  },
  {
   "cell_type": "code",
   "execution_count": null,
   "id": "318c0e6f",
   "metadata": {},
   "outputs": [],
   "source": [
    "MIN_COUNTS = 5000   #minimum number of transcripts per cell\n",
    "MAX_COUNTS = 15000  #maximum number of transcripts per cell\n",
    "MIN_GENES = 2500    #minimum number of genes per cell\n",
    "MAX_GENES = 6000    #maximum number of genes per cell\n",
    "MAX_MITO = .1       #mitocondrial percentage treshold"
   ]
  },
  {
   "cell_type": "markdown",
   "id": "29605406",
   "metadata": {},
   "source": [
    "We can do some subsetting to zoom into the plots we did before"
   ]
  },
  {
   "cell_type": "code",
   "execution_count": null,
   "id": "cd0e7356",
   "metadata": {},
   "outputs": [],
   "source": [
    "plt.rcParams['figure.figsize'] = (8,6)\n",
    "sc.pl.scatter(sample_1[ sample_1.obs['total_counts']<MAX_COUNTS ], \n",
    "              x='total_counts', y='n_genes_by_counts', color='perc_mito',\n",
    "              title =f'Nr of transcripts vs Nr detected genes, coloured by mitocondrial content\\nsubsetting with threshold MAX_COUNTS={MAX_COUNTS}',\n",
    "             size=30)"
   ]
  },
  {
   "cell_type": "code",
   "execution_count": null,
   "id": "c098c268",
   "metadata": {},
   "outputs": [],
   "source": [
    "sc.pl.scatter(sample_1[ sample_1.obs['n_genes_by_counts'] > MIN_GENES ], \n",
    "              x='total_counts', y='n_genes_by_counts', color='perc_mito',\n",
    "              title =f'Nr of transcripts vs Nr detected genes, coloured by mitocondrial content\\nsubsetting with treshold MIN_GENES={MIN_GENES}',\n",
    "             size=30)"
   ]
  },
  {
   "cell_type": "markdown",
   "id": "fcd53d40",
   "metadata": {},
   "source": [
    "The following commands filter using the chose tresholds. Again, scanpy does not do the mitocondrial QC filtering, so we do that on our own by subsetting the data. \n",
    "\n",
    "Note for the last two filterings: the parameter `min_cells` remove all those cells showing transcripts for only 10 genes or less - standard values for this parameter are usually between 3 and 10, and do not come from looking at the QC plots. The last command uses the standard value for the mitocondrial content treshold."
   ]
  },
  {
   "cell_type": "code",
   "execution_count": null,
   "id": "cb2bfcdb",
   "metadata": {},
   "outputs": [],
   "source": [
    "sc.preprocessing.filter_cells(sample_1, max_counts=MAX_COUNTS)\n",
    "\n",
    "sc.preprocessing.filter_cells(sample_1, min_counts=MIN_COUNTS)\n",
    "\n",
    "sc.preprocessing.filter_cells(sample_1, min_genes=MIN_GENES)\n",
    "\n",
    "sc.preprocessing.filter_cells(sample_1, max_genes=MAX_GENES)\n",
    "\n",
    "sc.preprocessing.filter_genes(sample_1, min_cells=10)\n",
    "\n",
    "sample_1 = sample_1[sample_1.obs['perc_mito']<MAX_MITO].copy()"
   ]
  },
  {
   "cell_type": "markdown",
   "id": "6d2772d9",
   "metadata": {},
   "source": [
    "We can see how only a low number of cells is left."
   ]
  },
  {
   "cell_type": "code",
   "execution_count": null,
   "id": "87b055e5",
   "metadata": {},
   "outputs": [],
   "source": [
    "sample_1"
   ]
  },
  {
   "cell_type": "markdown",
   "id": "05ce5afe",
   "metadata": {},
   "source": [
    "## Doublet filtering"
   ]
  },
  {
   "cell_type": "markdown",
   "id": "37f02f1d",
   "metadata": {},
   "source": [
    "Another important step consists in filtering out multiplets. Those are in the almost totality of the cases doublets, because triplets and above multiplets are extremely rare. Read [this more technical blog post](https://liorpachter.wordpress.com/2019/02/07/sub-poisson-loading-for-single-cell-rna-seq/) for more explanations about this."
   ]
  },
  {
   "cell_type": "markdown",
   "id": "0376041e",
   "metadata": {},
   "source": [
    "The external tool `scrublet` simulates doublets by putting together the transcripts of random pairs of cells from the dataset. Then it assigns a score to each cell in the data, based on the similarity with the simulated doublets. An `expected_doublet_rate` of 0.06 (6%) is quite a typical value for single cell data, but if you have a better estimate from laboratory work, microscope imaging or a specific protocol/sequencing machine, you can also tweak the value. \n",
    "`random_state` is a number choosing how the simulations are done. using a specific random state means that you will always simulate the same doublets whenever you run this code. This allows you to reproduce exactly the same results every time and is a great thing for reproducibility in your own research."
   ]
  },
  {
   "cell_type": "code",
   "execution_count": null,
   "id": "fd4269ac",
   "metadata": {},
   "outputs": [],
   "source": [
    " sc.external.pp.scrublet(sample_1, \n",
    "                        expected_doublet_rate=0.06,\n",
    "                        random_state=12345)"
   ]
  },
  {
   "cell_type": "markdown",
   "id": "146bfb2d",
   "metadata": {},
   "source": [
    "It seems that the doublet rate is likely to be lower than 6%, meaning that in this regard the data has been produced pretty well. We now plot the doublet scores assigned to each cell by the algorithm. We can see that most cells have a low score (the score is a value between 0 and 1). Datasets with many doublets show a more bimodal distribution, while here we just have a light tail beyond 0.1. "
   ]
  },
  {
   "cell_type": "code",
   "execution_count": null,
   "id": "bf567e9e",
   "metadata": {},
   "outputs": [],
   "source": [
    "sns.distplot(sample_1.obs['doublet_score'])"
   ]
  },
  {
   "cell_type": "markdown",
   "id": "1290c2aa",
   "metadata": {},
   "source": [
    "We can choose 0.1 as filtering treshold for the few detected doublets or alternatively use the automatic selection of doublets by the algorithm. We will choose the last option and use the automatically chosen doublets."
   ]
  },
  {
   "cell_type": "code",
   "execution_count": null,
   "id": "919bd8bb",
   "metadata": {},
   "outputs": [],
   "source": [
    "sample_1 = sample_1[np.invert(sample_1.obs['predicted_doublet'])].copy()"
   ]
  },
  {
   "cell_type": "markdown",
   "id": "14b89368",
   "metadata": {},
   "source": [
    "## Evaluation of filtering"
   ]
  },
  {
   "cell_type": "markdown",
   "id": "bd2301d3",
   "metadata": {},
   "source": [
    "A quite basic but easy way to look at the results of our filtering is to normalize and plot the dataset on some projections. Here we use a standard normalization technique that consists of:\n",
    "- **TPM normalization**: the transcripts of each cell are normalized, so that their total amounts to the same value. This should make cells more comparable independently of how many transcripts their has been retained during cell isolation.\n",
    "- **Logarithmization**: the logarithm of the normalized transcripts is calculated. This reduce the variability of transcripts values and highlights variations due to biological factors.\n",
    "- **Standardization**: Each gene is standardized across all cells. This is useful for example  for projecting the data onto a PCA. "
   ]
  },
  {
   "cell_type": "code",
   "execution_count": null,
   "id": "4793ad39",
   "metadata": {},
   "outputs": [],
   "source": [
    "# TPM normalization and storage of the matrix\n",
    "sc.pp.normalize_per_cell(sample_1)\n",
    "sample_1.layers['umi_tpm'] = sample_1.X.copy()\n",
    "\n",
    "# Logarithmization and storage\n",
    "sc.pp.log1p(sample_1)\n",
    "sample_1.layers['umi_log'] = sample_1.X.copy()\n",
    "\n",
    "# Select some of the most meaningful genes to calculate the PCA plot later\n",
    "# This must be done on logarithmized values\n",
    "sc.pp.highly_variable_genes(sample_1, n_top_genes=15000)\n",
    "\n",
    "# save the dataset\n",
    "sample_1.write('../Data/notebooks_data/sample_1.filt.h5ad')\n",
    "\n",
    "# standardization and matrix storage\n",
    "sc.pp.scale(sample_1)\n",
    "sample_1.layers['umi_gauss'] = sample_1.X.copy()"
   ]
  },
  {
   "cell_type": "markdown",
   "id": "6d4214ee",
   "metadata": {},
   "source": [
    "Now we calculate the PCA projection"
   ]
  },
  {
   "cell_type": "code",
   "execution_count": null,
   "id": "852eea1d",
   "metadata": {},
   "outputs": [],
   "source": [
    "sc.preprocessing.pca(sample_1, svd_solver='arpack', random_state=12345)"
   ]
  },
  {
   "cell_type": "markdown",
   "id": "22258730",
   "metadata": {},
   "source": [
    "We can look at the PCA plot and color it by some quality measure and gene expression. Even though we filtered a lot, there is still some structure left. But with so few cells, the dataset is not worth of usage, since the other samples have thousands of cells of better quality"
   ]
  },
  {
   "cell_type": "code",
   "execution_count": null,
   "id": "e795fefb",
   "metadata": {},
   "outputs": [],
   "source": [
    "sc.pl.pca(sample_1, color=['total_counts','SYCP1'])"
   ]
  },
  {
   "cell_type": "markdown",
   "id": "4bde5c9c",
   "metadata": {},
   "source": [
    "We plot the variance ratio to see how each component of the PCA changes in variability. Small changes in variability denote that the components are mostly modeling noise in the data. We can choose a threshold (for example 15 PCA components) to be used in all algorithms that use PCA to calculate any quantity."
   ]
  },
  {
   "cell_type": "code",
   "execution_count": null,
   "id": "93c59d5d",
   "metadata": {},
   "outputs": [],
   "source": [
    "sc.plotting.pca_variance_ratio(sample_1)"
   ]
  },
  {
   "cell_type": "markdown",
   "id": "5cc9f6b6",
   "metadata": {},
   "source": [
    "We project the data using the UMAP algorithm. This is very good in preserving the structure of a dataset in low dimension, if any is present. We first calculate the neighbors of each cell (that is, its most similar cells), those are then used for the UMAP. The neighbors are calculated using the PCA matrix instead of the full data matrix, so we can choose the number of PCA components to use (parameter `n_pcs`). Many algorithms work on the PCA, so you will see the parameter used again in other places."
   ]
  },
  {
   "cell_type": "code",
   "execution_count": null,
   "id": "1713571e",
   "metadata": {},
   "outputs": [],
   "source": [
    "sc.pp.neighbors(sample_1, n_pcs=15, random_state=12345)"
   ]
  },
  {
   "cell_type": "code",
   "execution_count": null,
   "id": "21d59b01",
   "metadata": {},
   "outputs": [],
   "source": [
    "sc.tools.umap(sample_1, random_state=54321)"
   ]
  },
  {
   "cell_type": "markdown",
   "id": "15cab009",
   "metadata": {},
   "source": [
    "The UMAP plot gives a pretty well-structured output for this dataset. We will keep working further with this filtering."
   ]
  },
  {
   "cell_type": "code",
   "execution_count": null,
   "id": "2ef9f78c",
   "metadata": {},
   "outputs": [],
   "source": [
    "sc.plotting.umap(sample_1, color=['total_counts','SYCP1'])"
   ]
  },
  {
   "cell_type": "markdown",
   "id": "22ea1a40",
   "metadata": {},
   "source": [
    "-------------------------------"
   ]
  },
  {
   "cell_type": "markdown",
   "id": "ec200bb7",
   "metadata": {},
   "source": [
    "## Wrapping up"
   ]
  },
  {
   "cell_type": "markdown",
   "id": "5c47baea",
   "metadata": {},
   "source": [
    "We have looked through a low quality dataset, and applied PCA-based and threshold-based filterings. The filtering resulted in removing almost all available data points."
   ]
  }
 ],
 "metadata": {
  "kernelspec": {
   "display_name": "Python (scRNA)",
   "language": "python",
   "name": "scrna-environment"
  },
  "language_info": {
   "codemirror_mode": {
    "name": "ipython",
    "version": 3
   },
   "file_extension": ".py",
   "mimetype": "text/x-python",
   "name": "python",
   "nbconvert_exporter": "python",
   "pygments_lexer": "ipython3"
  }
 },
 "nbformat": 4,
 "nbformat_minor": 5
}
