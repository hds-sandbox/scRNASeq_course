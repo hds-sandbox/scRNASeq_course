{
 "cells": [
  {
   "cell_type": "markdown",
   "metadata": {},
   "source": [
    "# **Cross-data analysis**\n",
    "\n",
    "---------------------------\n",
    "\n",
    "**Motivation:**\n",
    "\n",
    "Azoospermia is a condition where men do not produce any spermatozoa or produce semen of too low quality for allowing pregnancy to actually happen. Various types of azoospermia can happen, and those will look differently at a cellular level, as you can see below.\n",
    "\n",
    "![](https://raw.githubusercontent.com/hds-sandbox/scRNASeq_course/main/docs/python/img/azoospermia.png)\n",
    "*Examples of testicular histology and the composition of testicular cell types that can be observed among men with non-obstructive azoospermia. a A biopsy from a patient with Klinefelter syndrome (47, XXY) showing degenerated ghost tubules (#), tubules with Sertoli-cell-only (SCO) pattern (*) and large clusters of Leydig cells. b SCO (*) observed in a patient with a complete AZFc deletion. c Tubules with germ cell neoplasia in situ, GCNIS, which do not contain any normal germ cells (&). GCNIS cells are the precursor cells of testicular germ cell cancer and are found more frequently among men with azoospermia than among men with good semen quality (Hoei-Hansen et al. 2003). d Classical Sertoli-cell-only syndrome (SCOS) where no germ cells are present. Only Sertoli cells are found inside the seminiferous tubules marked with an asterisk (*). e SCO (*) with partial hyalinisation of tubules (#). f Spermatocytic arrest (SPA) (§) at the stage of spermatocytes. The bar represents 100 microns and all images are in the same magnification. From (Soraggi et al 2020)*.\n",
    "\n",
    "Common to the various azoospermic conditions is the lack or distuption of gene expression patterns. It makes therefore sense to detect genes expressed more in the healthy dataset against the azoospermic one. We can also investigate gene enrichment databases to get a clearer picture of what the genes of interest are relevant to.\n",
    "\n",
    "We try to do a simple analysis of the dataset with \"healthy\" cells against a dataset with azoospermic cells: we integrate the data, apply differential expression and gene enrichment analysis. The azoospermic dataset has been already preprocessed and clustered. Notebooks for the whole process to elaborate the data are included under the section `Extra` of the course webpage, and can be found in the folder `Notebooks/azoospermia`. The original data is also provided, so you can as well play around on your own to preprocess and cluster again the data.\n",
    "\n",
    "---------------------------\n",
    "\n",
    "**Learning objectives:**\n",
    "\n",
    "- Integrate datasets and detect DE genes in two different health conditions\n",
    "- Evaluate visually the integration results\n",
    "- Perform and interpret gene enrichment analysis\n",
    "\n",
    "----------------\n",
    "**Execution time: 30 minutes**\n",
    "\n",
    "---------------"
   ]
  },
  {
   "cell_type": "markdown",
   "metadata": {},
   "source": [
    "***Import packages***"
   ]
  },
  {
   "cell_type": "code",
   "execution_count": null,
   "metadata": {},
   "outputs": [],
   "source": [
    "import scanpy as sc\n",
    "import pandas as pd\n",
    "import scvelo as scv\n",
    "import numpy as np\n",
    "import seaborn as sns\n",
    "import matplotlib.pyplot as plt\n",
    "import sklearn\n",
    "import anndata as ad\n",
    "import gseapy as gp\n",
    "\n",
    "plt.rcParams['figure.figsize']=(6,6) #rescale figures"
   ]
  },
  {
   "cell_type": "code",
   "execution_count": null,
   "metadata": {},
   "outputs": [],
   "source": [
    "import rpy2.robjects as ro\n",
    "\n",
    "import rpy2.rinterface_lib.callbacks\n",
    "import logging\n",
    "\n",
    "from rpy2.robjects import pandas2ri\n",
    "import anndata2ri\n",
    "\n",
    "# Ignore R warning messages\n",
    "#Note: this can be commented out to get more verbose R output\n",
    "rpy2.rinterface_lib.callbacks.logger.setLevel(logging.ERROR)\n",
    "\n",
    "# Automatically convert rpy2 outputs to pandas dataframes\n",
    "pandas2ri.activate()\n",
    "anndata2ri.activate()\n",
    "%load_ext rpy2.ipython"
   ]
  },
  {
   "cell_type": "markdown",
   "metadata": {},
   "source": [
    "Read the data for healthy and azoospermic patient"
   ]
  },
  {
   "cell_type": "code",
   "execution_count": null,
   "metadata": {},
   "outputs": [],
   "source": [
    "healthy = sc.read('../Data/notebooks_data/sample_123.filt.norm.red.clst.2.times.h5ad')\n",
    "azoospermic = sc.read('../Data/notebooks_data/crypto_123.filt.norm.red.clst.2.times.h5ad') "
   ]
  },
  {
   "cell_type": "markdown",
   "metadata": {},
   "source": [
    "Rename cluster variable to match the two datasets"
   ]
  },
  {
   "cell_type": "code",
   "execution_count": null,
   "metadata": {},
   "outputs": [],
   "source": [
    "azoospermic.obs['clusters_som']=azoospermic.obs['clusters_spc'].copy()"
   ]
  },
  {
   "cell_type": "markdown",
   "metadata": {},
   "source": [
    "Just a reminder of available clusters and UMAP plot. In this case we have matching clusters apart from SpermatogoniaB - whose markers were not observed in azoospermic patients. Note also differences in pseudotimes."
   ]
  },
  {
   "cell_type": "code",
   "execution_count": null,
   "metadata": {},
   "outputs": [],
   "source": [
    "sc.pl.umap(healthy, color=['clusters_som','pseudotimes'], \n",
    "           legend_loc='on data', title='Healthy patient clustering')"
   ]
  },
  {
   "cell_type": "code",
   "execution_count": null,
   "metadata": {},
   "outputs": [],
   "source": [
    "sc.pl.umap(azoospermic, color=['clusters_spc','pseudotimes'], \n",
    "           legend_loc='on data', title='Azoospermic patient clustering')"
   ]
  },
  {
   "cell_type": "code",
   "execution_count": null,
   "metadata": {},
   "outputs": [],
   "source": [
    "healthy"
   ]
  },
  {
   "cell_type": "code",
   "execution_count": null,
   "metadata": {},
   "outputs": [],
   "source": [
    "azoospermic"
   ]
  },
  {
   "cell_type": "markdown",
   "metadata": {},
   "source": [
    "## Put data together\n",
    "\n",
    "One possible comparison is to do a differential gene expression of each cluster found in both datasets. In this way we can find genes expressed in one sample and not the other. To do this we first concatenate the datasets and normalize them."
   ]
  },
  {
   "cell_type": "code",
   "execution_count": null,
   "metadata": {},
   "outputs": [],
   "source": [
    "batch_names = ['healthy','azoospermic'] #choose names for samples\n",
    "sample = ad.AnnData.concatenate(healthy, azoospermic, batch_key='condition') #concatenate\n",
    "sample.rename_categories(key='condition', categories=batch_names) #apply sample names\n",
    "scv.utils.cleanup(sample, clean='var') #remove duplicated gene quantites"
   ]
  },
  {
   "cell_type": "markdown",
   "metadata": {},
   "source": [
    "We normalize the data and consider both batch and condition as batch variable to distinguish samples"
   ]
  },
  {
   "cell_type": "code",
   "execution_count": null,
   "metadata": {},
   "outputs": [],
   "source": [
    "sample.obs['batch_condition'] = [f'{i}_{j}' for i,j in zip(sample.obs['batch'],sample.obs['condition'])]"
   ]
  },
  {
   "cell_type": "code",
   "execution_count": null,
   "metadata": {},
   "outputs": [],
   "source": [
    "rawMatrix = np.array( sample.layers['umi_raw'].T.copy())\n",
    "genes_name = sample.var_names\n",
    "cells_info = sample.obs[ [\"batch_condition\"] ].copy()"
   ]
  },
  {
   "cell_type": "code",
   "execution_count": null,
   "metadata": {},
   "outputs": [],
   "source": [
    "%%R -i cells_info -i rawMatrix -i genes_name\n",
    "library(scater)\n",
    "cell_df <- DataFrame(data = cells_info)\n",
    "colnames(rawMatrix) <- rownames(cell_df) #cell names\n",
    "rownames(rawMatrix) <- genes_name #gene names"
   ]
  },
  {
   "cell_type": "code",
   "execution_count": null,
   "metadata": {},
   "outputs": [],
   "source": [
    "%%R\n",
    "library(sctransform)\n",
    "library(future)\n",
    "future::plan(strategy = 'multicore', workers = 2)\n",
    "options(future.globals.maxSize = 50 * 1024 ^ 3)"
   ]
  },
  {
   "cell_type": "code",
   "execution_count": null,
   "metadata": {},
   "outputs": [],
   "source": [
    "%%R\n",
    "vst_out=vst( as.matrix(rawMatrix), #data matrix\n",
    "            cell_attr=cell_df, #dataframe containing batch variable\n",
    "            n_genes=3000, #most variable genes in your data\n",
    "            batch_var='data.batch_condition', #name of the batch variable\n",
    "            method='qpoisson', #type of statistical model. use \"poisson\" for more precision but much slower execution\n",
    "            show_progress=TRUE, #show progress bars\n",
    "            return_corrected_umi=TRUE) #return corrected umi count matrix"
   ]
  },
  {
   "cell_type": "code",
   "execution_count": null,
   "metadata": {},
   "outputs": [],
   "source": [
    "%%R -o new_matrix -o sct_genes -o all_genes -o umi_matrix\n",
    "new_matrix=vst_out$y #normalized matrix\n",
    "sct_genes = rownames(vst_out$model_pars) #most variable genes\n",
    "all_genes = rownames(new_matrix) #vector of all genes to check if any have been filtered out\n",
    "umi_matrix=vst_out$umi_corrected #umi matrix"
   ]
  },
  {
   "cell_type": "code",
   "execution_count": null,
   "metadata": {},
   "outputs": [],
   "source": [
    "sct_genes = list(sct_genes)\n",
    "sample.var['highly_variable'] = [i in sct_genes for i in sample.var_names]"
   ]
  },
  {
   "cell_type": "code",
   "execution_count": null,
   "metadata": {},
   "outputs": [],
   "source": [
    "sample = sample[:,list(all_genes)].copy()"
   ]
  },
  {
   "cell_type": "code",
   "execution_count": null,
   "metadata": {},
   "outputs": [],
   "source": [
    "sample.layers['norm_sct_condition'] = np.transpose( new_matrix )\n",
    "sample.layers['umi_sct_condition'] = np.transpose( umi_matrix )"
   ]
  },
  {
   "cell_type": "markdown",
   "metadata": {},
   "source": [
    "Now we have less genes because of the azoospermic dataset"
   ]
  },
  {
   "cell_type": "code",
   "execution_count": null,
   "metadata": {},
   "outputs": [],
   "source": [
    "sample"
   ]
  },
  {
   "cell_type": "markdown",
   "metadata": {},
   "source": [
    "## Differential expression\n",
    "\n",
    "Here we do a simple differential expression analysis of all healthy vs all azoospermic cells. We can see how healhy samples mostly dominate with the expression of genes related to the development of sperm, especially in the round and elongated spermatids stages. many of the genes for azoospermic cells are ribosomal genes."
   ]
  },
  {
   "cell_type": "code",
   "execution_count": null,
   "metadata": {},
   "outputs": [],
   "source": [
    "sample.X = sample.layers['umi_sct_condition'].copy()\n",
    "sc.pp.log1p(sample)"
   ]
  },
  {
   "cell_type": "code",
   "execution_count": null,
   "metadata": {},
   "outputs": [],
   "source": [
    "sc.tl.rank_genes_groups(sample, groupby='condition', key_added='DE_condition', \n",
    "                        use_raw=False, n_genes=50, method='wilcoxon')"
   ]
  },
  {
   "cell_type": "code",
   "execution_count": null,
   "metadata": {},
   "outputs": [],
   "source": [
    "pd.DataFrame(sample.uns['DE_condition']['names'])"
   ]
  },
  {
   "cell_type": "markdown",
   "metadata": {},
   "source": [
    "You can again look at log-fold changes and p-values"
   ]
  },
  {
   "cell_type": "code",
   "execution_count": null,
   "metadata": {},
   "outputs": [],
   "source": [
    "result = sample.uns['DE_condition']\n",
    "groups = result['names'].dtype.names\n",
    "X = pd.DataFrame(\n",
    "    {group + '_' + key[:1].upper(): result[key][group]\n",
    "    for group in groups for key in ['names', 'pvals_adj','logfoldchanges']})\n",
    "X"
   ]
  },
  {
   "cell_type": "code",
   "execution_count": null,
   "metadata": {},
   "outputs": [],
   "source": [
    "X.to_csv('../Data/results/diff_expression_condition.csv', header=True, index=False)"
   ]
  },
  {
   "cell_type": "markdown",
   "metadata": {},
   "source": [
    "Integration plot. We use the standard PCA because it is faster and rely on `bbknn` for correcting differences between samples."
   ]
  },
  {
   "cell_type": "code",
   "execution_count": null,
   "metadata": {},
   "outputs": [],
   "source": [
    "sample.X = sample.layers['norm_sct_condition'].copy() #use normalized data in .X\n",
    "sc.pp.scale(sample) #standardize\n",
    "sc.preprocessing.pca(sample, svd_solver='arpack', random_state=12345) #do PCA"
   ]
  },
  {
   "cell_type": "code",
   "execution_count": null,
   "metadata": {},
   "outputs": [],
   "source": [
    "import bbknn as bbknn\n",
    "bbknn.bbknn(sample, batch_key='batch_condition')"
   ]
  },
  {
   "cell_type": "code",
   "execution_count": null,
   "metadata": {},
   "outputs": [],
   "source": [
    "sc.tools.umap(sample, random_state=54321)"
   ]
  },
  {
   "cell_type": "code",
   "execution_count": null,
   "metadata": {},
   "outputs": [],
   "source": [
    "sc.plotting.umap(sample, color=['condition','clusters_som'], ncols=1)"
   ]
  },
  {
   "cell_type": "markdown",
   "metadata": {},
   "source": [
    "Below, we average the UMAP coordinates for each cluster in the azoospermic (A) and healthy (H) dataset, and plot those averages. We can see if they are close to each other, or if they are far apart. Notice that  `Spermatogonia B` and `Leptotene` overlap. This because in only one of the two dataset we have left some spermatogonia B cells where we could not observe leptotene markers. But we could also have misedentified some Spermatogonia A cells."
   ]
  },
  {
   "cell_type": "code",
   "execution_count": null,
   "metadata": {},
   "outputs": [],
   "source": [
    "fancyUmap['Condition']\n",
    "\n",
    "new_names = np.array([ str(i[0]).upper() + '_' + str(j) for i,j in \n",
    "             zip(sample.obs['condition'], sample.obs['clusters_som']) ])\n",
    "\n",
    "np.unique(new_names)\n",
    "\n",
    "idx = [i=='A_Dyplotene' for i in new_names]\n",
    "new_names[idx]  = 'A_Diplotene'\n",
    "\n",
    "np.unique(new_names)\n",
    "\n",
    "plt.rcParams['figure.figsize']=(10,6) #rescale figures\n",
    "X_umap = sample.obsm['X_umap'].copy()\n",
    "x = []\n",
    "y = []\n",
    "clst = []\n",
    "condition = []\n",
    "\n",
    "#need the same category names order to have the same color palette for the clusters\n",
    "for i in np.unique(new_names):\n",
    "    boolean = [j==i for j in new_names]\n",
    "    x.append( np.mean(X_umap[boolean,0]) )\n",
    "    y.append( np.mean(X_umap[boolean,1]) )\n",
    "    clst.append( i.split('_')[1] )\n",
    "    condition.append( sample.obs['condition'][boolean][0] )\n",
    "sns.set_style(\"white\", {'axes.grid' : False})    \n",
    "g=sns.scatterplot(x,y,style=condition,hue=clst,markers=markers, s=1000)\n",
    "g.legend(bbox_to_anchor=(1.05, 1), loc=2, borderaxespad=0., fontsize= 20, markerscale = 3)\n",
    "g.set_title('Overlapping of cluster coordinates on UMAP')\n",
    "g.set(xlabel = 'UMAP_0', ylabel='UMAP_1')  \n"
   ]
  },
  {
   "cell_type": "markdown",
   "metadata": {},
   "source": [
    "We can look at the percentage of cell clusters in the two datasets. This is not a much reliable number for usage when clustering by hand looking at markers, because we might misidentify some subclusters into one type or the other. For example Spermatogonia B and Leptotene in the healthy data sum up to the amount of leptotene cells in the azoospermic data"
   ]
  },
  {
   "cell_type": "code",
   "execution_count": null,
   "metadata": {},
   "outputs": [],
   "source": [
    "healthy.obs['clusters_som'].value_counts() / healthy.shape[0] * 100"
   ]
  },
  {
   "cell_type": "code",
   "execution_count": null,
   "metadata": {},
   "outputs": [],
   "source": [
    "azoospermic.obs['clusters_spc'].value_counts() / azoospermic.shape[0] * 100"
   ]
  },
  {
   "cell_type": "code",
   "execution_count": null,
   "metadata": {},
   "outputs": [],
   "source": [
    "sample.write('../Data/notebooks_data/condition.integrated.h5ad')"
   ]
  },
  {
   "cell_type": "markdown",
   "metadata": {},
   "source": [
    "## Gene enrichment\n",
    "\n",
    "Let's do enrichment analysis to see how differentially expressed genes from healthy patients can be interpreted. We use the package `gseapy`, that allows you to choose a lot of gene enrichment archives to explore. This package is just an interface to the website [Enrichr](https://maayanlab.cloud/Enrichr/), where you can copy-paste a list of genes and visualize the same results as in this `python` code."
   ]
  },
  {
   "cell_type": "code",
   "execution_count": null,
   "metadata": {},
   "outputs": [],
   "source": [
    "sample = sc.read('../Data/notebooks_data/condition.integrated.h5ad')"
   ]
  },
  {
   "cell_type": "markdown",
   "metadata": {},
   "source": [
    "load differential expression table"
   ]
  },
  {
   "cell_type": "code",
   "execution_count": null,
   "metadata": {},
   "outputs": [],
   "source": [
    "DE_genes = pd.read_csv('../Data/results/diff_expression_condition.csv')\n",
    "DE_genes = DE_genes.loc[:, [i.split('_')[1]=='N' for i in DE_genes.columns] ]"
   ]
  },
  {
   "cell_type": "markdown",
   "metadata": {},
   "source": [
    "Run gene enrichment analysis. Results are in the folders `Data/results/enrichment_condition/healthy` and `Data/results/enrichment_condition/azoospermic` of the course material. "
   ]
  },
  {
   "cell_type": "code",
   "execution_count": null,
   "metadata": {},
   "outputs": [],
   "source": [
    "enrich_results = dict()\n",
    "for CONDITION in DE_genes.columns:\n",
    "    print('------Enrichment analysis for condition ' + CONDITION.split('_')[0] + '------')\n",
    "    enrich_results[CONDITION.split('_')[0]] = gp.enrichr(gene_list=DE_genes[CONDITION],\n",
    "                 gene_sets=[ 'ARCHS4_TFs_Coexp',\n",
    "                             'Chromosome_Location_hg19',\n",
    "                             'WikiPathway_2021_Human',\n",
    "                             'ARCHS4_Tissues',\n",
    "                             'GO_Molecular_Function_2021',],\n",
    "                 organism='Human', # don't forget to set organism to the one you desired\n",
    "                 description=CONDITION,\n",
    "                 outdir=f'../Data/results/enrichment_condition/{CONDITION}',                              \n",
    "                 cutoff=0.05 # p-value for enrichment test.\n",
    "                )"
   ]
  },
  {
   "cell_type": "markdown",
   "metadata": {},
   "source": [
    "Note we have chosen five databases as example (option `gene_sets`), but you can see a list with all databases below, or by visiting the webpage"
   ]
  },
  {
   "cell_type": "code",
   "execution_count": null,
   "metadata": {},
   "outputs": [],
   "source": [
    "gp.get_library_name()"
   ]
  },
  {
   "cell_type": "markdown",
   "metadata": {},
   "source": [
    "We can plot some information here instead of looking into folders. we can plot a table with pvalues, genes present in the database and their enrichment term. Here the enrichment for healthy samples (filtered with pvalue <0.01)"
   ]
  },
  {
   "cell_type": "code",
   "execution_count": null,
   "metadata": {},
   "outputs": [],
   "source": [
    "healthy_table = enrich_results['healthy'].results #get the table"
   ]
  },
  {
   "cell_type": "code",
   "execution_count": null,
   "metadata": {},
   "outputs": [],
   "source": [
    "healthy_table.head() #table preview"
   ]
  },
  {
   "cell_type": "markdown",
   "metadata": {},
   "source": [
    "Note the `Wikipathway` results at the end of the table, where we have genes related to male infertility (when their expression is disrupted) and genes involved in the Cori Cycle (essential for spermatogenesis). Also, Sperm and Testis are recognized as likely tissues from which our data comes from. Relevant transcriptio factors highlighted here are for example HSF5 (early spermatogenesis), YBX2 (Abnormal spermatogenesis in case of disruption), SOX30 (male fertility). Using gene enrichment analyses requires of course a biological background to understand the usefulness of results."
   ]
  },
  {
   "cell_type": "code",
   "execution_count": null,
   "metadata": {},
   "outputs": [],
   "source": [
    "healthy_table[ healthy_table['Adjusted P-value']<0.01 ]"
   ]
  },
  {
   "cell_type": "markdown",
   "metadata": {},
   "source": [
    "In the azoospermic patient most of the enrichment terms are related to ribosomal genes and therefore to processes such as rRNA binding. There isn't much information to get out of this table"
   ]
  },
  {
   "cell_type": "code",
   "execution_count": null,
   "metadata": {},
   "outputs": [],
   "source": [
    "azoos_table = enrich_results['azoospermic'].results"
   ]
  },
  {
   "cell_type": "code",
   "execution_count": null,
   "metadata": {},
   "outputs": [],
   "source": [
    "azoos_table.head() #table preview"
   ]
  },
  {
   "cell_type": "code",
   "execution_count": null,
   "metadata": {},
   "outputs": [],
   "source": [
    "azoos_table[ azoos_table['Adjusted P-value']<0.01 ]"
   ]
  },
  {
   "cell_type": "markdown",
   "metadata": {},
   "source": [
    "## Wrapping up"
   ]
  },
  {
   "cell_type": "markdown",
   "metadata": {},
   "source": [
    "We have performed a basic analysis of one dataset against the other, and seen how we can find a lot of relevant information about how azoospermic patients are characterized in terms of absence of specific genes and enrichment terms. Note that gene enrichment can be applied in any type of analysis, and this application is just a specific showcase."
   ]
  }
 ],
 "metadata": {
  "kernelspec": {
   "display_name": "Python 3 (ipykernel)",
   "language": "python",
   "name": "python3"
  },
  "language_info": {
   "codemirror_mode": {
    "name": "ipython",
    "version": 3
   },
   "file_extension": ".py",
   "mimetype": "text/x-python",
   "name": "python",
   "nbconvert_exporter": "python",
   "pygments_lexer": "ipython3"
  }
 },
 "nbformat": 4,
 "nbformat_minor": 2
}
