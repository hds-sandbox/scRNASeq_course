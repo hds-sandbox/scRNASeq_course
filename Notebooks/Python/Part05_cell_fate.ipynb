{
 "cells": [
  {
   "cell_type": "markdown",
   "metadata": {},
   "source": [
    "# **Pseudotimes and cell fates**\n",
    "\n",
    "---------------------------\n",
    "\n",
    "**Motivation:**\n",
    "\n",
    "While clustering is an useful type of analysis to try giving a structure to the development of cells towards their final stage (spermatozoa), it does not give an understanding of how the development \"stretches\" from start to end. For example, a cluster can have many cells and look \"big\" on UMAP, but actually its variability in terms of gene expressions could be low. Also, a developmental process can branches towards different ends (cell fates) or developmental checkpoints (e.g. stages where damaged cells express specific genes for apoptosis/cell death). Pseudotime and cell fates analysis can be used to hgihlight exactly those processes.\n",
    "- **Pseudotimes** assigns to each cell the value of a timeline, starting from 0 for the cells at the beginning of the development. This value is purely a reference for ordering the cells development, but pseudotimes at specific stages can be assigned to real times, using previous biological knowledge.\n",
    "- **Cell fates analysis** looks at the PCA projection of the data and the pseudotime of each data point on the PCA. From this, it tries to create a tree connecting the cells, so that the end branches of the tree are different end points or stages of the developmental process.\n",
    "\n",
    "\n",
    "![](https://raw.githubusercontent.com/hds-sandbox/scRNASeq_course/main/develop/python/img/differentiation.png)\n",
    "\n",
    "*Figure: cell fates tree on a 3D pca plot. Circles represent the middle point of each cluster. From Perredaeau et al. (2017)*\n",
    "\n",
    "---------------------------\n",
    "\n",
    "**Learning objectives:**\n",
    "- Understand and determine the pseudotimes on a single cell dataset\n",
    "- Infer cell fates and distinguish between differentiation stages or actual final developmental stages\n",
    "- Compare gene expressions along differentiation\n",
    "- Cluster genes with similar gene expression\n",
    "----------------\n",
    "**Execution time: 45 minutes**\n",
    "\n",
    "---------------"
   ]
  },
  {
   "cell_type": "markdown",
   "metadata": {},
   "source": [
    "***Import packages***"
   ]
  },
  {
   "cell_type": "code",
   "execution_count": null,
   "metadata": {},
   "outputs": [],
   "source": [
    "import scanpy as sc\n",
    "import pandas as pd\n",
    "import scvelo as scv\n",
    "import numpy as np\n",
    "import seaborn as sns\n",
    "import matplotlib.pyplot as plt\n",
    "import sklearn\n",
    "import anndata as ad"
   ]
  },
  {
   "cell_type": "code",
   "execution_count": null,
   "metadata": {},
   "outputs": [],
   "source": [
    "import rpy2.rinterface_lib.callbacks\n",
    "import logging\n",
    "\n",
    "from rpy2.robjects import pandas2ri\n",
    "import anndata2ri\n",
    "\n",
    "# Ignore R warning messages\n",
    "#Note: this can be commented out to get more verbose R output\n",
    "rpy2.rinterface_lib.callbacks.logger.setLevel(logging.ERROR)\n",
    "\n",
    "# Automatically convert rpy2 outputs to pandas dataframes\n",
    "pandas2ri.activate()\n",
    "anndata2ri.activate()\n",
    "\n",
    "#import os\n",
    "#os.environ['R_HOME'] = '../../../scrna-environment/lib/R/' #path to your R installation\n",
    "\n",
    "%load_ext rpy2.ipython"
   ]
  },
  {
   "cell_type": "code",
   "execution_count": null,
   "metadata": {},
   "outputs": [],
   "source": [
    "%%R\n",
    ".libPaths( c( \"../../../../sandbox_scRNA_testAndFeedback/scrna-environment/lib/R/library/\" ) )"
   ]
  },
  {
   "cell_type": "code",
   "execution_count": null,
   "metadata": {},
   "outputs": [],
   "source": [
    "%matplotlib inline"
   ]
  },
  {
   "cell_type": "markdown",
   "metadata": {},
   "source": [
    "***Read data***"
   ]
  },
  {
   "cell_type": "code",
   "execution_count": null,
   "metadata": {},
   "outputs": [],
   "source": [
    "sample = sc.read('../../Data/notebooks_data/sample_123.filt.norm.red.clst.2.h5ad')"
   ]
  },
  {
   "cell_type": "markdown",
   "metadata": {},
   "source": [
    "## Calculate pseudotimes and cell fates"
   ]
  },
  {
   "cell_type": "markdown",
   "metadata": {},
   "source": [
    "We want to calculate pseudotimes on the spermatogenic process. We exclude the somatic cells from."
   ]
  },
  {
   "cell_type": "code",
   "execution_count": null,
   "metadata": {},
   "outputs": [],
   "source": [
    "cellsToKeep = [ i not in ['Somatic'] for i in sample.obs['clusters_spc'] ]\n",
    "sample = sample[ cellsToKeep, : ].copy()"
   ]
  },
  {
   "cell_type": "markdown",
   "metadata": {},
   "source": [
    "we use the `python` package `palantir`"
   ]
  },
  {
   "cell_type": "code",
   "execution_count": null,
   "metadata": {},
   "outputs": [],
   "source": [
    "import palantir\n",
    "palantir.core.random.seed( a=12345 ) #define random_state (here called 'a')"
   ]
  },
  {
   "cell_type": "markdown",
   "metadata": {},
   "source": [
    "we create a table (`pandas` dataframe) with the logarithm of the corrected UMI matrix, since `palantir` needs logarithmized raw counts in input"
   ]
  },
  {
   "cell_type": "code",
   "execution_count": null,
   "metadata": {},
   "outputs": [],
   "source": [
    "palantir_data = pd.DataFrame(np.log1p(sample.layers['umi_sct'].todense()),\n",
    "                             index=sample.obs_names,\n",
    "                             columns=sample.var_names)"
   ]
  },
  {
   "cell_type": "markdown",
   "metadata": {},
   "source": [
    "Instead of letting the package calculate the PCA (without any form of datasets integration), we use our integrated PCA."
   ]
  },
  {
   "cell_type": "code",
   "execution_count": null,
   "metadata": {},
   "outputs": [],
   "source": [
    "pca_projections = pd.DataFrame( sample.obsm['X_pca'][:,0:15].copy(),\n",
    "                                index=sample.obs_names )     "
   ]
  },
  {
   "cell_type": "markdown",
   "metadata": {},
   "source": [
    "Now we will infer the pseudotimes and related cell fates. We have to provide where the differentiation process starts from. In our case, we will choose one of the cells in the cluster `SpermatogoniaA`. Then `Palantir` will assign the pseudotimes=0 to the most appropriate cell in the cluster.\n",
    "Note the option `num_waypoints=100` in the last command. This option will use a certain number of cells to build the tree from which to calculate pseudotimes and cell fates. it is suggested to use only a portion of cells from the dataset, since using all cells will make you experience the inference of many cell fates that are mostly due to noise. In other words, you will build a tree with some tiny branches that will be detected as cellular fates. "
   ]
  },
  {
   "cell_type": "code",
   "execution_count": null,
   "metadata": {},
   "outputs": [],
   "source": [
    "ORIGIN_STATE = 'SpermatogoniaA' #where to start\n",
    "sc.tl.diffmap(sample)\n",
    "diffusionMap = pd.DataFrame(sample.obsm['X_diffmap'][:,1::], \n",
    "                             index=sample.obs_names,\n",
    "                             columns = [str(i) for i in range(sample.obsm['X_diffmap'].shape[1]-1)])\n",
    "#apply palantir\n",
    "start_cell = str(sample[sample.obs['clusters_spc'] == ORIGIN_STATE].obs_names[0]) #assignment of diferentiation start\n",
    "pr_res = palantir.core.run_palantir( diffusionMap, early_cell=start_cell, num_waypoints=1000) #fate detection"
   ]
  },
  {
   "cell_type": "markdown",
   "metadata": {},
   "source": [
    "We save pseudotimes in our dataset and plot them on UMAP"
   ]
  },
  {
   "cell_type": "code",
   "execution_count": null,
   "metadata": {},
   "outputs": [],
   "source": [
    "sample.obs['pseudotime'] = pr_res.pseudotime"
   ]
  },
  {
   "cell_type": "code",
   "execution_count": null,
   "metadata": {},
   "outputs": [],
   "source": [
    "sc.pl.umap( sample, color=['clusters_spc','pseudotime'], \n",
    "           legend_loc='on data', \n",
    "           legend_fontsize=16,\n",
    "           ncols=2 )"
   ]
  },
  {
   "cell_type": "markdown",
   "metadata": {},
   "source": [
    "We can look at how pseudotimes are distributed into each cluster. It seems the variability of pseudotimes increases along spermatogenesis with some oscillations. This can mean more variability in the expression of genes in the later clusters (but does not mean that there are more genes that are expressed). Note that there are considerable overlapping in pseudotimes. This is due to the fact that pseudotimes have a spike around Pachytene-Diplotene stages."
   ]
  },
  {
   "cell_type": "code",
   "execution_count": null,
   "metadata": {},
   "outputs": [],
   "source": [
    "sc.pl.violin(sample, keys='pseudotime', groupby='clusters_spc', rotation=90,\n",
    "            order=['SpermatogoniaA', 'SpermatogoniaB', 'Leptotene', 'Zygotene', \n",
    "                   'Pachytene', 'SpermatocitesII', 'Diplotene', 'RoundSpermatids',\n",
    "                   'ElongSpermatids'])"
   ]
  },
  {
   "cell_type": "markdown",
   "metadata": {},
   "source": [
    "## Analysis of cell fates"
   ]
  },
  {
   "cell_type": "markdown",
   "metadata": {},
   "source": [
    "we can see how many fates we have. For each fate, there is the barcode of the cell best representing a differentiation stage. It seems that we have two fates"
   ]
  },
  {
   "cell_type": "code",
   "execution_count": null,
   "metadata": {},
   "outputs": [],
   "source": [
    "fates = list(pr_res.branch_probs.columns)"
   ]
  },
  {
   "cell_type": "code",
   "execution_count": null,
   "metadata": {},
   "outputs": [],
   "source": [
    "fates"
   ]
  },
  {
   "cell_type": "markdown",
   "metadata": {},
   "source": [
    "We can plot them on the UMAP plot. One fate is clearly the end of spermatogenesis, where cells become elongated spermatids and spermatozoa.There is another fate, probably due to something happening during meiosis."
   ]
  },
  {
   "cell_type": "code",
   "execution_count": null,
   "metadata": {},
   "outputs": [],
   "source": [
    "f, ax = plt.subplots(1,1)\n",
    "\n",
    "sc.pl.umap( sample,\n",
    "           legend_loc='on data', \n",
    "           legend_fontsize=16, ax=ax, show=False)\n",
    "\n",
    "coordinates = sample[fates].obsm['X_umap']\n",
    "ax.plot(coordinates[:,0],coordinates[:,1],'o',markersize=12) \n",
    "for i in range(coordinates.shape[0]):\n",
    "    ax.text(coordinates[i,0]-1,coordinates[i,1]-2, f'Fate {i}')\n",
    "    ax.set_title(\"Inferred cell fates\")\n",
    "plt.show()"
   ]
  },
  {
   "cell_type": "markdown",
   "metadata": {},
   "source": [
    "We rename the fates as follows instead of using cell barcodes"
   ]
  },
  {
   "cell_type": "code",
   "execution_count": null,
   "metadata": {},
   "outputs": [],
   "source": [
    "fates = np.array( pr_res.branch_probs.columns )\n",
    "for i in range(coordinates.shape[0]):\n",
    "    fates[i] = f'Fate {i}'\n",
    "pr_res.branch_probs.columns = fates    "
   ]
  },
  {
   "cell_type": "markdown",
   "metadata": {},
   "source": [
    "We save in our data the probability that each cell differentiate into one of the fates"
   ]
  },
  {
   "cell_type": "code",
   "execution_count": null,
   "metadata": {},
   "outputs": [],
   "source": [
    "for i in pr_res.branch_probs.columns:\n",
    "    sample.obs[f'branch_prob_{i}'] = pr_res.branch_probs[i]"
   ]
  },
  {
   "cell_type": "markdown",
   "metadata": {},
   "source": [
    "### Recognizing branchings or developmental stages"
   ]
  },
  {
   "cell_type": "markdown",
   "metadata": {},
   "source": [
    "A good practice is to look at the probabilities of ending in a fate for each cluster. If there are really intermediate fates (branchings of the developmental process), then only some of the cells should end up to that fate. If a fate is just a stage of the spermatogenesis and not a separate branch, then we should see cells before that point all associated with one fate, and the other cells all associated with other fates. That is exactly what happens here.  "
   ]
  },
  {
   "cell_type": "code",
   "execution_count": null,
   "metadata": {},
   "outputs": [],
   "source": [
    "for i in range(coordinates.shape[0]):\n",
    "    x = sc.pl.violin(sample, groupby='clusters_spc', keys=f'branch_prob_Fate {i}', rotation=90,\n",
    "            order=['SpermatogoniaA', 'SpermatogoniaB', 'Leptotene', 'Zygotene', \n",
    "                   'Pachytene', 'Diplotene', 'SpermatocitesII', 'RoundSpermatids',\n",
    "                   'ElongSpermatids'])\n"
   ]
  },
  {
   "cell_type": "markdown",
   "metadata": {},
   "source": [
    "### Exploring gene expression and clusters"
   ]
  },
  {
   "cell_type": "markdown",
   "metadata": {},
   "source": [
    "Here there is a script that plots genes expressions of your choice along pseudotimes. This allows you to see how specific genes behave differently for different fates. Expressions are modeled using the fate probabilities we plotted above. Plotting the gene patterns for different fates is more useful when there are actual branchings involved."
   ]
  },
  {
   "cell_type": "code",
   "execution_count": null,
   "metadata": {},
   "outputs": [],
   "source": [
    "import palantir"
   ]
  },
  {
   "cell_type": "code",
   "execution_count": null,
   "metadata": {},
   "outputs": [],
   "source": [
    "GENES = ['PIWIL1','PIWIL2','PIWIL3']\n",
    "#GENES = np.intersect1d(GENES, sample.var_names)\n",
    "NGENES = len(GENES)\n",
    "CLUSTERS = sample.obs['clusters_spc']\n",
    "PSEUDOTIMES = sample.obs['pseudotime']\n",
    "gene_trends = palantir.presults.compute_gene_trends(pr_res, \n",
    "                                                    pd.DataFrame(sample.layers['norm_sct'], \n",
    "                                                    index=sample.obs_names,\n",
    "                                                    columns=sample.var_names).loc[:, GENES] \n",
    "                                                   )\n",
    "\n",
    "plt.rcParams['figure.figsize']=(12,4*int(NGENES))\n",
    "fig, ax = plt.subplots(NGENES,1)\n",
    "\n",
    "c = CLUSTERS\n",
    "x = PSEUDOTIMES\n",
    "\n",
    "\n",
    "if(NGENES==1):\n",
    "    x2 = []\n",
    "    t = []\n",
    "    style = []\n",
    "    for FATE in list(gene_trends.keys()):\n",
    "        ARRAY = np.array( gene_trends[FATE]['trends'].loc[GENES[0],:].index )\n",
    "        for i in ARRAY:\n",
    "            idx = np.argmin(np.abs(x - i))\n",
    "            x2.append(c[idx])\n",
    "            t.append(i)\n",
    "        if(len(style)==0):\n",
    "            style = np.tile( FATE, 500 )\n",
    "            y = np.array(gene_trends[FATE]['trends'].loc[GENES[0],:])\n",
    "        else:\n",
    "            style = np.append(arr=style, \n",
    "                      values=np.tile( FATE, 500 ))\n",
    "            y = np.append(arr=y, \n",
    "                      values=np.array(gene_trends[FATE]['trends'].loc[GENES[0],:]))\n",
    "        \n",
    "    sns.lineplot(x=t,\n",
    "             y=y, ci=False, \n",
    "             hue=x2, ax=ax, style = style,\n",
    "             linewidth = 5)\n",
    "    ax.legend(bbox_to_anchor=(1.05, 1), loc=2, borderaxespad=0.)\n",
    "    ax.set(xlabel = 'Pseudotime', ylabel=GENES[0])  \n",
    "    \n",
    "if(NGENES>1):      \n",
    "    for GENE_NR in range(NGENES):\n",
    "        style = []\n",
    "        x2 = []\n",
    "        t = []\n",
    "        for FATE in list(gene_trends.keys()):\n",
    "            ARRAY = np.array( gene_trends[FATE]['trends'].loc[GENES[GENE_NR],:].index )\n",
    "            for i in ARRAY:\n",
    "                idx = np.argmin(np.abs(x - i))\n",
    "                x2.append(c[idx])\n",
    "                t.append(i)\n",
    "            if(len(style)==0):\n",
    "                style = np.tile( FATE, 500 )\n",
    "                y = np.array(gene_trends[FATE]['trends'].loc[GENES[GENE_NR],:])\n",
    "            else:\n",
    "                style = np.append(arr=style, \n",
    "                              values=np.tile( FATE, 500 ))\n",
    "                y = np.append(arr=y, \n",
    "                              values=np.array(gene_trends[FATE]['trends'].loc[GENES[GENE_NR],:]))\n",
    "        sns.lineplot(x=t,\n",
    "                             y=y, ci=False, \n",
    "                             hue=x2, ax=ax[GENE_NR],\n",
    "                             style = style, linewidth = 5, legend=GENE_NR==0)\n",
    "        ax[GENE_NR].set(ylabel = GENES[GENE_NR])\n",
    "        if(GENE_NR==0):\n",
    "            ax[0].legend(bbox_to_anchor=(1.05, 1), loc=2, borderaxespad=0.)\n",
    "            ax[0].set_title(f'Gene expression along the fates:\\n{list(gene_trends.keys())}')\n",
    "    ax[GENE_NR].set(xlabel = 'Pseudotime')   \n",
    "\n",
    "plt.rcParams['figure.figsize']=(6,6)"
   ]
  },
  {
   "cell_type": "markdown",
   "metadata": {},
   "source": [
    "**Gene clustering:**\n",
    "A last thing you can do is to cluster together genes that have the same expression patterns. We can try to do this for each different fate. Here you can only look at one fate at a time"
   ]
  },
  {
   "cell_type": "markdown",
   "metadata": {},
   "source": [
    "For making the clustering faster, we cluster together only the differentially expressed genes we found in the previous analysis. However, below you can define the variable `genes` as any list of genes. You can for example read them from a text file, or you can use all possible genes by writing `genes=list(sample.var_names)`"
   ]
  },
  {
   "cell_type": "code",
   "execution_count": null,
   "metadata": {},
   "outputs": [],
   "source": [
    "genes = []\n",
    "for names in sample.uns['DE_clusters_spc']['names']:\n",
    "    genes.append( list( names ) )"
   ]
  },
  {
   "cell_type": "code",
   "execution_count": null,
   "metadata": {},
   "outputs": [],
   "source": [
    "genes = np.unique(np.ravel(genes))"
   ]
  },
  {
   "cell_type": "markdown",
   "metadata": {},
   "source": [
    "model the gene expression along pseudotime"
   ]
  },
  {
   "cell_type": "code",
   "execution_count": null,
   "metadata": {},
   "outputs": [],
   "source": [
    "gene_trends = palantir.presults.compute_gene_trends( pr_res, \n",
    "                                         pd.DataFrame(sample[ :, genes ].layers['norm_sct'], \n",
    "                                         index=sample[ :, genes ].obs_names,\n",
    "                                         columns=sample[ :, genes ].var_names) )"
   ]
  },
  {
   "cell_type": "markdown",
   "metadata": {},
   "source": [
    "cluster the expressions together and plot clusters. If you see that there should be more clusters than the algorithm calculates, you can try to increase their number by changing the value of `k=20`. Usually, you should see a lot of genes expressed (in gray colour) differently from their averaged expression (in blue colour)"
   ]
  },
  {
   "cell_type": "code",
   "execution_count": null,
   "metadata": {},
   "outputs": [],
   "source": [
    "trends = gene_trends['Fate 0']['trends']\n",
    "gene_clusters = palantir.presults.cluster_gene_trends(trends, k=20)"
   ]
  },
  {
   "cell_type": "code",
   "execution_count": null,
   "metadata": {},
   "outputs": [],
   "source": [
    "palantir.plot.plot_gene_trend_clusters(trends, gene_clusters)"
   ]
  },
  {
   "cell_type": "markdown",
   "metadata": {},
   "source": [
    "Here there is a script to produce the plot of the averaged expression of each gene cluster coloured by cell types, together with confidence bands. It takes some time to do all the plots, so be patient."
   ]
  },
  {
   "cell_type": "code",
   "execution_count": null,
   "metadata": {},
   "outputs": [],
   "source": [
    "GENE_CLST = np.array(gene_clusters)\n",
    "UNIQUE_CLST = np.sort(np.unique(GENE_CLST))\n",
    "CLST_NR = int(len(UNIQUE_CLST))\n",
    "CLUSTERS = sample.obs['clusters_spc']\n",
    "PSEUDOTIMES = sample.obs['pseudotime']\n",
    "\n",
    "plt.rcParams['figure.figsize']=(12,4*CLST_NR)\n",
    "fig, ax = plt.subplots(CLST_NR,1)\n",
    "\n",
    "c = CLUSTERS\n",
    "x = PSEUDOTIMES\n",
    "\n",
    "if(CLST_NR==1):\n",
    "    t = []\n",
    "    x2 = []\n",
    "    ARRAY = np.array( trends.columns )\n",
    "    for i in ARRAY:\n",
    "        idx = np.argmin(np.abs(x - i))\n",
    "        x2.append(c[idx])\n",
    "        t.append(i)\n",
    "    \n",
    "    x=np.tile(ARRAY,trends.loc[GENE_CLST==0,:].shape[0])\n",
    "    y=np.array(trends.loc[GENE_CLST==0,:]).ravel()\n",
    "    hue=np.tile(x2,trends.loc[GENE_CLST==0,:].shape[0])\n",
    "    ax = sns.lineplot(x=x, y=y, hue=hue)\n",
    "        \n",
    "    sns.lineplot(x=x, y=y, hue=hue, \n",
    "                 ax=ax, linewidth = 5)\n",
    "    ax.legend(bbox_to_anchor=(1.05, 1), loc=2, borderaxespad=0.)\n",
    "    \n",
    "    \n",
    "if(CLST_NR>1):\n",
    "    ARRAY = np.array( trends.columns )\n",
    "    t = []\n",
    "    x2 = []\n",
    "    for i in ARRAY:\n",
    "        idx = np.argmin(np.abs(x - i))\n",
    "        x2.append(c[idx])\n",
    "        t.append(i)\n",
    "    for CLST_NR in UNIQUE_CLST:\n",
    "        x=np.tile(ARRAY,trends.loc[GENE_CLST==CLST_NR,:].shape[0])\n",
    "        y=np.array(trends.loc[GENE_CLST==CLST_NR,:]).ravel()\n",
    "        hue=np.tile(x2,trends.loc[GENE_CLST==CLST_NR,:].shape[0])\n",
    "        \n",
    "        sns.lineplot(x=x, y=y, hue=hue,\n",
    "                 ax=ax[CLST_NR], linewidth = 5, legend=CLST_NR==0)\n",
    "        ax[CLST_NR].set(ylabel = f'Cluster {CLST_NR}')\n",
    "        if(CLST_NR==0):\n",
    "            ax[CLST_NR].legend(bbox_to_anchor=(1.05, 1), loc=2, borderaxespad=0.)\n",
    "            ax[CLST_NR].set_title('Gene expression clustering for cell fate 0')\n",
    "    ax[CLST_NR].set(xlabel = 'Pseudotime')\n",
    "        \n",
    "plt.rcParams['figure.figsize']=(6,6)"
   ]
  },
  {
   "cell_type": "markdown",
   "metadata": {},
   "source": [
    "you can always look at the genes in a specific cluster. In this case, each cluster should be quite matching the differentially expressed genes for a cell type, since we grouped together differentially expressed genes"
   ]
  },
  {
   "cell_type": "code",
   "execution_count": null,
   "metadata": {},
   "outputs": [],
   "source": [
    "gene_clusters[gene_clusters==5]"
   ]
  },
  {
   "cell_type": "markdown",
   "metadata": {},
   "source": [
    "We also want to save the dataset (including somatic cells) with pseudotimes. To do this we reopen the whole dataset and assign pseudotimes equal to 0 to the somatic cell."
   ]
  },
  {
   "cell_type": "code",
   "execution_count": null,
   "metadata": {},
   "outputs": [],
   "source": [
    "whole_sample = sc.read('../../Data/notebooks_data/sample_123.filt.norm.red.clst.2.h5ad')"
   ]
  },
  {
   "cell_type": "code",
   "execution_count": null,
   "metadata": {},
   "outputs": [],
   "source": [
    "times = pd.Series(sample.obs['pseudotime'], index=sample.obs_names)\n",
    "whole_times = pd.Series(index=whole_sample.obs_names)\n",
    "names = sample.obs_names\n",
    "whole_names = whole_sample.obs_names\n",
    "whole_times = [ times[i] if i in names else 0 for i in whole_names ]"
   ]
  },
  {
   "cell_type": "code",
   "execution_count": null,
   "metadata": {},
   "outputs": [],
   "source": [
    "whole_sample.obs['pseudotimes'] = whole_times"
   ]
  },
  {
   "cell_type": "code",
   "execution_count": null,
   "metadata": {},
   "outputs": [],
   "source": [
    "whole_sample.write('../../Data/notebooks_data/sample_123.filt.norm.red.clst.2.times.h5ad')"
   ]
  },
  {
   "cell_type": "markdown",
   "metadata": {},
   "source": [
    "## Wrapping up"
   ]
  },
  {
   "cell_type": "markdown",
   "metadata": {},
   "source": [
    "This notebooks shows how to do pseudotimes analysis and exploring cell fates and gene expressions.\n",
    "We have seen how to distinguish between an actual differentiation branch and a differentiation stage. Basically, all cells before (i.e. earlier in pseudotime) a differentiation stage will be associated to such stage with high probability, because they must go through that developmental stage. Finding a developmental stage around meiosis in spermatogenic samples is a common results across single cell datasets of many species (primates, humans, mice).\n",
    "Using the `palantir` software, we can look at differences between gene expressions for different fates, and cluster together genes of interest for further analysis."
   ]
  }
 ],
 "metadata": {
  "kernelspec": {
   "display_name": "Python (scRNA)",
   "language": "python",
   "name": "scrna-environment"
  },
  "language_info": {
   "codemirror_mode": {
    "name": "ipython",
    "version": 3
   },
   "file_extension": ".py",
   "mimetype": "text/x-python",
   "name": "python",
   "nbconvert_exporter": "python",
   "pygments_lexer": "ipython3"
  }
 },
 "nbformat": 4,
 "nbformat_minor": 4
}
