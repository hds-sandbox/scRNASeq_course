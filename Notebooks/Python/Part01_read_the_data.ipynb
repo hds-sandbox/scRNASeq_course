{
 "cells": [
  {
   "cell_type": "markdown",
   "id": "f7a9308c",
   "metadata": {},
   "source": [
    "# **Read the data**\n",
    "\n",
    "---------------------------\n",
    "\n",
    "## Learning objectives:\n",
    "- Get an overview of the `scanpy` package and the `python` language syntax\n",
    "- Learn and explore the data structure containing a single cell dataset\n",
    "- Understand and apply basic interactions with the transcript matrix and the components of a dataset\n",
    "----------------\n",
    "**Execution time: 30-60 minutes**"
   ]
  },
  {
   "cell_type": "markdown",
   "id": "35e8fd8e",
   "metadata": {},
   "source": [
    "------------------------------------"
   ]
  },
  {
   "cell_type": "markdown",
   "id": "2e59bf32",
   "metadata": {},
   "source": [
    "## Import the packages\n",
    "We will use `scanpy` as the main analysis tool for the analysis, where we will also apply some other packages. Scanpy has a comprehensive [manual webpage](https://scanpy.readthedocs.io/en/stable/) that includes many different tutorial you can use for further practicing. Packages are imported with the command `import`, and their name is shortened with the command `as`, so that we can write shorter names in our code\n",
    "\n",
    "An alternative and well-established tool for `R` users is [Seurat](https://satijalab.org/seurat/). This is used in the `R` version of this course."
   ]
  },
  {
   "cell_type": "code",
   "execution_count": null,
   "id": "84afe9ce",
   "metadata": {},
   "outputs": [],
   "source": [
    "import scanpy as sc\n",
    "import pandas as pd\n",
    "import scvelo as scv\n",
    "import numpy as np\n",
    "import seaborn as sns\n",
    "import matplotlib.pyplot as plt\n",
    "import sklearn"
   ]
  },
  {
   "cell_type": "markdown",
   "id": "f6ff7092",
   "metadata": {},
   "source": [
    "Commands from scanpy are under different categories: preprocessing (pp), tools (tl), plotting (pl). Each category contains some functions to work on single cell data. Scanpy has also a category called `external`, where a few external packages have been integrated to work with scanpy. Use the `help()` command to see what a command does in `python`"
   ]
  },
  {
   "cell_type": "code",
   "execution_count": null,
   "id": "6e0c9b44",
   "metadata": {},
   "outputs": [],
   "source": [
    "help(sc.preprocessing.calculate_qc_metrics)"
   ]
  },
  {
   "cell_type": "markdown",
   "id": "b1bc92ac",
   "metadata": {},
   "source": [
    "## Loading and understanding the dataset structure\n",
    "\n",
    "Data can be loaded from many different possible formats. Each format has a dedicated reading command, for example `read_h5ad`, `read_10X_mtx`, `read_txt`. We are going to use `read_10X_mtx` to load the output of the 10X software that produces the aligned data. \n",
    "\n",
    "Note the option `cache=True`. If you are going to read again the same data, it will be loaded extremely fast, because it has been stored in a convenient format for large datasets (`h5ad` format)"
   ]
  },
  {
   "cell_type": "code",
   "execution_count": null,
   "id": "afa55f45",
   "metadata": {},
   "outputs": [],
   "source": [
    "sample_2 = sc.read_10x_mtx('../../../../sandbox_scRNA_testAndFeedback/scRNASeq_course/Data/cellranger_sample2/outs/filtered_feature_bc_matrix/', cache=True)"
   ]
  },
  {
   "cell_type": "code",
   "execution_count": null,
   "id": "94b584e3",
   "metadata": {},
   "outputs": [],
   "source": [
    "sample_3 = sc.read_10x_mtx('../../../../sandbox_scRNA_testAndFeedback/scRNASeq_course/Data/cellranger_sample3/outs/filtered_feature_bc_matrix/', cache=True)"
   ]
  },
  {
   "cell_type": "markdown",
   "id": "2fce61c8",
   "metadata": {},
   "source": [
    "The datasets `sample_2` and `sample_3` are now created. They are so-called [`Annotated datasets`](https://anndata.readthedocs.io/en/latest/). Each annotated dataset contains:\n",
    "\n",
    "\n",
    "*   The data matrix `X` of size $N\\_cells \\times N\\_genes$\n",
    "*   Vectors of cells-related quantities in the table `.obs`(for example, how many transcripts there are in each cell)\n",
    "* Vectors of genes-related quantities in the table `.var` (for example, in how many cells the each gene is detected)\n",
    "* Matrices of size $N\\_cells \\times N\\_genes$ in `.layers` (for example, normalized data matrix, imputed data matrix, ....)\n",
    "\n",
    "We will often call the cells for observations (obs) and the genes for variables (var) when it is practical in relation to the annotated dataset\n",
    "\n",
    "During the analysis we will encounter other components of the annotated datasets. They will be explained when it is necessary, so you might want to skip this explanation if you want.\n",
    "\n",
    "* Matrices where each line is cell-related in `.obsm` (for example, the PCA coordinates of each cell)\n",
    "* Matrices where each line is gene-related in `.varm` (for example, mean of the gene in each cell type)\n",
    "* Anything else useful is in `.uns`\n",
    "\n",
    "![](https://anndata.readthedocs.io/en/latest/_images/anndata_schema.svg)\n",
    "\n",
    "**Above:** a representation of the data matrix, variable and observations in an annotated dataset.  "
   ]
  },
  {
   "cell_type": "markdown",
   "id": "a2f15336",
   "metadata": {},
   "source": [
    "Each component of the annotated dataset is called by using a `dot`. For example, we can see the data matrix by"
   ]
  },
  {
   "cell_type": "code",
   "execution_count": null,
   "id": "6857c238",
   "metadata": {},
   "outputs": [],
   "source": [
    "sample_2.X"
   ]
  },
  {
   "cell_type": "markdown",
   "id": "52a3a8a2",
   "metadata": {},
   "source": [
    "The matrix is in compressed format. We can reassign it as a dense matrix, so that we can see what it contains."
   ]
  },
  {
   "cell_type": "code",
   "execution_count": null,
   "id": "bd8587d0",
   "metadata": {},
   "outputs": [],
   "source": [
    "sample_2.X = np.array( sample_2.X.todense() )"
   ]
  },
  {
   "cell_type": "code",
   "execution_count": null,
   "id": "db9e9b06",
   "metadata": {},
   "outputs": [],
   "source": [
    "sample_2.X"
   ]
  },
  {
   "cell_type": "code",
   "execution_count": null,
   "id": "88941832",
   "metadata": {},
   "outputs": [],
   "source": [
    "sample_3.X = np.array( sample_3.X.todense() )"
   ]
  },
  {
   "cell_type": "code",
   "execution_count": null,
   "id": "0b85ec8d",
   "metadata": {},
   "outputs": [],
   "source": [
    "sample_3.X"
   ]
  },
  {
   "cell_type": "markdown",
   "id": "93dc8487",
   "metadata": {},
   "source": [
    "When the matrix is no longer compressed, we can calculate some statistics for both cells and genes with the following `scanpy` command. Note that all scanpy commands follow a similar format. The two commands used below are the same, but in the second we used the short form for the `preprocessing` category."
   ]
  },
  {
   "cell_type": "code",
   "execution_count": null,
   "id": "6277c124",
   "metadata": {},
   "outputs": [],
   "source": [
    "sc.preprocessing.calculate_qc_metrics(sample_2, inplace=True)\n",
    "sc.pp.calculate_qc_metrics(sample_3, inplace=True)"
   ]
  },
  {
   "cell_type": "markdown",
   "id": "5aa4cdb0",
   "metadata": {},
   "source": [
    "We can see that `obs` and `var` now contains a lot of different values whose names, that are mostly self-explicative. For example\n",
    "- `n_genes_by_counts` is the number of detected genes in each cell\n",
    "- `total_counts` is the number of transcripts in each cell\n",
    "- `mean_counts` is the average of counts of each gene across all cells"
   ]
  },
  {
   "cell_type": "code",
   "execution_count": null,
   "id": "0651b6aa",
   "metadata": {},
   "outputs": [],
   "source": [
    "sample_2"
   ]
  },
  {
   "cell_type": "markdown",
   "id": "d1e2e5b0",
   "metadata": {},
   "source": [
    "You can access directly all observations/variables or some of them specifically. Each observation line is named with the cell barcode, while variables have gene names in each line"
   ]
  },
  {
   "cell_type": "code",
   "execution_count": null,
   "id": "1a89917b",
   "metadata": {},
   "outputs": [],
   "source": [
    "sample_2.obs"
   ]
  },
  {
   "cell_type": "code",
   "execution_count": null,
   "id": "5975fee5",
   "metadata": {},
   "outputs": [],
   "source": [
    "sample_2.obs[ ['total_counts','n_genes_by_counts'] ]"
   ]
  },
  {
   "cell_type": "code",
   "execution_count": null,
   "id": "a11547a2",
   "metadata": {},
   "outputs": [],
   "source": [
    "sample_2.var"
   ]
  },
  {
   "cell_type": "markdown",
   "id": "411bf9b4",
   "metadata": {},
   "source": [
    "We store the matrix `X` to save the raw values. We will be able to see it in `layers`, independently of how we transform the matrix `X`"
   ]
  },
  {
   "cell_type": "code",
   "execution_count": null,
   "id": "0e46b88e",
   "metadata": {},
   "outputs": [],
   "source": [
    "sample_2.layers[ 'umi_raw' ] = sample_2.X.copy()"
   ]
  },
  {
   "cell_type": "code",
   "execution_count": null,
   "id": "d2619f5a",
   "metadata": {},
   "outputs": [],
   "source": [
    "sample_3.layers[ 'umi_raw' ] = sample_3.X.copy()"
   ]
  },
  {
   "cell_type": "markdown",
   "id": "ceaec029",
   "metadata": {},
   "source": [
    "We can see that the matrix is stored in `.layers['umi_raw']`, and we can reassign it to `.X` or use it if needed in some future analysis"
   ]
  },
  {
   "cell_type": "code",
   "execution_count": null,
   "id": "b50eb867",
   "metadata": {},
   "outputs": [],
   "source": [
    "sample_2"
   ]
  },
  {
   "cell_type": "code",
   "execution_count": null,
   "id": "c6f983cf",
   "metadata": {},
   "outputs": [],
   "source": [
    "sample_2.layers['umi_raw']"
   ]
  },
  {
   "cell_type": "markdown",
   "id": "3b1df7d6",
   "metadata": {},
   "source": [
    "You can always subset a dataset by using a selection of cells and genes, and assign it as a new dataset (or to itself if you want to filter out some cells or genes)"
   ]
  },
  {
   "cell_type": "markdown",
   "id": "3ac5c49d",
   "metadata": {},
   "source": [
    "An annotated dataset can be subsetted by cells, for example using a quality measure as the number of transcripts per cell"
   ]
  },
  {
   "cell_type": "code",
   "execution_count": null,
   "id": "89d2cf4b",
   "metadata": {},
   "outputs": [],
   "source": [
    "sample_2_qc = sample_2[ sample_2.obs['total_counts']<10000, : ].copy()"
   ]
  },
  {
   "cell_type": "code",
   "execution_count": null,
   "id": "0cc257be",
   "metadata": {},
   "outputs": [],
   "source": [
    "sample_2_qc"
   ]
  },
  {
   "cell_type": "markdown",
   "id": "45b80cf8",
   "metadata": {},
   "source": [
    "In a similar way, you can use values calculated on the genes to subset the data by genes, for example in how many cells each gene is detected"
   ]
  },
  {
   "cell_type": "code",
   "execution_count": null,
   "id": "ddc77d14",
   "metadata": {},
   "outputs": [],
   "source": [
    "sample_2_qc = sample_2[ :, sample_2.var['n_cells_by_counts']>3 ].copy()"
   ]
  },
  {
   "cell_type": "code",
   "execution_count": null,
   "id": "dd8da24a",
   "metadata": {},
   "outputs": [],
   "source": [
    "sample_2_qc"
   ]
  },
  {
   "cell_type": "markdown",
   "id": "9d7d1d56",
   "metadata": {},
   "source": [
    "Note how `sample_2_qc` has first a reduced number of cells and then a reduced number of genes."
   ]
  },
  {
   "cell_type": "markdown",
   "id": "7d2b0cff",
   "metadata": {},
   "source": [
    "Remember that you cannot subset at the same time by cells and genes, for example\n",
    "```\n",
    "sample_2[ sample_2.obs['total_counts']<10000, sample_2.var['mean_counts']>1 ]\n",
    "```\n",
    "but those two steps have to be done separately as shown before."
   ]
  },
  {
   "cell_type": "markdown",
   "id": "f1d60d22",
   "metadata": {},
   "source": [
    "The annotated datasets can be easily saved by using `write`. The format to be used in the file name is `h5ad`."
   ]
  },
  {
   "cell_type": "code",
   "execution_count": null,
   "id": "07ebb790-4042-4706-8b5a-80c95ae8bffa",
   "metadata": {},
   "outputs": [],
   "source": [
    "!mkdir -p ../../Data/notebooks_data"
   ]
  },
  {
   "cell_type": "code",
   "execution_count": null,
   "id": "2c2f2dba",
   "metadata": {},
   "outputs": [],
   "source": [
    "sample_2.write('../../Data/notebooks_data/sample_2.h5ad')"
   ]
  },
  {
   "cell_type": "code",
   "execution_count": null,
   "id": "674c59ce",
   "metadata": {},
   "outputs": [],
   "source": [
    "sample_3.write('../../Data/notebooks_data/sample_3.h5ad')"
   ]
  }
 ],
 "metadata": {
  "kernelspec": {
   "display_name": "Python (scRNA)",
   "language": "python",
   "name": "scrna-environment"
  },
  "language_info": {
   "codemirror_mode": {
    "name": "ipython",
    "version": 3
   },
   "file_extension": ".py",
   "mimetype": "text/x-python",
   "name": "python",
   "nbconvert_exporter": "python",
   "pygments_lexer": "ipython3"
  }
 },
 "nbformat": 4,
 "nbformat_minor": 5
}
