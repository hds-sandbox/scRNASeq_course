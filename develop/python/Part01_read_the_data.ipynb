{
 "cells": [
  {
   "cell_type": "markdown",
   "id": "f7a9308c",
   "metadata": {},
   "source": [
    "# **Read the data**\n",
    "\n",
    "---------------------------\n",
    "\n",
    "## Learning objectives:\n",
    "- Get an overview of the `scanpy` package and the `python` language syntax\n",
    "- Learn and explore the data structure containing a single cell dataset\n",
    "- Understand and apply basic interactions with the transcript matrix and the components of a dataset\n",
    "----------------\n",
    "**Execution time: 30-60 minutes**"
   ]
  },
  {
   "cell_type": "markdown",
   "id": "35e8fd8e",
   "metadata": {},
   "source": [
    "------------------------------------"
   ]
  },
  {
   "cell_type": "markdown",
   "id": "2e59bf32",
   "metadata": {},
   "source": [
    "## Import the packages\n",
    "We will use `scanpy` as the main analysis tool for the analysis, where we will also apply some other packages. Scanpy has a comprehensive [manual webpage](https://scanpy.readthedocs.io/en/stable/) that includes many different tutorial you can use for further practicing. Packages are imported with the command `import`, and their name is shortened with the command `as`, so that we can write shorter names in our code\n",
    "\n",
    "An alternative and well-established tool for `R` users is [Seurat](https://satijalab.org/seurat/). This is used in the `R` version of this course."
   ]
  },
  {
   "cell_type": "code",
   "execution_count": 2,
   "id": "84afe9ce",
   "metadata": {
    "execution": {
     "iopub.execute_input": "2022-02-22T21:43:19.517909Z",
     "iopub.status.busy": "2022-02-22T21:43:19.517480Z",
     "iopub.status.idle": "2022-02-22T21:45:21.559553Z",
     "shell.execute_reply": "2022-02-22T21:45:21.558342Z",
     "shell.execute_reply.started": "2022-02-22T21:43:19.517869Z"
    },
    "tags": []
   },
   "outputs": [],
   "source": [
    "import scanpy as sc\n",
    "import pandas as pd\n",
    "import scvelo as scv\n",
    "import numpy as np\n",
    "import seaborn as sns\n",
    "import matplotlib.pyplot as plt\n",
    "import sklearn"
   ]
  },
  {
   "cell_type": "markdown",
   "id": "f6ff7092",
   "metadata": {},
   "source": [
    "Commands from scanpy are under different categories: preprocessing (pp), tools (tl), plotting (pl). Each category contains some functions to work on single cell data. Scanpy has also a category called `external`, where a few external packages have been integrated to work with scanpy. Use the `help()` command to see what a command does in `python`"
   ]
  },
  {
   "cell_type": "code",
   "execution_count": 3,
   "id": "6e0c9b44",
   "metadata": {
    "execution": {
     "iopub.execute_input": "2022-02-22T21:45:21.562449Z",
     "iopub.status.busy": "2022-02-22T21:45:21.561968Z",
     "iopub.status.idle": "2022-02-22T21:45:21.569581Z",
     "shell.execute_reply": "2022-02-22T21:45:21.568749Z",
     "shell.execute_reply.started": "2022-02-22T21:45:21.562403Z"
    },
    "tags": []
   },
   "outputs": [
    {
     "name": "stdout",
     "output_type": "stream",
     "text": [
      "Help on function calculate_qc_metrics in module scanpy.preprocessing._qc:\n",
      "\n",
      "calculate_qc_metrics(adata: anndata._core.anndata.AnnData, *, expr_type: str = 'counts', var_type: str = 'genes', qc_vars: Collection[str] = (), percent_top: Union[Collection[int], NoneType] = (50, 100, 200, 500), layer: Union[str, NoneType] = None, use_raw: bool = False, inplace: bool = False, log1p: bool = True, parallel: Union[bool, NoneType] = None) -> Union[Tuple[pandas.core.frame.DataFrame, pandas.core.frame.DataFrame], NoneType]\n",
      "    Calculate quality control metrics.\n",
      "    \n",
      "    Calculates a number of qc metrics for an AnnData object, see section\n",
      "    `Returns` for specifics. Largely based on `calculateQCMetrics` from scater\n",
      "    [McCarthy17]_. Currently is most efficient on a sparse CSR or dense matrix.\n",
      "    \n",
      "    Note that this method can take a while to compile on the first call. That\n",
      "    result is then cached to disk to be used later.\n",
      "    \n",
      "    Parameters\n",
      "    ----------\n",
      "    adata\n",
      "        Annotated data matrix.\n",
      "    expr_type\n",
      "        Name of kind of values in X.\n",
      "    var_type\n",
      "        The kind of thing the variables are.\n",
      "    qc_vars\n",
      "        Keys for boolean columns of `.var` which identify variables you could\n",
      "        want to control for (e.g. \"ERCC\" or \"mito\").\n",
      "    percent_top\n",
      "        Which proportions of top genes to cover. If empty or `None` don't\n",
      "        calculate. Values are considered 1-indexed, `percent_top=[50]` finds\n",
      "        cumulative proportion to the 50th most expressed gene.\n",
      "    layer\n",
      "        If provided, use `adata.layers[layer]` for expression values instead\n",
      "        of `adata.X`.\n",
      "    use_raw\n",
      "        If True, use `adata.raw.X` for expression values instead of `adata.X`.\n",
      "    inplace\n",
      "        Whether to place calculated metrics in `adata`'s `.obs` and `.var`.\n",
      "    log1p\n",
      "        Set to `False` to skip computing `log1p` transformed annotations.\n",
      "    \n",
      "    Returns\n",
      "    -------\n",
      "    Depending on `inplace` returns calculated metrics\n",
      "    (as :class:`~pandas.DataFrame`) or updates `adata`'s `obs` and `var`.\n",
      "    \n",
      "    Observation level metrics include:\n",
      "    \n",
      "    `total_{var_type}_by_{expr_type}`\n",
      "        E.g. \"total_genes_by_counts\". Number of genes with positive counts in a cell.\n",
      "    `total_{expr_type}`\n",
      "        E.g. \"total_counts\". Total number of counts for a cell.\n",
      "    `pct_{expr_type}_in_top_{n}_{var_type}` – for `n` in `percent_top`\n",
      "        E.g. \"pct_counts_in_top_50_genes\". Cumulative percentage of counts\n",
      "        for 50 most expressed genes in a cell.\n",
      "    `total_{expr_type}_{qc_var}` – for `qc_var` in `qc_vars`\n",
      "        E.g. \"total_counts_mito\". Total number of counts for variabes in\n",
      "        `qc_vars`.\n",
      "    `pct_{expr_type}_{qc_var}` – for `qc_var` in `qc_vars`\n",
      "        E.g. \"pct_counts_mito\". Proportion of total counts for a cell which\n",
      "        are mitochondrial.\n",
      "    \n",
      "    Variable level metrics include:\n",
      "    \n",
      "    `total_{expr_type}`\n",
      "        E.g. \"total_counts\". Sum of counts for a gene.\n",
      "    `n_genes_by_{expr_type}`\n",
      "        E.g. \"n_genes_by_counts\". The number of genes with at least 1 count in a cell. Calculated for all cells.\n",
      "    `mean_{expr_type}`\n",
      "        E.g. \"mean_counts\". Mean expression over all cells.\n",
      "    `n_cells_by_{expr_type}`\n",
      "        E.g. \"n_cells_by_counts\". Number of cells this expression is\n",
      "        measured in.\n",
      "    `pct_dropout_by_{expr_type}`\n",
      "        E.g. \"pct_dropout_by_counts\". Percentage of cells this feature does\n",
      "        not appear in.\n",
      "    \n",
      "    Example\n",
      "    -------\n",
      "    Calculate qc metrics for visualization.\n",
      "    \n",
      "    .. plot::\n",
      "        :context: close-figs\n",
      "    \n",
      "        import scanpy as sc\n",
      "        import seaborn as sns\n",
      "    \n",
      "        pbmc = sc.datasets.pbmc3k()\n",
      "        pbmc.var[\"mito\"] = pbmc.var_names.str.startswith(\"MT-\")\n",
      "        sc.pp.calculate_qc_metrics(pbmc, qc_vars=[\"mito\"], inplace=True)\n",
      "        sns.jointplot(\n",
      "            data=pbmc.obs,\n",
      "            x=\"log1p_total_counts\",\n",
      "            y=\"log1p_n_genes_by_counts\",\n",
      "            kind=\"hex\",\n",
      "        )\n",
      "    \n",
      "    .. plot::\n",
      "        :context: close-figs\n",
      "    \n",
      "        sns.histplot(pbmc.obs[\"pct_counts_mito\"])\n",
      "\n"
     ]
    }
   ],
   "source": [
    "help(sc.preprocessing.calculate_qc_metrics)"
   ]
  },
  {
   "cell_type": "markdown",
   "id": "b1bc92ac",
   "metadata": {
    "tags": []
   },
   "source": [
    "## Loading and understanding the dataset structure\n",
    "\n",
    "Data can be loaded from many different possible formats. Each format has a dedicated reading command, for example `read_h5ad`, `read_10X_mtx`, `read_txt`. We are going to use `read_10X_mtx` to load the output of the 10X software that produces the aligned data. \n",
    "\n",
    "Note the option `cache=True`. If you are going to read again the same data, it will be loaded extremely fast, because it has been stored in a convenient format for large datasets (`h5ad` format)"
   ]
  },
  {
   "cell_type": "code",
   "execution_count": 17,
   "id": "afa55f45",
   "metadata": {
    "execution": {
     "iopub.execute_input": "2022-02-22T21:53:50.224247Z",
     "iopub.status.busy": "2022-02-22T21:53:50.223806Z",
     "iopub.status.idle": "2022-02-22T21:54:42.773238Z",
     "shell.execute_reply": "2022-02-22T21:54:42.771951Z",
     "shell.execute_reply.started": "2022-02-22T21:53:50.224208Z"
    },
    "tags": []
   },
   "outputs": [],
   "source": [
    "sample_2 = sc.read_10x_mtx('../../../../sandbox_scRNA_testAndFeedback/scRNASeq_course/Data/cellranger_sample2/outs/filtered_feature_bc_matrix/', cache=True)"
   ]
  },
  {
   "cell_type": "code",
   "execution_count": null,
   "id": "94b584e3",
   "metadata": {
    "tags": []
   },
   "outputs": [],
   "source": [
    "sample_3 = sc.read_10x_mtx('../../../../sandbox_scRNA_testAndFeedback/scRNASeq_course/Data/cellranger_sample3/outs/filtered_feature_bc_matrix/', cache=True)"
   ]
  },
  {
   "cell_type": "markdown",
   "id": "2fce61c8",
   "metadata": {},
   "source": [
    "The datasets `sample_2` and `sample_3` are now created. They are so-called `Annotated datasets`. Each annotated dataset contains:\n",
    "\n",
    "\n",
    "*   The data matrix `X` of size $N\\_cells \\times N\\_genes$\n",
    "*   Vectors of cells-related quantities in the table `obs`(for example, how many transcripts there are in each cell)\n",
    "* Vectors of genes-related quantities in the table `var` (for example, in how many cells the each gene is detected)\n",
    "* Matrices of size $N\\_cells \\times N\\_genes$ in `adata.layers` (for example, normalized data matrix, imputed data matrix, ....)\n",
    "\n",
    "We will often call the cells for observations (obs) and the genes for variables (var) when it is practical in relation to the annotated dataset\n",
    "\n",
    "During the analysis we will encounter other components of the annotated datasets. They will be explained when it is necessary, so you might want to skip this explanation if you want.\n",
    "\n",
    "* Matrices where each line is cell-related in `obsm` (for example, the PCA coordinates of each cell)\n",
    "* Matrices where each line is gene-related in `adata.varm` (for example, mean of the gene in each cell type)\n",
    "* Anything else useful is in `adata.uns` and some quantities necessary for the `scanpy` package are saved in `obsp`\n",
    "\n",
    "![alt text](https://falexwolf.de/img/scanpy/anndata.svg)\n",
    "\n",
    "**Above:** a representation of the data matrix, variable and observations in an annotated dataset.  "
   ]
  },
  {
   "cell_type": "markdown",
   "id": "a2f15336",
   "metadata": {},
   "source": [
    "Each component of the annotated dataset is called by using a `dot`, For example, we can see the data matrix by"
   ]
  },
  {
   "cell_type": "code",
   "execution_count": null,
   "id": "6857c238",
   "metadata": {},
   "outputs": [],
   "source": [
    "sample_2.X"
   ]
  },
  {
   "cell_type": "markdown",
   "id": "52a3a8a2",
   "metadata": {},
   "source": [
    "The matrix is in compressed format. We can reassign it as a dense matrix, so that we can see what it contains."
   ]
  },
  {
   "cell_type": "code",
   "execution_count": null,
   "id": "bd8587d0",
   "metadata": {},
   "outputs": [],
   "source": [
    "sample_2.X = np.array( sample_2.X.todense() )"
   ]
  },
  {
   "cell_type": "code",
   "execution_count": null,
   "id": "db9e9b06",
   "metadata": {},
   "outputs": [],
   "source": [
    "sample_2.X"
   ]
  },
  {
   "cell_type": "code",
   "execution_count": null,
   "id": "88941832",
   "metadata": {},
   "outputs": [],
   "source": [
    "sample_3.X = np.array( sample_3.X.todense() )"
   ]
  },
  {
   "cell_type": "code",
   "execution_count": null,
   "id": "0b85ec8d",
   "metadata": {},
   "outputs": [],
   "source": [
    "sample_3.X"
   ]
  },
  {
   "cell_type": "markdown",
   "id": "93dc8487",
   "metadata": {},
   "source": [
    "When the matrix is no longer compressed, we can calculate some statistics for both cells and genes with the following `scanpy` command. Note that all scanpy commands follow a similar format. The two commands used below are the same, but in the second we used the short form for the `preprocessing` category."
   ]
  },
  {
   "cell_type": "code",
   "execution_count": null,
   "id": "6277c124",
   "metadata": {},
   "outputs": [],
   "source": [
    "sc.preprocessing.calculate_qc_metrics(sample_2, inplace=True)\n",
    "sc.pp.calculate_qc_metrics(sample_3, inplace=True)"
   ]
  },
  {
   "cell_type": "markdown",
   "id": "5aa4cdb0",
   "metadata": {},
   "source": [
    "We can see that `obs` and `var` now contains a lot of different values whose names are mostly self-explicative. For example\n",
    "- `n_genes_by_counts` is the number of detected genes in each cell\n",
    "- `total_counts` is the number of transcripts in each cell\n",
    "- `mean_counts` is the average of counts of each gene across all cells"
   ]
  },
  {
   "cell_type": "code",
   "execution_count": null,
   "id": "0651b6aa",
   "metadata": {},
   "outputs": [],
   "source": [
    "sample_2"
   ]
  },
  {
   "cell_type": "markdown",
   "id": "d1e2e5b0",
   "metadata": {},
   "source": [
    "You can access directly all observations/variables or some of them specifically. Each observation line is named with the cell barcode, while variables have gene names in each line"
   ]
  },
  {
   "cell_type": "code",
   "execution_count": null,
   "id": "1a89917b",
   "metadata": {},
   "outputs": [],
   "source": [
    "sample_2.obs"
   ]
  },
  {
   "cell_type": "code",
   "execution_count": null,
   "id": "5975fee5",
   "metadata": {},
   "outputs": [],
   "source": [
    "sample_2.obs[ ['total_counts','n_genes_by_counts'] ]"
   ]
  },
  {
   "cell_type": "code",
   "execution_count": null,
   "id": "a11547a2",
   "metadata": {},
   "outputs": [],
   "source": [
    "sample_2.var"
   ]
  },
  {
   "cell_type": "markdown",
   "id": "411bf9b4",
   "metadata": {},
   "source": [
    "We store the matrix `X` to save the raw values. We will be able to see it in `layers`, independently of how we transform the matrix `X`"
   ]
  },
  {
   "cell_type": "code",
   "execution_count": null,
   "id": "0e46b88e",
   "metadata": {},
   "outputs": [],
   "source": [
    "sample_2.layers[ 'umi_raw' ] = sample_2.X.copy()"
   ]
  },
  {
   "cell_type": "code",
   "execution_count": null,
   "id": "d2619f5a",
   "metadata": {},
   "outputs": [],
   "source": [
    "sample_3.layers[ 'umi_raw' ] = sample_3.X.copy()"
   ]
  },
  {
   "cell_type": "markdown",
   "id": "ceaec029",
   "metadata": {},
   "source": [
    "We can see that the matrix is stored in `.layers['umi_raw']`, and we can reassign it to `.X` or use it if needed in some future analysis"
   ]
  },
  {
   "cell_type": "code",
   "execution_count": null,
   "id": "b50eb867",
   "metadata": {},
   "outputs": [],
   "source": [
    "sample_2"
   ]
  },
  {
   "cell_type": "code",
   "execution_count": null,
   "id": "c6f983cf",
   "metadata": {},
   "outputs": [],
   "source": [
    "sample_2.layers['umi_raw']"
   ]
  },
  {
   "cell_type": "markdown",
   "id": "3b1df7d6",
   "metadata": {},
   "source": [
    "You can always subset a dataset by using a selection of cells and genes, and assign it as a new dataset (or to itself if you want to filter out some cells or genes)"
   ]
  },
  {
   "cell_type": "markdown",
   "id": "3ac5c49d",
   "metadata": {},
   "source": [
    "An annotated dataset can be subsetted by cells, for example using a quality measure as the number of transcripts per cell"
   ]
  },
  {
   "cell_type": "code",
   "execution_count": null,
   "id": "89d2cf4b",
   "metadata": {},
   "outputs": [],
   "source": [
    "sample_2_qc = sample_2[ sample_2.obs['total_counts']<10000, : ].copy()"
   ]
  },
  {
   "cell_type": "code",
   "execution_count": null,
   "id": "0cc257be",
   "metadata": {},
   "outputs": [],
   "source": [
    "sample_2_qc"
   ]
  },
  {
   "cell_type": "markdown",
   "id": "45b80cf8",
   "metadata": {},
   "source": [
    "In a similar way, you can use values calculated on the genes to subset the data by genes, for example in how many cells each gene is detected"
   ]
  },
  {
   "cell_type": "code",
   "execution_count": null,
   "id": "ddc77d14",
   "metadata": {},
   "outputs": [],
   "source": [
    "sample_2_qc = sample_2[ :, sample_2.var['n_cells_by_counts']>3 ].copy()"
   ]
  },
  {
   "cell_type": "code",
   "execution_count": null,
   "id": "dd8da24a",
   "metadata": {},
   "outputs": [],
   "source": [
    "sample_2_qc"
   ]
  },
  {
   "cell_type": "markdown",
   "id": "9d7d1d56",
   "metadata": {},
   "source": [
    "Note how `sample_2_qc` has first a reduced number of cells and then a reduced number of genes."
   ]
  },
  {
   "cell_type": "markdown",
   "id": "7d2b0cff",
   "metadata": {},
   "source": [
    "Remember that you cannot subset at the same time by cells and genes, for example\n",
    "```\n",
    "sample_2[ sample_2.obs['total_counts']<10000, sample_2.var['mean_counts']>1 ]\n",
    "```\n",
    "but those two steps have to be done separately as shown before."
   ]
  },
  {
   "cell_type": "markdown",
   "id": "f1d60d22",
   "metadata": {},
   "source": [
    "The annotated datasets can be easily saved by using `write`. The format to be used in the file name is `h5ad`."
   ]
  },
  {
   "cell_type": "code",
   "execution_count": null,
   "id": "07ebb790-4042-4706-8b5a-80c95ae8bffa",
   "metadata": {},
   "outputs": [],
   "source": [
    "!mkdir -p ../../Data/notebooks_data"
   ]
  },
  {
   "cell_type": "code",
   "execution_count": null,
   "id": "2c2f2dba",
   "metadata": {
    "tags": []
   },
   "outputs": [],
   "source": [
    "sample_2.write('../../Data/notebooks_data/sample_2.h5ad')"
   ]
  },
  {
   "cell_type": "code",
   "execution_count": null,
   "id": "674c59ce",
   "metadata": {
    "tags": []
   },
   "outputs": [],
   "source": [
    "sample_3.write('../../Data/notebooks_data/sample_3.h5ad')"
   ]
  }
 ],
 "metadata": {
  "kernelspec": {
   "display_name": "Python (scRNA)",
   "language": "python",
   "name": "scrna-environment"
  },
  "language_info": {
   "codemirror_mode": {
    "name": "ipython",
    "version": 3
   },
   "file_extension": ".py",
   "mimetype": "text/x-python",
   "name": "python",
   "nbconvert_exporter": "python",
   "pygments_lexer": "ipython3",
   "version": "3.8.10"
  }
 },
 "nbformat": 4,
 "nbformat_minor": 5
}
