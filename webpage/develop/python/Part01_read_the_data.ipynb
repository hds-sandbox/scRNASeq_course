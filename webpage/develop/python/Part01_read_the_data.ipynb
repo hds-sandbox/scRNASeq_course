{
 "cells": [
  {
   "cell_type": "markdown",
   "id": "f7a9308c",
   "metadata": {},
   "source": [
    "# **Read the data**\n",
    "\n",
    "---------------------------\n",
    "\n",
    "## Learning objectives:\n",
    "- Get an overview of the `scanpy` package and the `python` language syntax\n",
    "- Learn and explore the data structure containing a single cell dataset\n",
    "- Understand and apply basic interactions with the transcript matrix and the components of a dataset\n",
    "----------------\n",
    "**Execution time: 30-60 minutes**"
   ]
  },
  {
   "cell_type": "markdown",
   "id": "35e8fd8e",
   "metadata": {},
   "source": [
    "------------------------------------"
   ]
  },
  {
   "cell_type": "markdown",
   "id": "2e59bf32",
   "metadata": {},
   "source": [
    "## Import the packages\n",
    "We will use `scanpy` as the main analysis tool for the analysis, where we will also apply some other packages. Scanpy has a comprehensive [manual webpage](https://scanpy.readthedocs.io/en/stable/) that includes many different tutorial you can use for further practicing. Packages are imported with the command `import`, and their name is shortened with the command `as`, so that we can write shorter names in our code\n",
    "\n",
    "An alternative and well-established tool for `R` users is [Seurat](https://satijalab.org/seurat/). This is used in the `R` version of this course."
   ]
  },
  {
   "cell_type": "code",
   "execution_count": 1,
   "id": "84afe9ce",
   "metadata": {},
   "outputs": [],
   "source": [
    "import scanpy as sc\n",
    "import pandas as pd\n",
    "import scvelo as scv\n",
    "import numpy as np\n",
    "import seaborn as sns\n",
    "import matplotlib.pyplot as plt\n",
    "import sklearn"
   ]
  },
  {
   "cell_type": "markdown",
   "id": "f6ff7092",
   "metadata": {},
   "source": [
    "Commands from scanpy are under different categories: preprocessing (pp), tools (tl), plotting (pl). Each category contains some functions to work on single cell data. Scanpy has also a category called `external`, where a few external packages have been integrated to work with scanpy. Use the `help()` command to see what a command does in `python`"
   ]
  },
  {
   "cell_type": "code",
   "execution_count": 2,
   "id": "6e0c9b44",
   "metadata": {},
   "outputs": [
    {
     "name": "stdout",
     "output_type": "stream",
     "text": [
      "Help on function calculate_qc_metrics in module scanpy.preprocessing._qc:\n",
      "\n",
      "calculate_qc_metrics(adata: anndata._core.anndata.AnnData, *, expr_type: str = 'counts', var_type: str = 'genes', qc_vars: Collection[str] = (), percent_top: Union[Collection[int], NoneType] = (50, 100, 200, 500), layer: Union[str, NoneType] = None, use_raw: bool = False, inplace: bool = False, log1p: bool = True, parallel: Union[bool, NoneType] = None) -> Union[Tuple[pandas.core.frame.DataFrame, pandas.core.frame.DataFrame], NoneType]\n",
      "    Calculate quality control metrics.\n",
      "    \n",
      "    Calculates a number of qc metrics for an AnnData object, see section\n",
      "    `Returns` for specifics. Largely based on `calculateQCMetrics` from scater\n",
      "    [McCarthy17]_. Currently is most efficient on a sparse CSR or dense matrix.\n",
      "    \n",
      "    Note that this method can take a while to compile on the first call. That\n",
      "    result is then cached to disk to be used later.\n",
      "    \n",
      "    Parameters\n",
      "    ----------\n",
      "    adata\n",
      "        Annotated data matrix.\n",
      "    expr_type\n",
      "        Name of kind of values in X.\n",
      "    var_type\n",
      "        The kind of thing the variables are.\n",
      "    qc_vars\n",
      "        Keys for boolean columns of `.var` which identify variables you could\n",
      "        want to control for (e.g. \"ERCC\" or \"mito\").\n",
      "    percent_top\n",
      "        Which proportions of top genes to cover. If empty or `None` don't\n",
      "        calculate. Values are considered 1-indexed, `percent_top=[50]` finds\n",
      "        cumulative proportion to the 50th most expressed gene.\n",
      "    layer\n",
      "        If provided, use `adata.layers[layer]` for expression values instead\n",
      "        of `adata.X`.\n",
      "    use_raw\n",
      "        If True, use `adata.raw.X` for expression values instead of `adata.X`.\n",
      "    inplace\n",
      "        Whether to place calculated metrics in `adata`'s `.obs` and `.var`.\n",
      "    log1p\n",
      "        Set to `False` to skip computing `log1p` transformed annotations.\n",
      "    \n",
      "    Returns\n",
      "    -------\n",
      "    Depending on `inplace` returns calculated metrics\n",
      "    (as :class:`~pandas.DataFrame`) or updates `adata`'s `obs` and `var`.\n",
      "    \n",
      "    Observation level metrics include:\n",
      "    \n",
      "    `total_{var_type}_by_{expr_type}`\n",
      "        E.g. \"total_genes_by_counts\". Number of genes with positive counts in a cell.\n",
      "    `total_{expr_type}`\n",
      "        E.g. \"total_counts\". Total number of counts for a cell.\n",
      "    `pct_{expr_type}_in_top_{n}_{var_type}` – for `n` in `percent_top`\n",
      "        E.g. \"pct_counts_in_top_50_genes\". Cumulative percentage of counts\n",
      "        for 50 most expressed genes in a cell.\n",
      "    `total_{expr_type}_{qc_var}` – for `qc_var` in `qc_vars`\n",
      "        E.g. \"total_counts_mito\". Total number of counts for variabes in\n",
      "        `qc_vars`.\n",
      "    `pct_{expr_type}_{qc_var}` – for `qc_var` in `qc_vars`\n",
      "        E.g. \"pct_counts_mito\". Proportion of total counts for a cell which\n",
      "        are mitochondrial.\n",
      "    \n",
      "    Variable level metrics include:\n",
      "    \n",
      "    `total_{expr_type}`\n",
      "        E.g. \"total_counts\". Sum of counts for a gene.\n",
      "    `mean_{expr_type}`\n",
      "        E.g. \"mean counts\". Mean expression over all cells.\n",
      "    `n_cells_by_{expr_type}`\n",
      "        E.g. \"n_cells_by_counts\". Number of cells this expression is\n",
      "        measured in.\n",
      "    `pct_dropout_by_{expr_type}`\n",
      "        E.g. \"pct_dropout_by_counts\". Percentage of cells this feature does\n",
      "        not appear in.\n",
      "    \n",
      "    Example\n",
      "    -------\n",
      "    Calculate qc metrics for visualization.\n",
      "    \n",
      "    >>> import scanpy as sc\n",
      "    >>> import seaborn as sns\n",
      "    >>> adata = sc.datasets.pbmc3k()\n",
      "    >>> sc.pp.calculate_qc_metrics(adata, inplace=True)\n",
      "    >>> sns.jointplot(\n",
      "            \"log1p_total_counts\", \"log1p_n_genes_by_counts\",\n",
      "            data=adata.obs, kind=\"hex\"\n",
      "        )\n",
      "\n"
     ]
    }
   ],
   "source": [
    "help(sc.preprocessing.calculate_qc_metrics)"
   ]
  },
  {
   "cell_type": "markdown",
   "id": "b1bc92ac",
   "metadata": {},
   "source": [
    "## Loading and understanding the dataset structure\n",
    "\n",
    "Data can be loaded from many different possible formats. Each format has a dedicated reading command, for example `read_h5ad`, `read_10X_mtx`, `read_txt`. We are going to use `read_10X_mtx` to load the output of the 10X software that produces the aligned data. \n",
    "\n",
    "Note the option `cache=True`. If you are going to read again the same data, it will be loaded extremely fast, because it has been stored in a convenient format for large datasets (`h5ad` format)"
   ]
  },
  {
   "cell_type": "code",
   "execution_count": 2,
   "id": "afa55f45",
   "metadata": {},
   "outputs": [],
   "source": [
    "sample_2 = sc.read_10x_mtx('../Data/cellranger/cellranger_sample2/outs/filtered_feature_bc_matrix/', cache=True)"
   ]
  },
  {
   "cell_type": "code",
   "execution_count": 3,
   "id": "94b584e3",
   "metadata": {},
   "outputs": [],
   "source": [
    "sample_3 = sc.read_10x_mtx('../Data/cellranger/cellranger_sample3/outs/filtered_feature_bc_matrix/', cache=True)"
   ]
  },
  {
   "cell_type": "markdown",
   "id": "2fce61c8",
   "metadata": {},
   "source": [
    "The datasets `sample_2` and `sample_3` are now created. They are so-called `Annotated datasets`. Each annotated dataset contains:\n",
    "\n",
    "\n",
    "*   The data matrix `X` of size $N\\_cells \\times N\\_genes$\n",
    "*   Vectors of cells-related quantities in the table `obs`(for example, how many transcripts there are in each cell)\n",
    "* Vectors of genes-related quantities in the table `var` (for example, in how many cells the each gene is detected)\n",
    "* Matrices of size $N\\_cells \\times N\\_genes$ in `adata.layers` (for example, normalized data matrix, imputed data matrix, ....)\n",
    "\n",
    "We will often call the cells for observations (obs) and the genes for variables (var) when it is practical in relation to the annotated dataset\n",
    "\n",
    "During the analysis we will encounter other components of the annotated datasets. They will be explained when it is necessary, so you might want to skip this explanation if you want.\n",
    "\n",
    "* Matrices where each line is cell-related in `obsm` (for example, the PCA coordinates of each cell)\n",
    "* Matrices where each line is gene-related in `adata.varm` (for example, mean of the gene in each cell type)\n",
    "* Anything else useful is in `adata.uns` and some quantities necessary for the `scanpy` package are saved in `obsp`\n",
    "\n",
    "![alt text](https://falexwolf.de/img/scanpy/anndata.svg)\n",
    "\n",
    "**Above:** a representation of the data matrix, variable and observations in an annotated dataset.  "
   ]
  },
  {
   "cell_type": "markdown",
   "id": "a2f15336",
   "metadata": {},
   "source": [
    "Each component of the annotated dataset is called by using a `dot`, For example, we can see the data matrix by"
   ]
  },
  {
   "cell_type": "code",
   "execution_count": 4,
   "id": "6857c238",
   "metadata": {},
   "outputs": [
    {
     "data": {
      "text/plain": [
       "<8583x36601 sparse matrix of type '<class 'numpy.float32'>'\n",
       "\twith 22578947 stored elements in Compressed Sparse Row format>"
      ]
     },
     "execution_count": 4,
     "metadata": {},
     "output_type": "execute_result"
    }
   ],
   "source": [
    "sample_2.X"
   ]
  },
  {
   "cell_type": "markdown",
   "id": "52a3a8a2",
   "metadata": {},
   "source": [
    "The matrix is in compressed format. We can reassign it as a dense matrix, so that we can see what it contains."
   ]
  },
  {
   "cell_type": "code",
   "execution_count": 5,
   "id": "bd8587d0",
   "metadata": {},
   "outputs": [],
   "source": [
    "sample_2.X = np.array( sample_2.X.todense() )"
   ]
  },
  {
   "cell_type": "code",
   "execution_count": 6,
   "id": "db9e9b06",
   "metadata": {},
   "outputs": [
    {
     "data": {
      "text/plain": [
       "array([[0., 0., 0., ..., 0., 0., 0.],\n",
       "       [0., 0., 0., ..., 0., 1., 0.],\n",
       "       [0., 0., 0., ..., 0., 0., 0.],\n",
       "       ...,\n",
       "       [0., 0., 0., ..., 0., 0., 0.],\n",
       "       [0., 0., 0., ..., 0., 0., 0.],\n",
       "       [0., 0., 0., ..., 0., 0., 0.]], dtype=float32)"
      ]
     },
     "execution_count": 6,
     "metadata": {},
     "output_type": "execute_result"
    }
   ],
   "source": [
    "sample_2.X"
   ]
  },
  {
   "cell_type": "code",
   "execution_count": 7,
   "id": "88941832",
   "metadata": {},
   "outputs": [],
   "source": [
    "sample_3.X = np.array( sample_3.X.todense() )"
   ]
  },
  {
   "cell_type": "code",
   "execution_count": 8,
   "id": "0b85ec8d",
   "metadata": {},
   "outputs": [
    {
     "data": {
      "text/plain": [
       "array([[0., 0., 0., ..., 0., 0., 0.],\n",
       "       [0., 0., 0., ..., 0., 0., 0.],\n",
       "       [0., 0., 0., ..., 0., 0., 0.],\n",
       "       ...,\n",
       "       [0., 0., 0., ..., 0., 0., 0.],\n",
       "       [0., 0., 0., ..., 0., 0., 0.],\n",
       "       [0., 0., 0., ..., 0., 0., 0.]], dtype=float32)"
      ]
     },
     "execution_count": 8,
     "metadata": {},
     "output_type": "execute_result"
    }
   ],
   "source": [
    "sample_3.X"
   ]
  },
  {
   "cell_type": "markdown",
   "id": "93dc8487",
   "metadata": {},
   "source": [
    "When the matrix is no longer compressed, we can calculate some statistics for both cells and genes with the following `scanpy` command. Note that all scanpy commands follow a similar format. The two commands used below are the same, but in the second we used the short form for the `preprocessing` category."
   ]
  },
  {
   "cell_type": "code",
   "execution_count": 9,
   "id": "6277c124",
   "metadata": {},
   "outputs": [],
   "source": [
    "sc.preprocessing.calculate_qc_metrics(sample_2, inplace=True)\n",
    "sc.pp.calculate_qc_metrics(sample_3, inplace=True)"
   ]
  },
  {
   "cell_type": "markdown",
   "id": "5aa4cdb0",
   "metadata": {},
   "source": [
    "We can see that `obs` and `var` now contains a lot of different values whose names are mostly self-explicative. For example\n",
    "- `n_genes_by_counts` is the number of detected genes in each cell\n",
    "- `total_counts` is the number of transcripts in each cell\n",
    "- `mean_counts` is the average of counts of each gene across all cells"
   ]
  },
  {
   "cell_type": "code",
   "execution_count": 10,
   "id": "0651b6aa",
   "metadata": {},
   "outputs": [
    {
     "data": {
      "text/plain": [
       "AnnData object with n_obs × n_vars = 8583 × 36601\n",
       "    obs: 'n_genes_by_counts', 'log1p_n_genes_by_counts', 'total_counts', 'log1p_total_counts', 'pct_counts_in_top_50_genes', 'pct_counts_in_top_100_genes', 'pct_counts_in_top_200_genes', 'pct_counts_in_top_500_genes'\n",
       "    var: 'gene_ids', 'feature_types', 'n_cells_by_counts', 'mean_counts', 'log1p_mean_counts', 'pct_dropout_by_counts', 'total_counts', 'log1p_total_counts'"
      ]
     },
     "execution_count": 10,
     "metadata": {},
     "output_type": "execute_result"
    }
   ],
   "source": [
    "sample_2"
   ]
  },
  {
   "cell_type": "markdown",
   "id": "d1e2e5b0",
   "metadata": {},
   "source": [
    "You can access directly all observations/variables or some of them specifically. Each observation line is named with the cell barcode, while variables have gene names in each line"
   ]
  },
  {
   "cell_type": "code",
   "execution_count": 11,
   "id": "1a89917b",
   "metadata": {},
   "outputs": [
    {
     "data": {
      "text/html": [
       "<div>\n",
       "<style scoped>\n",
       "    .dataframe tbody tr th:only-of-type {\n",
       "        vertical-align: middle;\n",
       "    }\n",
       "\n",
       "    .dataframe tbody tr th {\n",
       "        vertical-align: top;\n",
       "    }\n",
       "\n",
       "    .dataframe thead th {\n",
       "        text-align: right;\n",
       "    }\n",
       "</style>\n",
       "<table border=\"1\" class=\"dataframe\">\n",
       "  <thead>\n",
       "    <tr style=\"text-align: right;\">\n",
       "      <th></th>\n",
       "      <th>n_genes_by_counts</th>\n",
       "      <th>log1p_n_genes_by_counts</th>\n",
       "      <th>total_counts</th>\n",
       "      <th>log1p_total_counts</th>\n",
       "      <th>pct_counts_in_top_50_genes</th>\n",
       "      <th>pct_counts_in_top_100_genes</th>\n",
       "      <th>pct_counts_in_top_200_genes</th>\n",
       "      <th>pct_counts_in_top_500_genes</th>\n",
       "    </tr>\n",
       "  </thead>\n",
       "  <tbody>\n",
       "    <tr>\n",
       "      <th>AAACCTGAGATCCTGT-1</th>\n",
       "      <td>473</td>\n",
       "      <td>6.161207</td>\n",
       "      <td>694.0</td>\n",
       "      <td>6.543912</td>\n",
       "      <td>32.853026</td>\n",
       "      <td>46.253602</td>\n",
       "      <td>60.662824</td>\n",
       "      <td>100.000000</td>\n",
       "    </tr>\n",
       "    <tr>\n",
       "      <th>AAACCTGAGCCTATGT-1</th>\n",
       "      <td>2016</td>\n",
       "      <td>7.609367</td>\n",
       "      <td>6868.0</td>\n",
       "      <td>8.834774</td>\n",
       "      <td>47.408270</td>\n",
       "      <td>53.567268</td>\n",
       "      <td>61.560862</td>\n",
       "      <td>74.635993</td>\n",
       "    </tr>\n",
       "    <tr>\n",
       "      <th>AAACCTGAGCTTTGGT-1</th>\n",
       "      <td>3670</td>\n",
       "      <td>8.208219</td>\n",
       "      <td>9188.0</td>\n",
       "      <td>9.125762</td>\n",
       "      <td>17.599042</td>\n",
       "      <td>25.555072</td>\n",
       "      <td>35.154549</td>\n",
       "      <td>51.273400</td>\n",
       "    </tr>\n",
       "    <tr>\n",
       "      <th>AAACCTGAGGATGGTC-1</th>\n",
       "      <td>2175</td>\n",
       "      <td>7.685244</td>\n",
       "      <td>4021.0</td>\n",
       "      <td>8.299535</td>\n",
       "      <td>13.603581</td>\n",
       "      <td>21.139020</td>\n",
       "      <td>32.131311</td>\n",
       "      <td>51.927381</td>\n",
       "    </tr>\n",
       "    <tr>\n",
       "      <th>AAACCTGAGTACGACG-1</th>\n",
       "      <td>1622</td>\n",
       "      <td>7.392032</td>\n",
       "      <td>3237.0</td>\n",
       "      <td>8.082711</td>\n",
       "      <td>20.883534</td>\n",
       "      <td>30.552981</td>\n",
       "      <td>42.570281</td>\n",
       "      <td>63.608279</td>\n",
       "    </tr>\n",
       "    <tr>\n",
       "      <th>...</th>\n",
       "      <td>...</td>\n",
       "      <td>...</td>\n",
       "      <td>...</td>\n",
       "      <td>...</td>\n",
       "      <td>...</td>\n",
       "      <td>...</td>\n",
       "      <td>...</td>\n",
       "      <td>...</td>\n",
       "    </tr>\n",
       "    <tr>\n",
       "      <th>TTTGTCATCACGACTA-1</th>\n",
       "      <td>3234</td>\n",
       "      <td>8.081784</td>\n",
       "      <td>6918.0</td>\n",
       "      <td>8.842027</td>\n",
       "      <td>13.356461</td>\n",
       "      <td>20.381613</td>\n",
       "      <td>29.719572</td>\n",
       "      <td>46.863255</td>\n",
       "    </tr>\n",
       "    <tr>\n",
       "      <th>TTTGTCATCAGTTTGG-1</th>\n",
       "      <td>1312</td>\n",
       "      <td>7.180070</td>\n",
       "      <td>2895.0</td>\n",
       "      <td>7.971086</td>\n",
       "      <td>32.918826</td>\n",
       "      <td>44.006908</td>\n",
       "      <td>55.613126</td>\n",
       "      <td>71.951641</td>\n",
       "    </tr>\n",
       "    <tr>\n",
       "      <th>TTTGTCATCCAAACTG-1</th>\n",
       "      <td>1009</td>\n",
       "      <td>6.917706</td>\n",
       "      <td>1461.0</td>\n",
       "      <td>7.287560</td>\n",
       "      <td>20.123203</td>\n",
       "      <td>29.295003</td>\n",
       "      <td>42.984257</td>\n",
       "      <td>65.160849</td>\n",
       "    </tr>\n",
       "    <tr>\n",
       "      <th>TTTGTCATCCGTCAAA-1</th>\n",
       "      <td>1399</td>\n",
       "      <td>7.244228</td>\n",
       "      <td>2712.0</td>\n",
       "      <td>7.905810</td>\n",
       "      <td>28.945428</td>\n",
       "      <td>40.007375</td>\n",
       "      <td>50.884956</td>\n",
       "      <td>66.851032</td>\n",
       "    </tr>\n",
       "    <tr>\n",
       "      <th>TTTGTCATCGTTACAG-1</th>\n",
       "      <td>3294</td>\n",
       "      <td>8.100161</td>\n",
       "      <td>7757.0</td>\n",
       "      <td>8.956480</td>\n",
       "      <td>25.125693</td>\n",
       "      <td>33.518113</td>\n",
       "      <td>42.671136</td>\n",
       "      <td>56.323321</td>\n",
       "    </tr>\n",
       "  </tbody>\n",
       "</table>\n",
       "<p>8583 rows × 8 columns</p>\n",
       "</div>"
      ],
      "text/plain": [
       "                    n_genes_by_counts  log1p_n_genes_by_counts  total_counts  \\\n",
       "AAACCTGAGATCCTGT-1                473                 6.161207         694.0   \n",
       "AAACCTGAGCCTATGT-1               2016                 7.609367        6868.0   \n",
       "AAACCTGAGCTTTGGT-1               3670                 8.208219        9188.0   \n",
       "AAACCTGAGGATGGTC-1               2175                 7.685244        4021.0   \n",
       "AAACCTGAGTACGACG-1               1622                 7.392032        3237.0   \n",
       "...                               ...                      ...           ...   \n",
       "TTTGTCATCACGACTA-1               3234                 8.081784        6918.0   \n",
       "TTTGTCATCAGTTTGG-1               1312                 7.180070        2895.0   \n",
       "TTTGTCATCCAAACTG-1               1009                 6.917706        1461.0   \n",
       "TTTGTCATCCGTCAAA-1               1399                 7.244228        2712.0   \n",
       "TTTGTCATCGTTACAG-1               3294                 8.100161        7757.0   \n",
       "\n",
       "                    log1p_total_counts  pct_counts_in_top_50_genes  \\\n",
       "AAACCTGAGATCCTGT-1            6.543912                   32.853026   \n",
       "AAACCTGAGCCTATGT-1            8.834774                   47.408270   \n",
       "AAACCTGAGCTTTGGT-1            9.125762                   17.599042   \n",
       "AAACCTGAGGATGGTC-1            8.299535                   13.603581   \n",
       "AAACCTGAGTACGACG-1            8.082711                   20.883534   \n",
       "...                                ...                         ...   \n",
       "TTTGTCATCACGACTA-1            8.842027                   13.356461   \n",
       "TTTGTCATCAGTTTGG-1            7.971086                   32.918826   \n",
       "TTTGTCATCCAAACTG-1            7.287560                   20.123203   \n",
       "TTTGTCATCCGTCAAA-1            7.905810                   28.945428   \n",
       "TTTGTCATCGTTACAG-1            8.956480                   25.125693   \n",
       "\n",
       "                    pct_counts_in_top_100_genes  pct_counts_in_top_200_genes  \\\n",
       "AAACCTGAGATCCTGT-1                    46.253602                    60.662824   \n",
       "AAACCTGAGCCTATGT-1                    53.567268                    61.560862   \n",
       "AAACCTGAGCTTTGGT-1                    25.555072                    35.154549   \n",
       "AAACCTGAGGATGGTC-1                    21.139020                    32.131311   \n",
       "AAACCTGAGTACGACG-1                    30.552981                    42.570281   \n",
       "...                                         ...                          ...   \n",
       "TTTGTCATCACGACTA-1                    20.381613                    29.719572   \n",
       "TTTGTCATCAGTTTGG-1                    44.006908                    55.613126   \n",
       "TTTGTCATCCAAACTG-1                    29.295003                    42.984257   \n",
       "TTTGTCATCCGTCAAA-1                    40.007375                    50.884956   \n",
       "TTTGTCATCGTTACAG-1                    33.518113                    42.671136   \n",
       "\n",
       "                    pct_counts_in_top_500_genes  \n",
       "AAACCTGAGATCCTGT-1                   100.000000  \n",
       "AAACCTGAGCCTATGT-1                    74.635993  \n",
       "AAACCTGAGCTTTGGT-1                    51.273400  \n",
       "AAACCTGAGGATGGTC-1                    51.927381  \n",
       "AAACCTGAGTACGACG-1                    63.608279  \n",
       "...                                         ...  \n",
       "TTTGTCATCACGACTA-1                    46.863255  \n",
       "TTTGTCATCAGTTTGG-1                    71.951641  \n",
       "TTTGTCATCCAAACTG-1                    65.160849  \n",
       "TTTGTCATCCGTCAAA-1                    66.851032  \n",
       "TTTGTCATCGTTACAG-1                    56.323321  \n",
       "\n",
       "[8583 rows x 8 columns]"
      ]
     },
     "execution_count": 11,
     "metadata": {},
     "output_type": "execute_result"
    }
   ],
   "source": [
    "sample_2.obs"
   ]
  },
  {
   "cell_type": "code",
   "execution_count": 12,
   "id": "5975fee5",
   "metadata": {},
   "outputs": [
    {
     "data": {
      "text/html": [
       "<div>\n",
       "<style scoped>\n",
       "    .dataframe tbody tr th:only-of-type {\n",
       "        vertical-align: middle;\n",
       "    }\n",
       "\n",
       "    .dataframe tbody tr th {\n",
       "        vertical-align: top;\n",
       "    }\n",
       "\n",
       "    .dataframe thead th {\n",
       "        text-align: right;\n",
       "    }\n",
       "</style>\n",
       "<table border=\"1\" class=\"dataframe\">\n",
       "  <thead>\n",
       "    <tr style=\"text-align: right;\">\n",
       "      <th></th>\n",
       "      <th>total_counts</th>\n",
       "      <th>n_genes_by_counts</th>\n",
       "    </tr>\n",
       "  </thead>\n",
       "  <tbody>\n",
       "    <tr>\n",
       "      <th>AAACCTGAGATCCTGT-1</th>\n",
       "      <td>694.0</td>\n",
       "      <td>473</td>\n",
       "    </tr>\n",
       "    <tr>\n",
       "      <th>AAACCTGAGCCTATGT-1</th>\n",
       "      <td>6868.0</td>\n",
       "      <td>2016</td>\n",
       "    </tr>\n",
       "    <tr>\n",
       "      <th>AAACCTGAGCTTTGGT-1</th>\n",
       "      <td>9188.0</td>\n",
       "      <td>3670</td>\n",
       "    </tr>\n",
       "    <tr>\n",
       "      <th>AAACCTGAGGATGGTC-1</th>\n",
       "      <td>4021.0</td>\n",
       "      <td>2175</td>\n",
       "    </tr>\n",
       "    <tr>\n",
       "      <th>AAACCTGAGTACGACG-1</th>\n",
       "      <td>3237.0</td>\n",
       "      <td>1622</td>\n",
       "    </tr>\n",
       "    <tr>\n",
       "      <th>...</th>\n",
       "      <td>...</td>\n",
       "      <td>...</td>\n",
       "    </tr>\n",
       "    <tr>\n",
       "      <th>TTTGTCATCACGACTA-1</th>\n",
       "      <td>6918.0</td>\n",
       "      <td>3234</td>\n",
       "    </tr>\n",
       "    <tr>\n",
       "      <th>TTTGTCATCAGTTTGG-1</th>\n",
       "      <td>2895.0</td>\n",
       "      <td>1312</td>\n",
       "    </tr>\n",
       "    <tr>\n",
       "      <th>TTTGTCATCCAAACTG-1</th>\n",
       "      <td>1461.0</td>\n",
       "      <td>1009</td>\n",
       "    </tr>\n",
       "    <tr>\n",
       "      <th>TTTGTCATCCGTCAAA-1</th>\n",
       "      <td>2712.0</td>\n",
       "      <td>1399</td>\n",
       "    </tr>\n",
       "    <tr>\n",
       "      <th>TTTGTCATCGTTACAG-1</th>\n",
       "      <td>7757.0</td>\n",
       "      <td>3294</td>\n",
       "    </tr>\n",
       "  </tbody>\n",
       "</table>\n",
       "<p>8583 rows × 2 columns</p>\n",
       "</div>"
      ],
      "text/plain": [
       "                    total_counts  n_genes_by_counts\n",
       "AAACCTGAGATCCTGT-1         694.0                473\n",
       "AAACCTGAGCCTATGT-1        6868.0               2016\n",
       "AAACCTGAGCTTTGGT-1        9188.0               3670\n",
       "AAACCTGAGGATGGTC-1        4021.0               2175\n",
       "AAACCTGAGTACGACG-1        3237.0               1622\n",
       "...                          ...                ...\n",
       "TTTGTCATCACGACTA-1        6918.0               3234\n",
       "TTTGTCATCAGTTTGG-1        2895.0               1312\n",
       "TTTGTCATCCAAACTG-1        1461.0               1009\n",
       "TTTGTCATCCGTCAAA-1        2712.0               1399\n",
       "TTTGTCATCGTTACAG-1        7757.0               3294\n",
       "\n",
       "[8583 rows x 2 columns]"
      ]
     },
     "execution_count": 12,
     "metadata": {},
     "output_type": "execute_result"
    }
   ],
   "source": [
    "sample_2.obs[ ['total_counts','n_genes_by_counts'] ]"
   ]
  },
  {
   "cell_type": "code",
   "execution_count": 13,
   "id": "a11547a2",
   "metadata": {},
   "outputs": [
    {
     "data": {
      "text/html": [
       "<div>\n",
       "<style scoped>\n",
       "    .dataframe tbody tr th:only-of-type {\n",
       "        vertical-align: middle;\n",
       "    }\n",
       "\n",
       "    .dataframe tbody tr th {\n",
       "        vertical-align: top;\n",
       "    }\n",
       "\n",
       "    .dataframe thead th {\n",
       "        text-align: right;\n",
       "    }\n",
       "</style>\n",
       "<table border=\"1\" class=\"dataframe\">\n",
       "  <thead>\n",
       "    <tr style=\"text-align: right;\">\n",
       "      <th></th>\n",
       "      <th>gene_ids</th>\n",
       "      <th>feature_types</th>\n",
       "      <th>n_cells_by_counts</th>\n",
       "      <th>mean_counts</th>\n",
       "      <th>log1p_mean_counts</th>\n",
       "      <th>pct_dropout_by_counts</th>\n",
       "      <th>total_counts</th>\n",
       "      <th>log1p_total_counts</th>\n",
       "    </tr>\n",
       "  </thead>\n",
       "  <tbody>\n",
       "    <tr>\n",
       "      <th>MIR1302-2HG</th>\n",
       "      <td>ENSG00000243485</td>\n",
       "      <td>Gene Expression</td>\n",
       "      <td>13</td>\n",
       "      <td>0.001515</td>\n",
       "      <td>0.001513</td>\n",
       "      <td>99.848538</td>\n",
       "      <td>13.0</td>\n",
       "      <td>2.639057</td>\n",
       "    </tr>\n",
       "    <tr>\n",
       "      <th>FAM138A</th>\n",
       "      <td>ENSG00000237613</td>\n",
       "      <td>Gene Expression</td>\n",
       "      <td>0</td>\n",
       "      <td>0.000000</td>\n",
       "      <td>0.000000</td>\n",
       "      <td>100.000000</td>\n",
       "      <td>0.0</td>\n",
       "      <td>0.000000</td>\n",
       "    </tr>\n",
       "    <tr>\n",
       "      <th>OR4F5</th>\n",
       "      <td>ENSG00000186092</td>\n",
       "      <td>Gene Expression</td>\n",
       "      <td>0</td>\n",
       "      <td>0.000000</td>\n",
       "      <td>0.000000</td>\n",
       "      <td>100.000000</td>\n",
       "      <td>0.0</td>\n",
       "      <td>0.000000</td>\n",
       "    </tr>\n",
       "    <tr>\n",
       "      <th>AL627309.1</th>\n",
       "      <td>ENSG00000238009</td>\n",
       "      <td>Gene Expression</td>\n",
       "      <td>40</td>\n",
       "      <td>0.004777</td>\n",
       "      <td>0.004766</td>\n",
       "      <td>99.533962</td>\n",
       "      <td>41.0</td>\n",
       "      <td>3.737670</td>\n",
       "    </tr>\n",
       "    <tr>\n",
       "      <th>AL627309.3</th>\n",
       "      <td>ENSG00000239945</td>\n",
       "      <td>Gene Expression</td>\n",
       "      <td>0</td>\n",
       "      <td>0.000000</td>\n",
       "      <td>0.000000</td>\n",
       "      <td>100.000000</td>\n",
       "      <td>0.0</td>\n",
       "      <td>0.000000</td>\n",
       "    </tr>\n",
       "    <tr>\n",
       "      <th>...</th>\n",
       "      <td>...</td>\n",
       "      <td>...</td>\n",
       "      <td>...</td>\n",
       "      <td>...</td>\n",
       "      <td>...</td>\n",
       "      <td>...</td>\n",
       "      <td>...</td>\n",
       "      <td>...</td>\n",
       "    </tr>\n",
       "    <tr>\n",
       "      <th>AC141272.1</th>\n",
       "      <td>ENSG00000277836</td>\n",
       "      <td>Gene Expression</td>\n",
       "      <td>0</td>\n",
       "      <td>0.000000</td>\n",
       "      <td>0.000000</td>\n",
       "      <td>100.000000</td>\n",
       "      <td>0.0</td>\n",
       "      <td>0.000000</td>\n",
       "    </tr>\n",
       "    <tr>\n",
       "      <th>AC023491.2</th>\n",
       "      <td>ENSG00000278633</td>\n",
       "      <td>Gene Expression</td>\n",
       "      <td>587</td>\n",
       "      <td>0.249680</td>\n",
       "      <td>0.222887</td>\n",
       "      <td>93.160899</td>\n",
       "      <td>2143.0</td>\n",
       "      <td>7.670429</td>\n",
       "    </tr>\n",
       "    <tr>\n",
       "      <th>AC007325.1</th>\n",
       "      <td>ENSG00000276017</td>\n",
       "      <td>Gene Expression</td>\n",
       "      <td>212</td>\n",
       "      <td>0.040196</td>\n",
       "      <td>0.039409</td>\n",
       "      <td>97.530001</td>\n",
       "      <td>345.0</td>\n",
       "      <td>5.846439</td>\n",
       "    </tr>\n",
       "    <tr>\n",
       "      <th>AC007325.4</th>\n",
       "      <td>ENSG00000278817</td>\n",
       "      <td>Gene Expression</td>\n",
       "      <td>1949</td>\n",
       "      <td>0.436910</td>\n",
       "      <td>0.362495</td>\n",
       "      <td>77.292322</td>\n",
       "      <td>3750.0</td>\n",
       "      <td>8.229777</td>\n",
       "    </tr>\n",
       "    <tr>\n",
       "      <th>AC007325.2</th>\n",
       "      <td>ENSG00000277196</td>\n",
       "      <td>Gene Expression</td>\n",
       "      <td>2</td>\n",
       "      <td>0.000233</td>\n",
       "      <td>0.000233</td>\n",
       "      <td>99.976698</td>\n",
       "      <td>2.0</td>\n",
       "      <td>1.098612</td>\n",
       "    </tr>\n",
       "  </tbody>\n",
       "</table>\n",
       "<p>36601 rows × 8 columns</p>\n",
       "</div>"
      ],
      "text/plain": [
       "                    gene_ids    feature_types  n_cells_by_counts  mean_counts  \\\n",
       "MIR1302-2HG  ENSG00000243485  Gene Expression                 13     0.001515   \n",
       "FAM138A      ENSG00000237613  Gene Expression                  0     0.000000   \n",
       "OR4F5        ENSG00000186092  Gene Expression                  0     0.000000   \n",
       "AL627309.1   ENSG00000238009  Gene Expression                 40     0.004777   \n",
       "AL627309.3   ENSG00000239945  Gene Expression                  0     0.000000   \n",
       "...                      ...              ...                ...          ...   \n",
       "AC141272.1   ENSG00000277836  Gene Expression                  0     0.000000   \n",
       "AC023491.2   ENSG00000278633  Gene Expression                587     0.249680   \n",
       "AC007325.1   ENSG00000276017  Gene Expression                212     0.040196   \n",
       "AC007325.4   ENSG00000278817  Gene Expression               1949     0.436910   \n",
       "AC007325.2   ENSG00000277196  Gene Expression                  2     0.000233   \n",
       "\n",
       "             log1p_mean_counts  pct_dropout_by_counts  total_counts  \\\n",
       "MIR1302-2HG           0.001513              99.848538          13.0   \n",
       "FAM138A               0.000000             100.000000           0.0   \n",
       "OR4F5                 0.000000             100.000000           0.0   \n",
       "AL627309.1            0.004766              99.533962          41.0   \n",
       "AL627309.3            0.000000             100.000000           0.0   \n",
       "...                        ...                    ...           ...   \n",
       "AC141272.1            0.000000             100.000000           0.0   \n",
       "AC023491.2            0.222887              93.160899        2143.0   \n",
       "AC007325.1            0.039409              97.530001         345.0   \n",
       "AC007325.4            0.362495              77.292322        3750.0   \n",
       "AC007325.2            0.000233              99.976698           2.0   \n",
       "\n",
       "             log1p_total_counts  \n",
       "MIR1302-2HG            2.639057  \n",
       "FAM138A                0.000000  \n",
       "OR4F5                  0.000000  \n",
       "AL627309.1             3.737670  \n",
       "AL627309.3             0.000000  \n",
       "...                         ...  \n",
       "AC141272.1             0.000000  \n",
       "AC023491.2             7.670429  \n",
       "AC007325.1             5.846439  \n",
       "AC007325.4             8.229777  \n",
       "AC007325.2             1.098612  \n",
       "\n",
       "[36601 rows x 8 columns]"
      ]
     },
     "execution_count": 13,
     "metadata": {},
     "output_type": "execute_result"
    }
   ],
   "source": [
    "sample_2.var"
   ]
  },
  {
   "cell_type": "markdown",
   "id": "411bf9b4",
   "metadata": {},
   "source": [
    "We store the matrix `X` to save the raw values. We will be able to see it in `layers`, independently of how we transform the matrix `X`"
   ]
  },
  {
   "cell_type": "code",
   "execution_count": 14,
   "id": "0e46b88e",
   "metadata": {},
   "outputs": [],
   "source": [
    "sample_2.layers[ 'umi_raw' ] = sample_2.X.copy()"
   ]
  },
  {
   "cell_type": "code",
   "execution_count": 15,
   "id": "d2619f5a",
   "metadata": {},
   "outputs": [],
   "source": [
    "sample_3.layers[ 'umi_raw' ] = sample_3.X.copy()"
   ]
  },
  {
   "cell_type": "markdown",
   "id": "ceaec029",
   "metadata": {},
   "source": [
    "We can see that the matrix is stored in `.layers['umi_raw']`, and we can reassign it to `.X` or use it if needed in some future analysis"
   ]
  },
  {
   "cell_type": "code",
   "execution_count": 17,
   "id": "b50eb867",
   "metadata": {},
   "outputs": [
    {
     "data": {
      "text/plain": [
       "AnnData object with n_obs × n_vars = 8583 × 36601\n",
       "    obs: 'n_genes_by_counts', 'log1p_n_genes_by_counts', 'total_counts', 'log1p_total_counts', 'pct_counts_in_top_50_genes', 'pct_counts_in_top_100_genes', 'pct_counts_in_top_200_genes', 'pct_counts_in_top_500_genes'\n",
       "    var: 'gene_ids', 'feature_types', 'n_cells_by_counts', 'mean_counts', 'log1p_mean_counts', 'pct_dropout_by_counts', 'total_counts', 'log1p_total_counts'\n",
       "    layers: 'umi_raw'"
      ]
     },
     "execution_count": 17,
     "metadata": {},
     "output_type": "execute_result"
    }
   ],
   "source": [
    "sample_2"
   ]
  },
  {
   "cell_type": "code",
   "execution_count": 18,
   "id": "c6f983cf",
   "metadata": {},
   "outputs": [
    {
     "data": {
      "text/plain": [
       "array([[0., 0., 0., ..., 0., 0., 0.],\n",
       "       [0., 0., 0., ..., 0., 1., 0.],\n",
       "       [0., 0., 0., ..., 0., 0., 0.],\n",
       "       ...,\n",
       "       [0., 0., 0., ..., 0., 0., 0.],\n",
       "       [0., 0., 0., ..., 0., 0., 0.],\n",
       "       [0., 0., 0., ..., 0., 0., 0.]], dtype=float32)"
      ]
     },
     "execution_count": 18,
     "metadata": {},
     "output_type": "execute_result"
    }
   ],
   "source": [
    "sample_2.layers['umi_raw']"
   ]
  },
  {
   "cell_type": "markdown",
   "id": "3b1df7d6",
   "metadata": {},
   "source": [
    "You can always subset a dataset by using a selection of cells and genes, and assign it as a new dataset (or to itself if you want to filter out some cells or genes)"
   ]
  },
  {
   "cell_type": "markdown",
   "id": "3ac5c49d",
   "metadata": {},
   "source": [
    "An annotated dataset can be subsetted by cells, for example using a quality measure as the number of transcripts per cell"
   ]
  },
  {
   "cell_type": "code",
   "execution_count": 22,
   "id": "89d2cf4b",
   "metadata": {},
   "outputs": [],
   "source": [
    "sample_2_qc = sample_2[ sample_2.obs['total_counts']<10000, : ].copy()"
   ]
  },
  {
   "cell_type": "code",
   "execution_count": 23,
   "id": "0cc257be",
   "metadata": {},
   "outputs": [
    {
     "data": {
      "text/plain": [
       "AnnData object with n_obs × n_vars = 5452 × 36601\n",
       "    obs: 'n_genes_by_counts', 'log1p_n_genes_by_counts', 'total_counts', 'log1p_total_counts', 'pct_counts_in_top_50_genes', 'pct_counts_in_top_100_genes', 'pct_counts_in_top_200_genes', 'pct_counts_in_top_500_genes'\n",
       "    var: 'gene_ids', 'feature_types', 'n_cells_by_counts', 'mean_counts', 'log1p_mean_counts', 'pct_dropout_by_counts', 'total_counts', 'log1p_total_counts'\n",
       "    layers: 'umi_raw'"
      ]
     },
     "execution_count": 23,
     "metadata": {},
     "output_type": "execute_result"
    }
   ],
   "source": [
    "sample_2_qc"
   ]
  },
  {
   "cell_type": "markdown",
   "id": "45b80cf8",
   "metadata": {},
   "source": [
    "In a similar way, you can use values calculated on the genes to subset the data by genes, for example in how many cells each gene is detected"
   ]
  },
  {
   "cell_type": "code",
   "execution_count": 24,
   "id": "ddc77d14",
   "metadata": {},
   "outputs": [],
   "source": [
    "sample_2_qc = sample_2[ :, sample_2.var['n_cells_by_counts']>3 ].copy()"
   ]
  },
  {
   "cell_type": "code",
   "execution_count": 25,
   "id": "dd8da24a",
   "metadata": {},
   "outputs": [
    {
     "data": {
      "text/plain": [
       "AnnData object with n_obs × n_vars = 8583 × 28220\n",
       "    obs: 'n_genes_by_counts', 'log1p_n_genes_by_counts', 'total_counts', 'log1p_total_counts', 'pct_counts_in_top_50_genes', 'pct_counts_in_top_100_genes', 'pct_counts_in_top_200_genes', 'pct_counts_in_top_500_genes'\n",
       "    var: 'gene_ids', 'feature_types', 'n_cells_by_counts', 'mean_counts', 'log1p_mean_counts', 'pct_dropout_by_counts', 'total_counts', 'log1p_total_counts'\n",
       "    layers: 'umi_raw'"
      ]
     },
     "execution_count": 25,
     "metadata": {},
     "output_type": "execute_result"
    }
   ],
   "source": [
    "sample_2_qc"
   ]
  },
  {
   "cell_type": "markdown",
   "id": "9d7d1d56",
   "metadata": {},
   "source": [
    "Note how `sample_2_qc` has first a reduced number of cells and then a reduced number of genes."
   ]
  },
  {
   "cell_type": "markdown",
   "id": "7d2b0cff",
   "metadata": {},
   "source": [
    "Remember that you cannot subset at the same time by cells and genes, for example\n",
    "```\n",
    "sample_2[ sample_2.obs['total_counts']<10000, sample_2.var['mean_counts']>1 ]\n",
    "```\n",
    "but those two steps have to be done separately as shown before."
   ]
  },
  {
   "cell_type": "markdown",
   "id": "f1d60d22",
   "metadata": {},
   "source": [
    "The annotated datasets can be easily saved by using `write`. The format to be used in the file name is `h5ad`."
   ]
  },
  {
   "cell_type": "code",
   "execution_count": 37,
   "id": "2c2f2dba",
   "metadata": {},
   "outputs": [],
   "source": [
    "sample_2.write('../Data/notebooks_data/sample_2.h5ad')"
   ]
  },
  {
   "cell_type": "code",
   "execution_count": 38,
   "id": "674c59ce",
   "metadata": {},
   "outputs": [
    {
     "name": "stderr",
     "output_type": "stream",
     "text": [
      "... storing 'feature_types' as categorical\n"
     ]
    }
   ],
   "source": [
    "sample_3.write('../Data/notebooks_data/sample_3.h5ad')"
   ]
  }
 ],
 "metadata": {
  "kernelspec": {
   "display_name": "Python 3 (ipykernel)",
   "language": "python",
   "name": "python3"
  },
  "language_info": {
   "codemirror_mode": {
    "name": "ipython",
    "version": 3
   },
   "file_extension": ".py",
   "mimetype": "text/x-python",
   "name": "python",
   "nbconvert_exporter": "python",
   "pygments_lexer": "ipython3",
   "version": "3.8.10"
  }
 },
 "nbformat": 4,
 "nbformat_minor": 5
}
